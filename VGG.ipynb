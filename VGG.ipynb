{
  "nbformat": 4,
  "nbformat_minor": 0,
  "metadata": {
    "colab": {
      "name": "VGG.ipynb",
      "version": "0.3.2",
      "provenance": [],
      "collapsed_sections": [],
      "include_colab_link": true
    },
    "kernelspec": {
      "name": "python3",
      "display_name": "Python 3"
    }
  },
  "cells": [
    {
      "cell_type": "markdown",
      "metadata": {
        "id": "view-in-github",
        "colab_type": "text"
      },
      "source": [
        "<a href=\"https://colab.research.google.com/github/suleman84/Malaria-Project/blob/master/VGG.ipynb\" target=\"_parent\"><img src=\"https://colab.research.google.com/assets/colab-badge.svg\" alt=\"Open In Colab\"/></a>"
      ]
    },
    {
      "cell_type": "code",
      "metadata": {
        "id": "izICFNWdmu8V",
        "colab_type": "code",
        "outputId": "f7114303-aa2d-45b7-92fe-b9a3fc7967fd",
        "colab": {
          "base_uri": "https://localhost:8080/",
          "height": 124
        }
      },
      "source": [
        "from google.colab import drive\n",
        "drive.mount('/content/gdrive')"
      ],
      "execution_count": 1,
      "outputs": [
        {
          "output_type": "stream",
          "text": [
            "Go to this URL in a browser: https://accounts.google.com/o/oauth2/auth?client_id=947318989803-6bn6qk8qdgf4n4g3pfee6491hc0brc4i.apps.googleusercontent.com&redirect_uri=urn%3Aietf%3Awg%3Aoauth%3A2.0%3Aoob&scope=email%20https%3A%2F%2Fwww.googleapis.com%2Fauth%2Fdocs.test%20https%3A%2F%2Fwww.googleapis.com%2Fauth%2Fdrive%20https%3A%2F%2Fwww.googleapis.com%2Fauth%2Fdrive.photos.readonly%20https%3A%2F%2Fwww.googleapis.com%2Fauth%2Fpeopleapi.readonly&response_type=code\n",
            "\n",
            "Enter your authorization code:\n",
            "··········\n",
            "Mounted at /content/gdrive\n"
          ],
          "name": "stdout"
        }
      ]
    },
    {
      "cell_type": "code",
      "metadata": {
        "id": "GQeX5-AFny_i",
        "colab_type": "code",
        "colab": {}
      },
      "source": [
        "root_path = 'gdrive/My Drive/cell-imagess/'"
      ],
      "execution_count": 0,
      "outputs": []
    },
    {
      "cell_type": "code",
      "metadata": {
        "id": "qXRzHTVNn30s",
        "colab_type": "code",
        "outputId": "0ffeaf93-e5fa-4afd-c306-0cff41784545",
        "colab": {
          "base_uri": "https://localhost:8080/",
          "height": 34
        }
      },
      "source": [
        "import os\n",
        "import sys\n",
        "# import image\n",
        "import numpy as np\n",
        "import matplotlib.pyplot as plt\n",
        "from sklearn.model_selection import train_test_split\n",
        "from keras import Sequential\n",
        "from keras.preprocessing import image\n",
        "from keras.utils.vis_utils import model_to_dot\n",
        "from keras.utils import plot_model\n",
        "from IPython.display import SVG\n",
        "from keras.layers import Dense, Conv2D, MaxPooling2D, Dropout, BatchNormalization, Flatten, Activation, Conv3D, MaxPooling3D"
      ],
      "execution_count": 3,
      "outputs": [
        {
          "output_type": "stream",
          "text": [
            "Using TensorFlow backend.\n"
          ],
          "name": "stderr"
        }
      ]
    },
    {
      "cell_type": "code",
      "metadata": {
        "id": "6R5IUhKen9Ro",
        "colab_type": "code",
        "colab": {}
      },
      "source": [
        "parapath = \"gdrive/My Drive/cell-imagess/Parasitized/\"\n",
        "uninpath = \"gdrive/My Drive/cell-imagess/Uninfected/\"\n",
        "parastized = os.listdir(parapath)\n",
        "uninfected = os.listdir(uninpath)"
      ],
      "execution_count": 0,
      "outputs": []
    },
    {
      "cell_type": "code",
      "metadata": {
        "id": "d4OPcec4oBVs",
        "colab_type": "code",
        "colab": {}
      },
      "source": [
        "data = []\n",
        "label = []\n",
        "for para in parastized:\n",
        "    try:\n",
        "        img = image.load_img(parapath + para, target_size=(224, 224))\n",
        "        x = image.img_to_array(img)\n",
        "        data.append(x)\n",
        "        label.append(1)\n",
        "    except:\n",
        "        print(\"Can't add \"+para+\" in the dataset\")"
      ],
      "execution_count": 0,
      "outputs": []
    },
    {
      "cell_type": "code",
      "metadata": {
        "id": "dU8SaSFXoFwu",
        "colab_type": "code",
        "colab": {}
      },
      "source": [
        "for unin in uninfected:\n",
        "    try:\n",
        "        img = image.load_img(uninpath + unin, target_size=(224, 224))\n",
        "        x = image.img_to_array(img)\n",
        "        data.append(x)\n",
        "        label.append(0)\n",
        "    except:\n",
        "         print(\"Can't add \"+unin+\" in the dataset\")"
      ],
      "execution_count": 0,
      "outputs": []
    },
    {
      "cell_type": "code",
      "metadata": {
        "id": "0ksMABeHoNpw",
        "colab_type": "code",
        "colab": {}
      },
      "source": [
        "data = np.array(data)\n",
        "label = np.array(label)"
      ],
      "execution_count": 0,
      "outputs": []
    },
    {
      "cell_type": "code",
      "metadata": {
        "id": "XnoeCkidodpv",
        "colab_type": "code",
        "colab": {}
      },
      "source": [
        "data = data/255\n",
        "x_train, x_test, y_train, y_test = train_test_split(data,label,test_size = 0.1,random_state=0)"
      ],
      "execution_count": 0,
      "outputs": []
    },
    {
      "cell_type": "code",
      "metadata": {
        "id": "Aq_yfq0goZ--",
        "colab_type": "code",
        "outputId": "16ed391b-e1f3-4c08-e484-02d6aba9b2fb",
        "colab": {
          "base_uri": "https://localhost:8080/",
          "height": 52
        }
      },
      "source": [
        "print(sys.getsizeof(data))\n",
        "print(data.shape)"
      ],
      "execution_count": 9,
      "outputs": [
        {
          "output_type": "stream",
          "text": [
            "36126864\n",
            "(60, 224, 224, 3)\n"
          ],
          "name": "stdout"
        }
      ]
    },
    {
      "cell_type": "code",
      "metadata": {
        "id": "7xvWNxwiohR3",
        "colab_type": "code",
        "colab": {}
      },
      "source": [
        "def MalariaModel():\n",
        "    model = Sequential()\n",
        "    model.add(Conv2D(filters = 64, kernel_size = (3, 3), activation = 'relu', padding = 'same', strides = (1, 1), input_shape = (224, 224, 3)))\n",
        "    model.add(Conv2D(filters = 64, kernel_size = (3, 3), activation = 'relu', padding = 'same', strides = (1, 1)))\n",
        "    model.add(MaxPooling2D(pool_size = (2, 2), strides = (2, 2)))\n",
        "    model.add(Conv2D(filters = 128, kernel_size = (3, 3), activation = 'relu', padding = 'same', strides = (1, 1)))\n",
        "    model.add(Conv2D(filters = 128, kernel_size = (3, 3), activation = 'relu', padding = 'same', strides = (1, 1)))\n",
        "    model.add(MaxPooling2D(pool_size = (2, 2), strides = (2, 2)))\n",
        "    model.add(Conv2D(filters = 256, kernel_size = (3, 3), activation = 'relu', padding = 'same', strides = (1, 1)))\n",
        "    model.add(Conv2D(filters = 256, kernel_size = (3, 3), activation = 'relu', padding = 'same', strides = (1, 1)))\n",
        "    model.add(Conv2D(filters = 256, kernel_size = (3, 3), activation = 'relu', padding = 'same', strides = (1, 1)))\n",
        "    model.add(MaxPooling2D(pool_size = (2, 2), strides = (2, 2)))\n",
        "    model.add(Conv2D(filters = 512, kernel_size = (3, 3), activation = 'relu', padding = 'same', strides = (1, 1)))\n",
        "    model.add(Conv2D(filters = 512, kernel_size = (3, 3), activation = 'relu', padding = 'same', strides = (1, 1)))\n",
        "    model.add(Conv2D(filters = 512, kernel_size = (3, 3), activation = 'relu', padding = 'same', strides = (1, 1)))\n",
        "    model.add(MaxPooling2D(pool_size = (2, 2), strides = (2, 2)))\n",
        "    model.add(Conv2D(filters = 512, kernel_size = (3, 3), activation = 'relu', padding = 'same', strides = (1, 1)))\n",
        "    model.add(Conv2D(filters = 512, kernel_size = (3, 3), activation = 'relu', padding = 'same', strides = (1, 1)))\n",
        "    model.add(Conv2D(filters = 512, kernel_size = (3, 3), activation = 'relu', padding = 'same', strides = (1, 1)))\n",
        "    model.add(MaxPooling2D(pool_size = (2, 2), strides = (2, 2)))\n",
        "    model.add(Flatten())\n",
        "    model.add(Dense(256, activation = 'relu'))\n",
        "    model.add(Dense(256, activation = 'relu'))\n",
        "    model.add(Dense(256, activation = 'relu'))\n",
        "    model.add(Dense(1, activation = 'sigmoid'))\n",
        "#     model.add(Activation('sigmoid'))\n",
        "    # (4) Compile\n",
        "    model.compile(loss='binary_crossentropy', optimizer='adam', metrics=['accuracy'])\n",
        "    return model    "
      ],
      "execution_count": 0,
      "outputs": []
    },
    {
      "cell_type": "code",
      "metadata": {
        "id": "acJbMeC11dBA",
        "colab_type": "code",
        "outputId": "abb8f168-1636-4d23-e501-f3d2666c3749",
        "colab": {
          "base_uri": "https://localhost:8080/",
          "height": 1010
        }
      },
      "source": [
        "modelone = MalariaModel()\n",
        "modelone.summary()"
      ],
      "execution_count": 11,
      "outputs": [
        {
          "output_type": "stream",
          "text": [
            "WARNING:tensorflow:From /usr/local/lib/python3.6/dist-packages/tensorflow/python/framework/op_def_library.py:263: colocate_with (from tensorflow.python.framework.ops) is deprecated and will be removed in a future version.\n",
            "Instructions for updating:\n",
            "Colocations handled automatically by placer.\n",
            "_________________________________________________________________\n",
            "Layer (type)                 Output Shape              Param #   \n",
            "=================================================================\n",
            "conv2d_1 (Conv2D)            (None, 224, 224, 64)      1792      \n",
            "_________________________________________________________________\n",
            "conv2d_2 (Conv2D)            (None, 224, 224, 64)      36928     \n",
            "_________________________________________________________________\n",
            "max_pooling2d_1 (MaxPooling2 (None, 112, 112, 64)      0         \n",
            "_________________________________________________________________\n",
            "conv2d_3 (Conv2D)            (None, 112, 112, 128)     73856     \n",
            "_________________________________________________________________\n",
            "conv2d_4 (Conv2D)            (None, 112, 112, 128)     147584    \n",
            "_________________________________________________________________\n",
            "max_pooling2d_2 (MaxPooling2 (None, 56, 56, 128)       0         \n",
            "_________________________________________________________________\n",
            "conv2d_5 (Conv2D)            (None, 56, 56, 256)       295168    \n",
            "_________________________________________________________________\n",
            "conv2d_6 (Conv2D)            (None, 56, 56, 256)       590080    \n",
            "_________________________________________________________________\n",
            "conv2d_7 (Conv2D)            (None, 56, 56, 256)       590080    \n",
            "_________________________________________________________________\n",
            "max_pooling2d_3 (MaxPooling2 (None, 28, 28, 256)       0         \n",
            "_________________________________________________________________\n",
            "conv2d_8 (Conv2D)            (None, 28, 28, 512)       1180160   \n",
            "_________________________________________________________________\n",
            "conv2d_9 (Conv2D)            (None, 28, 28, 512)       2359808   \n",
            "_________________________________________________________________\n",
            "conv2d_10 (Conv2D)           (None, 28, 28, 512)       2359808   \n",
            "_________________________________________________________________\n",
            "max_pooling2d_4 (MaxPooling2 (None, 14, 14, 512)       0         \n",
            "_________________________________________________________________\n",
            "conv2d_11 (Conv2D)           (None, 14, 14, 512)       2359808   \n",
            "_________________________________________________________________\n",
            "conv2d_12 (Conv2D)           (None, 14, 14, 512)       2359808   \n",
            "_________________________________________________________________\n",
            "conv2d_13 (Conv2D)           (None, 14, 14, 512)       2359808   \n",
            "_________________________________________________________________\n",
            "max_pooling2d_5 (MaxPooling2 (None, 7, 7, 512)         0         \n",
            "_________________________________________________________________\n",
            "flatten_1 (Flatten)          (None, 25088)             0         \n",
            "_________________________________________________________________\n",
            "dense_1 (Dense)              (None, 256)               6422784   \n",
            "_________________________________________________________________\n",
            "dense_2 (Dense)              (None, 256)               65792     \n",
            "_________________________________________________________________\n",
            "dense_3 (Dense)              (None, 256)               65792     \n",
            "_________________________________________________________________\n",
            "dense_4 (Dense)              (None, 1)                 257       \n",
            "=================================================================\n",
            "Total params: 21,269,313\n",
            "Trainable params: 21,269,313\n",
            "Non-trainable params: 0\n",
            "_________________________________________________________________\n"
          ],
          "name": "stdout"
        }
      ]
    },
    {
      "cell_type": "code",
      "metadata": {
        "id": "KbXg39rj64fW",
        "colab_type": "code",
        "outputId": "bab29e45-737e-4d26-81a2-d24b268c3f26",
        "colab": {
          "base_uri": "https://localhost:8080/",
          "height": 124
        }
      },
      "source": [
        "output = modelone.fit(x_train, y_train,epochs=1, batch_size=1000)"
      ],
      "execution_count": 12,
      "outputs": [
        {
          "output_type": "stream",
          "text": [
            "WARNING:tensorflow:From /usr/local/lib/python3.6/dist-packages/tensorflow/python/ops/math_ops.py:3066: to_int32 (from tensorflow.python.ops.math_ops) is deprecated and will be removed in a future version.\n",
            "Instructions for updating:\n",
            "Use tf.cast instead.\n",
            "Epoch 1/1\n",
            "54/54 [==============================] - 115s 2s/step - loss: 0.6932 - acc: 0.4815\n"
          ],
          "name": "stdout"
        }
      ]
    },
    {
      "cell_type": "code",
      "metadata": {
        "id": "MEDd-nScWvFu",
        "colab_type": "code",
        "colab": {
          "base_uri": "https://localhost:8080/",
          "height": 52
        },
        "outputId": "61bfecc2-3ff4-48c5-a945-f4161e0e8eb0"
      },
      "source": [
        "preds = modelone.evaluate(x = x_test,y = y_test)\n",
        "print(\"Test Accuracy : %.2f%%\" % (preds[1]*100))"
      ],
      "execution_count": 13,
      "outputs": [
        {
          "output_type": "stream",
          "text": [
            "\r6/6 [==============================] - 3s 568ms/step\n",
            "Test Accuracy : 66.67%\n"
          ],
          "name": "stdout"
        }
      ]
    }
  ]
}