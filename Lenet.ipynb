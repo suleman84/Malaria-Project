{
  "nbformat": 4,
  "nbformat_minor": 0,
  "metadata": {
    "colab": {
      "name": "Lenet.ipynb",
      "version": "0.3.2",
      "provenance": [],
      "collapsed_sections": [],
      "include_colab_link": true
    },
    "kernelspec": {
      "name": "python3",
      "display_name": "Python 3"
    }
  },
  "cells": [
    {
      "cell_type": "markdown",
      "metadata": {
        "id": "view-in-github",
        "colab_type": "text"
      },
      "source": [
        "<a href=\"https://colab.research.google.com/github/suleman84/Malaria-Project/blob/master/Lenet.ipynb\" target=\"_parent\"><img src=\"https://colab.research.google.com/assets/colab-badge.svg\" alt=\"Open In Colab\"/></a>"
      ]
    },
    {
      "cell_type": "code",
      "metadata": {
        "id": "bAo6R3p5cgIP",
        "colab_type": "code",
        "outputId": "0a34b60d-51b1-4456-df3a-17330735cc85",
        "colab": {
          "base_uri": "https://localhost:8080/",
          "height": 124
        }
      },
      "source": [
        "from google.colab import drive\n",
        "drive.mount('/content/gdrive')"
      ],
      "execution_count": 0,
      "outputs": [
        {
          "output_type": "stream",
          "text": [
            "Go to this URL in a browser: https://accounts.google.com/o/oauth2/auth?client_id=947318989803-6bn6qk8qdgf4n4g3pfee6491hc0brc4i.apps.googleusercontent.com&redirect_uri=urn%3Aietf%3Awg%3Aoauth%3A2.0%3Aoob&scope=email%20https%3A%2F%2Fwww.googleapis.com%2Fauth%2Fdocs.test%20https%3A%2F%2Fwww.googleapis.com%2Fauth%2Fdrive%20https%3A%2F%2Fwww.googleapis.com%2Fauth%2Fdrive.photos.readonly%20https%3A%2F%2Fwww.googleapis.com%2Fauth%2Fpeopleapi.readonly&response_type=code\n",
            "\n",
            "Enter your authorization code:\n",
            "··········\n",
            "Mounted at /content/gdrive\n"
          ],
          "name": "stdout"
        }
      ]
    },
    {
      "cell_type": "code",
      "metadata": {
        "id": "XUIfBjVMdg7a",
        "colab_type": "code",
        "colab": {}
      },
      "source": [
        "root_path = 'gdrive/My Drive/cell-images/'"
      ],
      "execution_count": 0,
      "outputs": []
    },
    {
      "cell_type": "code",
      "metadata": {
        "id": "XNk0t4-3dl7z",
        "colab_type": "code",
        "colab": {
          "base_uri": "https://localhost:8080/",
          "height": 34
        },
        "outputId": "f4f54bc5-8618-4f4b-db0f-151ff0f6070f"
      },
      "source": [
        "import os\n",
        "import sys\n",
        "import numpy as np\n",
        "# import image\n",
        "import matplotlib.pyplot as plt\n",
        "from sklearn.model_selection import train_test_split\n",
        "from keras import Sequential\n",
        "from keras.preprocessing import image\n",
        "from keras.utils.vis_utils import model_to_dot\n",
        "from keras.utils import plot_model\n",
        "from IPython.display import SVG\n",
        "from keras.layers import Dense, Conv2D, MaxPooling2D, Dropout, BatchNormalization, Flatten, AveragePooling2D"
      ],
      "execution_count": 2,
      "outputs": [
        {
          "output_type": "stream",
          "text": [
            "Using TensorFlow backend.\n"
          ],
          "name": "stderr"
        }
      ]
    },
    {
      "cell_type": "code",
      "metadata": {
        "id": "w0sOB320d-Hp",
        "colab_type": "code",
        "colab": {}
      },
      "source": [
        "parapath = \"gdrive/My Drive/cell-images/Parasitized/\"\n",
        "uninpath = \"gdrive/My Drive/cell-images//Uninfected/\"\n",
        "parastized = os.listdir(parapath)\n",
        "uninfected = os.listdir(uninpath)"
      ],
      "execution_count": 0,
      "outputs": []
    },
    {
      "cell_type": "code",
      "metadata": {
        "id": "1brhPaOgeDiL",
        "colab_type": "code",
        "colab": {}
      },
      "source": [
        "data = []\n",
        "label = []\n",
        "for para in parastized:\n",
        "    try:\n",
        "        img = image.load_img(parapath + para, target_size=(128, 128))\n",
        "        x = image.img_to_array(img)\n",
        "        data.append(x)\n",
        "        label.append(1)\n",
        "    except:\n",
        "        print(\"Can't add \"+para+\" in the dataset\")"
      ],
      "execution_count": 0,
      "outputs": []
    },
    {
      "cell_type": "code",
      "metadata": {
        "id": "2v9uY625eMQF",
        "colab_type": "code",
        "colab": {}
      },
      "source": [
        "for unin in uninfected:\n",
        "    try:\n",
        "        img = image.load_img(uninpath + unin, target_size=(128, 128))\n",
        "        x = image.img_to_array(img)\n",
        "        data.append(x)\n",
        "        label.append(0)\n",
        "    except:\n",
        "         print(\"Can't add \"+unin+\" in the dataset\")"
      ],
      "execution_count": 0,
      "outputs": []
    },
    {
      "cell_type": "code",
      "metadata": {
        "id": "2KkcUWR3eUOu",
        "colab_type": "code",
        "colab": {}
      },
      "source": [
        "data = np.array(data)\n",
        "label = np.array(label)"
      ],
      "execution_count": 0,
      "outputs": []
    },
    {
      "cell_type": "code",
      "metadata": {
        "id": "9Hx32RKUeVm-",
        "colab_type": "code",
        "outputId": "bac441f0-98ee-4555-e2fe-0a31317f2b5f",
        "colab": {
          "base_uri": "https://localhost:8080/",
          "height": 52
        }
      },
      "source": [
        "print(sys.getsizeof(data))\n",
        "print(data.shape)"
      ],
      "execution_count": 8,
      "outputs": [
        {
          "output_type": "stream",
          "text": [
            "263454864\n",
            "(1340, 128, 128, 3)\n"
          ],
          "name": "stdout"
        }
      ]
    },
    {
      "cell_type": "code",
      "metadata": {
        "id": "H3wI709ChRrR",
        "colab_type": "code",
        "colab": {}
      },
      "source": [
        "data = data/255\n",
        "x_train, x_test, y_train, y_test = train_test_split(data,label,test_size = 0.1,random_state=0)"
      ],
      "execution_count": 0,
      "outputs": []
    },
    {
      "cell_type": "code",
      "metadata": {
        "id": "bsIVoHXThWc3",
        "colab_type": "code",
        "colab": {}
      },
      "source": [
        "def MalariaModel():\n",
        "    model = Sequential()\n",
        "    model.add(Conv2D(filters = 4, kernel_size = (3, 3), activation = 'relu', input_shape = (128, 128, 3)))  \n",
        "    model.add(AveragePooling2D())\n",
        "    #input = (128,128,4)\n",
        "    model.add(Conv2D(filters = 8, kernel_size = (3, 3), activation = 'relu'))  \n",
        "    model.add(AveragePooling2D())\n",
        "    #input = (64,64,8)\n",
        "    model.add(Flatten())\n",
        "    model.add(Dense(units = 120, activation = 'relu'))\n",
        "    model.add(Dense(units = 84, activation = 'relu'))\n",
        "    model.add(Dense(units = 1, activation = 'sigmoid'))\n",
        "#     model.add(Dense(1, activation = 'sigmoid', name = 'prediction'))\n",
        "    model.compile(loss='binary_crossentropy', optimizer='adam', metrics=['accuracy'])\n",
        "    return model"
      ],
      "execution_count": 0,
      "outputs": []
    },
    {
      "cell_type": "code",
      "metadata": {
        "id": "844AlvIIkXop",
        "colab_type": "code",
        "outputId": "3a229c8e-1533-400b-c0a7-8a5e21e85c1d",
        "colab": {
          "base_uri": "https://localhost:8080/",
          "height": 489
        }
      },
      "source": [
        "modelone = MalariaModel()\n",
        "modelone.summary()"
      ],
      "execution_count": 11,
      "outputs": [
        {
          "output_type": "stream",
          "text": [
            "WARNING:tensorflow:From /usr/local/lib/python3.6/dist-packages/tensorflow/python/framework/op_def_library.py:263: colocate_with (from tensorflow.python.framework.ops) is deprecated and will be removed in a future version.\n",
            "Instructions for updating:\n",
            "Colocations handled automatically by placer.\n",
            "_________________________________________________________________\n",
            "Layer (type)                 Output Shape              Param #   \n",
            "=================================================================\n",
            "conv2d_1 (Conv2D)            (None, 126, 126, 4)       112       \n",
            "_________________________________________________________________\n",
            "average_pooling2d_1 (Average (None, 63, 63, 4)         0         \n",
            "_________________________________________________________________\n",
            "conv2d_2 (Conv2D)            (None, 61, 61, 8)         296       \n",
            "_________________________________________________________________\n",
            "average_pooling2d_2 (Average (None, 30, 30, 8)         0         \n",
            "_________________________________________________________________\n",
            "flatten_1 (Flatten)          (None, 7200)              0         \n",
            "_________________________________________________________________\n",
            "dense_1 (Dense)              (None, 120)               864120    \n",
            "_________________________________________________________________\n",
            "dense_2 (Dense)              (None, 84)                10164     \n",
            "_________________________________________________________________\n",
            "dense_3 (Dense)              (None, 1)                 85        \n",
            "=================================================================\n",
            "Total params: 874,777\n",
            "Trainable params: 874,777\n",
            "Non-trainable params: 0\n",
            "_________________________________________________________________\n"
          ],
          "name": "stdout"
        }
      ]
    },
    {
      "cell_type": "code",
      "metadata": {
        "id": "SfnLRLXtl_e0",
        "colab_type": "code",
        "outputId": "0b28928d-623a-40fd-c623-5b7f55bbbcbd",
        "colab": {
          "base_uri": "https://localhost:8080/",
          "height": 124
        }
      },
      "source": [
        "output = modelone.fit(x_train, y_train,epochs=1, batch_size=1000)"
      ],
      "execution_count": 12,
      "outputs": [
        {
          "output_type": "stream",
          "text": [
            "WARNING:tensorflow:From /usr/local/lib/python3.6/dist-packages/tensorflow/python/ops/math_ops.py:3066: to_int32 (from tensorflow.python.ops.math_ops) is deprecated and will be removed in a future version.\n",
            "Instructions for updating:\n",
            "Use tf.cast instead.\n",
            "Epoch 1/1\n",
            "1206/1206 [==============================] - 12s 10ms/step - loss: 0.7633 - acc: 0.4900\n"
          ],
          "name": "stdout"
        }
      ]
    },
    {
      "cell_type": "code",
      "metadata": {
        "id": "3MI4sg5MmE06",
        "colab_type": "code",
        "outputId": "a496c47e-fbf3-444a-caf1-45e014580f86",
        "colab": {
          "base_uri": "https://localhost:8080/",
          "height": 52
        }
      },
      "source": [
        "preds = modelone.evaluate(x = x_test,y = y_test)\n",
        "print(\"Test Accuracy : %.2f%%\" % (preds[1]*100))"
      ],
      "execution_count": 13,
      "outputs": [
        {
          "output_type": "stream",
          "text": [
            "134/134 [==============================] - 1s 7ms/step\n",
            "Test Accuracy : 46.27%\n"
          ],
          "name": "stdout"
        }
      ]
    }
  ]
}