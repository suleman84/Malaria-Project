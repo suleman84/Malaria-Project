{
  "nbformat": 4,
  "nbformat_minor": 0,
  "metadata": {
    "colab": {
      "name": "Lenet.ipynb",
      "version": "0.3.2",
      "provenance": [],
      "collapsed_sections": [],
      "include_colab_link": true
    },
    "kernelspec": {
      "name": "python3",
      "display_name": "Python 3"
    }
  },
  "cells": [
    {
      "cell_type": "markdown",
      "metadata": {
        "id": "view-in-github",
        "colab_type": "text"
      },
      "source": [
        "<a href=\"https://colab.research.google.com/github/suleman84/Malaria-Project/blob/master/Lenet.ipynb\" target=\"_parent\"><img src=\"https://colab.research.google.com/assets/colab-badge.svg\" alt=\"Open In Colab\"/></a>"
      ]
    },
    {
      "cell_type": "code",
      "metadata": {
        "id": "bAo6R3p5cgIP",
        "colab_type": "code",
        "outputId": "6205f570-cc24-4bd9-deb3-b207b5d588b6",
        "colab": {
          "base_uri": "https://localhost:8080/",
          "height": 34
        }
      },
      "source": [
        "from google.colab import drive\n",
        "drive.mount('/content/gdrive')"
      ],
      "execution_count": 1,
      "outputs": [
        {
          "output_type": "stream",
          "text": [
            "Drive already mounted at /content/gdrive; to attempt to forcibly remount, call drive.mount(\"/content/gdrive\", force_remount=True).\n"
          ],
          "name": "stdout"
        }
      ]
    },
    {
      "cell_type": "code",
      "metadata": {
        "id": "XUIfBjVMdg7a",
        "colab_type": "code",
        "colab": {}
      },
      "source": [
        "root_path = 'gdrive/My Drive/cell-images/'"
      ],
      "execution_count": 0,
      "outputs": []
    },
    {
      "cell_type": "code",
      "metadata": {
        "id": "XNk0t4-3dl7z",
        "colab_type": "code",
        "outputId": "663f6b23-bb6c-4142-e75a-68fb897b5818",
        "colab": {
          "base_uri": "https://localhost:8080/",
          "height": 34
        }
      },
      "source": [
        "import os\n",
        "import sys\n",
        "import numpy as np\n",
        "# import image\n",
        "import matplotlib.pyplot as plt\n",
        "from sklearn.model_selection import train_test_split\n",
        "from keras import Sequential\n",
        "from keras.preprocessing import image\n",
        "from keras.utils.vis_utils import model_to_dot\n",
        "from keras.utils import plot_model\n",
        "from IPython.display import SVG\n",
        "from keras.layers import Dense, Conv2D, MaxPooling2D, Dropout, BatchNormalization, Flatten, AveragePooling2D"
      ],
      "execution_count": 3,
      "outputs": [
        {
          "output_type": "stream",
          "text": [
            "Using TensorFlow backend.\n"
          ],
          "name": "stderr"
        }
      ]
    },
    {
      "cell_type": "code",
      "metadata": {
        "id": "w0sOB320d-Hp",
        "colab_type": "code",
        "colab": {}
      },
      "source": [
        "parapath = \"gdrive/My Drive/cell-images/Parasitized/\"\n",
        "uninpath = \"gdrive/My Drive/cell-images//Uninfected/\"\n",
        "parastized = os.listdir(parapath)\n",
        "uninfected = os.listdir(uninpath)"
      ],
      "execution_count": 0,
      "outputs": []
    },
    {
      "cell_type": "code",
      "metadata": {
        "id": "1brhPaOgeDiL",
        "colab_type": "code",
        "colab": {}
      },
      "source": [
        "data = []\n",
        "label = []\n",
        "for para in parastized:\n",
        "    try:\n",
        "        img = image.load_img(parapath + para, target_size=(128, 128))\n",
        "        x = image.img_to_array(img)\n",
        "        data.append(x)\n",
        "        label.append(1)\n",
        "    except:\n",
        "        print(\"Can't add \"+para+\" in the dataset\")"
      ],
      "execution_count": 0,
      "outputs": []
    },
    {
      "cell_type": "code",
      "metadata": {
        "id": "2v9uY625eMQF",
        "colab_type": "code",
        "colab": {}
      },
      "source": [
        "for unin in uninfected:\n",
        "    try:\n",
        "        img = image.load_img(uninpath + unin, target_size=(128, 128))\n",
        "        x = image.img_to_array(img)\n",
        "        data.append(x)\n",
        "        label.append(0)\n",
        "    except:\n",
        "         print(\"Can't add \"+unin+\" in the dataset\")"
      ],
      "execution_count": 0,
      "outputs": []
    },
    {
      "cell_type": "code",
      "metadata": {
        "id": "2KkcUWR3eUOu",
        "colab_type": "code",
        "colab": {}
      },
      "source": [
        "data = np.array(data)\n",
        "label = np.array(label)"
      ],
      "execution_count": 0,
      "outputs": []
    },
    {
      "cell_type": "code",
      "metadata": {
        "id": "9Hx32RKUeVm-",
        "colab_type": "code",
        "outputId": "fdbaacb2-3ca0-40fa-8fb6-c19ac37ebc69",
        "colab": {
          "base_uri": "https://localhost:8080/",
          "height": 52
        }
      },
      "source": [
        "print(sys.getsizeof(data))\n",
        "print(data.shape)"
      ],
      "execution_count": 8,
      "outputs": [
        {
          "output_type": "stream",
          "text": [
            "263454864\n",
            "(1340, 128, 128, 3)\n"
          ],
          "name": "stdout"
        }
      ]
    },
    {
      "cell_type": "code",
      "metadata": {
        "id": "H3wI709ChRrR",
        "colab_type": "code",
        "colab": {}
      },
      "source": [
        "data = data/255\n",
        "x_train, x_test, y_train, y_test = train_test_split(data,label,test_size = 0.1,random_state=0)"
      ],
      "execution_count": 0,
      "outputs": []
    },
    {
      "cell_type": "code",
      "metadata": {
        "id": "bsIVoHXThWc3",
        "colab_type": "code",
        "colab": {}
      },
      "source": [
        "def MalariaModel():\n",
        "    model = Sequential()\n",
        "    model.add(Conv2D(filters = 4, kernel_size = (3, 3), activation = 'relu', input_shape = (128, 128, 3)))  \n",
        "    model.add(AveragePooling2D())\n",
        "    #input = (128,128,4)\n",
        "    model.add(Conv2D(filters = 8, kernel_size = (3, 3), activation = 'relu'))  \n",
        "    model.add(AveragePooling2D())\n",
        "    #input = (64,64,8)\n",
        "    model.add(Flatten())\n",
        "    model.add(Dense(units = 120, activation = 'relu'))\n",
        "    model.add(Dense(units = 84, activation = 'relu'))\n",
        "    model.add(Dense(units = 1, activation = 'sigmoid'))\n",
        "#     model.add(Dense(1, activation = 'sigmoid', name = 'prediction'))\n",
        "    model.compile(loss='binary_crossentropy', optimizer='adam', metrics=['accuracy'])\n",
        "    return model"
      ],
      "execution_count": 0,
      "outputs": []
    },
    {
      "cell_type": "code",
      "metadata": {
        "id": "844AlvIIkXop",
        "colab_type": "code",
        "outputId": "3aafac84-5315-467e-a69c-cbcbae3ed41a",
        "colab": {
          "base_uri": "https://localhost:8080/",
          "height": 489
        }
      },
      "source": [
        "modelone = MalariaModel()\n",
        "modelone.summary()"
      ],
      "execution_count": 11,
      "outputs": [
        {
          "output_type": "stream",
          "text": [
            "WARNING:tensorflow:From /usr/local/lib/python3.6/dist-packages/tensorflow/python/framework/op_def_library.py:263: colocate_with (from tensorflow.python.framework.ops) is deprecated and will be removed in a future version.\n",
            "Instructions for updating:\n",
            "Colocations handled automatically by placer.\n",
            "_________________________________________________________________\n",
            "Layer (type)                 Output Shape              Param #   \n",
            "=================================================================\n",
            "conv2d_1 (Conv2D)            (None, 126, 126, 4)       112       \n",
            "_________________________________________________________________\n",
            "average_pooling2d_1 (Average (None, 63, 63, 4)         0         \n",
            "_________________________________________________________________\n",
            "conv2d_2 (Conv2D)            (None, 61, 61, 8)         296       \n",
            "_________________________________________________________________\n",
            "average_pooling2d_2 (Average (None, 30, 30, 8)         0         \n",
            "_________________________________________________________________\n",
            "flatten_1 (Flatten)          (None, 7200)              0         \n",
            "_________________________________________________________________\n",
            "dense_1 (Dense)              (None, 120)               864120    \n",
            "_________________________________________________________________\n",
            "dense_2 (Dense)              (None, 84)                10164     \n",
            "_________________________________________________________________\n",
            "dense_3 (Dense)              (None, 1)                 85        \n",
            "=================================================================\n",
            "Total params: 874,777\n",
            "Trainable params: 874,777\n",
            "Non-trainable params: 0\n",
            "_________________________________________________________________\n"
          ],
          "name": "stdout"
        }
      ]
    },
    {
      "cell_type": "code",
      "metadata": {
        "id": "SfnLRLXtl_e0",
        "colab_type": "code",
        "outputId": "2dfb6f4b-0bb6-4b92-ce0b-db5408d9e9d1",
        "colab": {
          "base_uri": "https://localhost:8080/",
          "height": 3562
        }
      },
      "source": [
        "output = modelone.fit(x_train, y_train,epochs=100, batch_size=500)"
      ],
      "execution_count": 12,
      "outputs": [
        {
          "output_type": "stream",
          "text": [
            "WARNING:tensorflow:From /usr/local/lib/python3.6/dist-packages/tensorflow/python/ops/math_ops.py:3066: to_int32 (from tensorflow.python.ops.math_ops) is deprecated and will be removed in a future version.\n",
            "Instructions for updating:\n",
            "Use tf.cast instead.\n",
            "Epoch 1/100\n",
            "1206/1206 [==============================] - 21s 17ms/step - loss: 0.9270 - acc: 0.4992\n",
            "Epoch 2/100\n",
            "1206/1206 [==============================] - 19s 16ms/step - loss: 0.7128 - acc: 0.5332\n",
            "Epoch 3/100\n",
            "1206/1206 [==============================] - 19s 16ms/step - loss: 0.6855 - acc: 0.5240\n",
            "Epoch 4/100\n",
            "1206/1206 [==============================] - 20s 16ms/step - loss: 0.6600 - acc: 0.5821\n",
            "Epoch 5/100\n",
            "1206/1206 [==============================] - 19s 16ms/step - loss: 0.6397 - acc: 0.6891\n",
            "Epoch 6/100\n",
            "1206/1206 [==============================] - 19s 16ms/step - loss: 0.6133 - acc: 0.6799\n",
            "Epoch 7/100\n",
            "1206/1206 [==============================] - 19s 16ms/step - loss: 0.5916 - acc: 0.6940\n",
            "Epoch 8/100\n",
            "1206/1206 [==============================] - 19s 16ms/step - loss: 0.5693 - acc: 0.7222\n",
            "Epoch 9/100\n",
            "1206/1206 [==============================] - 20s 16ms/step - loss: 0.5574 - acc: 0.7098\n",
            "Epoch 10/100\n",
            "1206/1206 [==============================] - 20s 16ms/step - loss: 0.5547 - acc: 0.7114\n",
            "Epoch 11/100\n",
            "1206/1206 [==============================] - 19s 16ms/step - loss: 0.5807 - acc: 0.7015\n",
            "Epoch 12/100\n",
            "1206/1206 [==============================] - 19s 16ms/step - loss: 0.5590 - acc: 0.7222\n",
            "Epoch 13/100\n",
            "1206/1206 [==============================] - 19s 16ms/step - loss: 0.5532 - acc: 0.7007\n",
            "Epoch 14/100\n",
            "1206/1206 [==============================] - 19s 16ms/step - loss: 0.5537 - acc: 0.7222\n",
            "Epoch 15/100\n",
            "1206/1206 [==============================] - 19s 16ms/step - loss: 0.5446 - acc: 0.7172\n",
            "Epoch 16/100\n",
            "1206/1206 [==============================] - 19s 16ms/step - loss: 0.5367 - acc: 0.7305\n",
            "Epoch 17/100\n",
            "1206/1206 [==============================] - 19s 16ms/step - loss: 0.5340 - acc: 0.7280\n",
            "Epoch 18/100\n",
            "1206/1206 [==============================] - 19s 16ms/step - loss: 0.5408 - acc: 0.7297\n",
            "Epoch 19/100\n",
            "1206/1206 [==============================] - 19s 16ms/step - loss: 0.5441 - acc: 0.7172\n",
            "Epoch 20/100\n",
            "1206/1206 [==============================] - 19s 15ms/step - loss: 0.5256 - acc: 0.7380\n",
            "Epoch 21/100\n",
            "1206/1206 [==============================] - 19s 16ms/step - loss: 0.5230 - acc: 0.7380\n",
            "Epoch 22/100\n",
            "1206/1206 [==============================] - 19s 16ms/step - loss: 0.5114 - acc: 0.7438\n",
            "Epoch 23/100\n",
            "1206/1206 [==============================] - 20s 16ms/step - loss: 0.5090 - acc: 0.7463\n",
            "Epoch 24/100\n",
            "1206/1206 [==============================] - 20s 17ms/step - loss: 0.5039 - acc: 0.7496\n",
            "Epoch 25/100\n",
            "1206/1206 [==============================] - 19s 16ms/step - loss: 0.5038 - acc: 0.7595\n",
            "Epoch 26/100\n",
            "1206/1206 [==============================] - 19s 16ms/step - loss: 0.4994 - acc: 0.7546\n",
            "Epoch 27/100\n",
            "1206/1206 [==============================] - 19s 16ms/step - loss: 0.4899 - acc: 0.7645\n",
            "Epoch 28/100\n",
            "1206/1206 [==============================] - 19s 16ms/step - loss: 0.4866 - acc: 0.7562\n",
            "Epoch 29/100\n",
            "1206/1206 [==============================] - 19s 16ms/step - loss: 0.4690 - acc: 0.7695\n",
            "Epoch 30/100\n",
            "1206/1206 [==============================] - 19s 16ms/step - loss: 0.4635 - acc: 0.7753\n",
            "Epoch 31/100\n",
            "1206/1206 [==============================] - 20s 16ms/step - loss: 0.4492 - acc: 0.7869\n",
            "Epoch 32/100\n",
            "1206/1206 [==============================] - 20s 17ms/step - loss: 0.5121 - acc: 0.7512\n",
            "Epoch 33/100\n",
            "1206/1206 [==============================] - 19s 16ms/step - loss: 0.4605 - acc: 0.7711\n",
            "Epoch 34/100\n",
            "1206/1206 [==============================] - 19s 16ms/step - loss: 0.4522 - acc: 0.8043\n",
            "Epoch 35/100\n",
            "1206/1206 [==============================] - 19s 16ms/step - loss: 0.4413 - acc: 0.7819\n",
            "Epoch 36/100\n",
            "1206/1206 [==============================] - 19s 16ms/step - loss: 0.4429 - acc: 0.7935\n",
            "Epoch 37/100\n",
            "1206/1206 [==============================] - 20s 16ms/step - loss: 0.4349 - acc: 0.7935\n",
            "Epoch 38/100\n",
            "1206/1206 [==============================] - 19s 16ms/step - loss: 0.4080 - acc: 0.8134\n",
            "Epoch 39/100\n",
            "1206/1206 [==============================] - 19s 16ms/step - loss: 0.4007 - acc: 0.8259\n",
            "Epoch 40/100\n",
            "1206/1206 [==============================] - 20s 16ms/step - loss: 0.3989 - acc: 0.8308\n",
            "Epoch 41/100\n",
            "1206/1206 [==============================] - 19s 16ms/step - loss: 0.3905 - acc: 0.8325\n",
            "Epoch 42/100\n",
            "1206/1206 [==============================] - 20s 16ms/step - loss: 0.3797 - acc: 0.8358\n",
            "Epoch 43/100\n",
            "1206/1206 [==============================] - 19s 15ms/step - loss: 0.3630 - acc: 0.8466\n",
            "Epoch 44/100\n",
            "1206/1206 [==============================] - 19s 16ms/step - loss: 0.3516 - acc: 0.8507\n",
            "Epoch 45/100\n",
            "1206/1206 [==============================] - 19s 16ms/step - loss: 0.3421 - acc: 0.8582\n",
            "Epoch 46/100\n",
            "1206/1206 [==============================] - 19s 16ms/step - loss: 0.3333 - acc: 0.8541\n",
            "Epoch 47/100\n",
            "1206/1206 [==============================] - 19s 16ms/step - loss: 0.3441 - acc: 0.8383\n",
            "Epoch 48/100\n",
            "1206/1206 [==============================] - 19s 16ms/step - loss: 0.3540 - acc: 0.8375\n",
            "Epoch 49/100\n",
            "1206/1206 [==============================] - 19s 16ms/step - loss: 0.3250 - acc: 0.8690\n",
            "Epoch 50/100\n",
            "1206/1206 [==============================] - 19s 16ms/step - loss: 0.3068 - acc: 0.8814\n",
            "Epoch 51/100\n",
            "1206/1206 [==============================] - 20s 16ms/step - loss: 0.2970 - acc: 0.8839\n",
            "Epoch 52/100\n",
            "1206/1206 [==============================] - 19s 16ms/step - loss: 0.2963 - acc: 0.8773\n",
            "Epoch 53/100\n",
            "1206/1206 [==============================] - 19s 16ms/step - loss: 0.3303 - acc: 0.8541\n",
            "Epoch 54/100\n",
            "1206/1206 [==============================] - 19s 16ms/step - loss: 0.3103 - acc: 0.8599\n",
            "Epoch 55/100\n",
            "1206/1206 [==============================] - 19s 16ms/step - loss: 0.3252 - acc: 0.8507\n",
            "Epoch 56/100\n",
            "1206/1206 [==============================] - 19s 16ms/step - loss: 0.3002 - acc: 0.8665\n",
            "Epoch 57/100\n",
            "1206/1206 [==============================] - 19s 16ms/step - loss: 0.2843 - acc: 0.8748\n",
            "Epoch 58/100\n",
            "1206/1206 [==============================] - 19s 16ms/step - loss: 0.2603 - acc: 0.9104\n",
            "Epoch 59/100\n",
            "1206/1206 [==============================] - 19s 16ms/step - loss: 0.2640 - acc: 0.8972\n",
            "Epoch 60/100\n",
            "1206/1206 [==============================] - 19s 16ms/step - loss: 0.2560 - acc: 0.9005\n",
            "Epoch 61/100\n",
            "1206/1206 [==============================] - 19s 16ms/step - loss: 0.2733 - acc: 0.8881\n",
            "Epoch 62/100\n",
            "1206/1206 [==============================] - 19s 16ms/step - loss: 0.2686 - acc: 0.8897\n",
            "Epoch 63/100\n",
            "1206/1206 [==============================] - 19s 16ms/step - loss: 0.2603 - acc: 0.8997\n",
            "Epoch 64/100\n",
            "1206/1206 [==============================] - 20s 16ms/step - loss: 0.2726 - acc: 0.8914\n",
            "Epoch 65/100\n",
            "1206/1206 [==============================] - 19s 16ms/step - loss: 0.2552 - acc: 0.9005\n",
            "Epoch 66/100\n",
            "1206/1206 [==============================] - 19s 16ms/step - loss: 0.2431 - acc: 0.8988\n",
            "Epoch 67/100\n",
            "1206/1206 [==============================] - 19s 16ms/step - loss: 0.2308 - acc: 0.9254\n",
            "Epoch 68/100\n",
            "1206/1206 [==============================] - 19s 16ms/step - loss: 0.2456 - acc: 0.9063\n",
            "Epoch 69/100\n",
            "1206/1206 [==============================] - 19s 16ms/step - loss: 0.2446 - acc: 0.9022\n",
            "Epoch 70/100\n",
            "1206/1206 [==============================] - 19s 16ms/step - loss: 0.2480 - acc: 0.9030\n",
            "Epoch 71/100\n",
            "1206/1206 [==============================] - 19s 16ms/step - loss: 0.2233 - acc: 0.9196\n",
            "Epoch 72/100\n",
            "1206/1206 [==============================] - 19s 15ms/step - loss: 0.2079 - acc: 0.9295\n",
            "Epoch 73/100\n",
            "1206/1206 [==============================] - 20s 16ms/step - loss: 0.2358 - acc: 0.9030\n",
            "Epoch 74/100\n",
            "1206/1206 [==============================] - 19s 15ms/step - loss: 0.2528 - acc: 0.8897\n",
            "Epoch 75/100\n",
            "1206/1206 [==============================] - 19s 16ms/step - loss: 0.2312 - acc: 0.9104\n",
            "Epoch 76/100\n",
            "1206/1206 [==============================] - 20s 16ms/step - loss: 0.1928 - acc: 0.9370\n",
            "Epoch 77/100\n",
            "1206/1206 [==============================] - 19s 16ms/step - loss: 0.1964 - acc: 0.9378\n",
            "Epoch 78/100\n",
            "1206/1206 [==============================] - 19s 16ms/step - loss: 0.1899 - acc: 0.9436\n",
            "Epoch 79/100\n",
            "1206/1206 [==============================] - 19s 16ms/step - loss: 0.1935 - acc: 0.9370\n",
            "Epoch 80/100\n",
            "1206/1206 [==============================] - 19s 16ms/step - loss: 0.1778 - acc: 0.9444\n",
            "Epoch 81/100\n",
            "1206/1206 [==============================] - 19s 16ms/step - loss: 0.1860 - acc: 0.9486\n",
            "Epoch 82/100\n",
            "1206/1206 [==============================] - 19s 16ms/step - loss: 0.1940 - acc: 0.9320\n",
            "Epoch 83/100\n",
            "1206/1206 [==============================] - 19s 16ms/step - loss: 0.2193 - acc: 0.9088\n",
            "Epoch 84/100\n",
            "1206/1206 [==============================] - 19s 16ms/step - loss: 0.1843 - acc: 0.9411\n",
            "Epoch 85/100\n",
            "1206/1206 [==============================] - 19s 16ms/step - loss: 0.1956 - acc: 0.9237\n",
            "Epoch 86/100\n",
            "1206/1206 [==============================] - 19s 16ms/step - loss: 0.2403 - acc: 0.8914\n",
            "Epoch 87/100\n",
            "1206/1206 [==============================] - 19s 16ms/step - loss: 0.2711 - acc: 0.8740\n",
            "Epoch 88/100\n",
            "1206/1206 [==============================] - 19s 16ms/step - loss: 0.2138 - acc: 0.9096\n",
            "Epoch 89/100\n",
            "1206/1206 [==============================] - 19s 16ms/step - loss: 0.2079 - acc: 0.9179\n",
            "Epoch 90/100\n",
            "1206/1206 [==============================] - 19s 16ms/step - loss: 0.1856 - acc: 0.9279\n",
            "Epoch 91/100\n",
            "1206/1206 [==============================] - 20s 16ms/step - loss: 0.2041 - acc: 0.9104\n",
            "Epoch 92/100\n",
            "1206/1206 [==============================] - 19s 16ms/step - loss: 0.1825 - acc: 0.9370\n",
            "Epoch 93/100\n",
            "1206/1206 [==============================] - 18s 15ms/step - loss: 0.1793 - acc: 0.9312\n",
            "Epoch 94/100\n",
            "1206/1206 [==============================] - 19s 16ms/step - loss: 0.1677 - acc: 0.9453\n",
            "Epoch 95/100\n",
            "1206/1206 [==============================] - 19s 16ms/step - loss: 0.1545 - acc: 0.9552\n",
            "Epoch 96/100\n",
            "1206/1206 [==============================] - 19s 16ms/step - loss: 0.1568 - acc: 0.9536\n",
            "Epoch 97/100\n",
            "1206/1206 [==============================] - 19s 16ms/step - loss: 0.1507 - acc: 0.9594\n",
            "Epoch 98/100\n",
            "1206/1206 [==============================] - 20s 16ms/step - loss: 0.1460 - acc: 0.9594\n",
            "Epoch 99/100\n",
            "1206/1206 [==============================] - 20s 16ms/step - loss: 0.1428 - acc: 0.9577\n",
            "Epoch 100/100\n",
            "1206/1206 [==============================] - 19s 16ms/step - loss: 0.1422 - acc: 0.9561\n"
          ],
          "name": "stdout"
        }
      ]
    },
    {
      "cell_type": "code",
      "metadata": {
        "id": "3MI4sg5MmE06",
        "colab_type": "code",
        "outputId": "b7b795db-c2aa-4fd9-ce3f-d661adbe4b9b",
        "colab": {
          "base_uri": "https://localhost:8080/",
          "height": 52
        }
      },
      "source": [
        "preds = modelone.evaluate(x = x_test,y = y_test)\n",
        "print(\"Test Accuracy : %.2f%%\" % (preds[1]*100))"
      ],
      "execution_count": 14,
      "outputs": [
        {
          "output_type": "stream",
          "text": [
            "134/134 [==============================] - 1s 11ms/step\n",
            "Test Accuracy : 85.82%\n"
          ],
          "name": "stdout"
        }
      ]
    }
  ]
}