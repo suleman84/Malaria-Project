{
  "nbformat": 4,
  "nbformat_minor": 0,
  "metadata": {
    "colab": {
      "name": "cnn.ipynb",
      "version": "0.3.2",
      "provenance": [],
      "include_colab_link": true
    },
    "kernelspec": {
      "name": "python3",
      "display_name": "Python 3"
    }
  },
  "cells": [
    {
      "cell_type": "markdown",
      "metadata": {
        "id": "view-in-github",
        "colab_type": "text"
      },
      "source": [
        "<a href=\"https://colab.research.google.com/github/suleman84/Malaria-Project/blob/master/cnn.ipynb\" target=\"_parent\"><img src=\"https://colab.research.google.com/assets/colab-badge.svg\" alt=\"Open In Colab\"/></a>"
      ]
    },
    {
      "cell_type": "code",
      "metadata": {
        "id": "STRi4jT4ne8e",
        "colab_type": "code",
        "colab": {
          "base_uri": "https://localhost:8080/",
          "height": 34
        },
        "outputId": "cbdda6a6-0502-45c8-ffbe-2bb9bac69964"
      },
      "source": [
        "from google.colab import drive\n",
        "drive.mount('/content/gdrive')"
      ],
      "execution_count": 1,
      "outputs": [
        {
          "output_type": "stream",
          "text": [
            "Drive already mounted at /content/gdrive; to attempt to forcibly remount, call drive.mount(\"/content/gdrive\", force_remount=True).\n"
          ],
          "name": "stdout"
        }
      ]
    },
    {
      "cell_type": "code",
      "metadata": {
        "id": "Ptf5w400noJp",
        "colab_type": "code",
        "colab": {}
      },
      "source": [
        "root_path = 'gdrive/My Drive/cell-images/'"
      ],
      "execution_count": 0,
      "outputs": []
    },
    {
      "cell_type": "code",
      "metadata": {
        "id": "b-7cbjEXnojW",
        "colab_type": "code",
        "colab": {
          "base_uri": "https://localhost:8080/",
          "height": 34
        },
        "outputId": "f003ef14-3b9c-431f-c8ed-bc032efc7f20"
      },
      "source": [
        "import os\n",
        "import sys\n",
        "# import image\n",
        "import numpy as np\n",
        "import matplotlib.pyplot as plt\n",
        "from sklearn.model_selection import train_test_split\n",
        "from keras import Sequential\n",
        "from keras.preprocessing import image\n",
        "from keras.utils.vis_utils import model_to_dot\n",
        "from keras.utils import plot_model\n",
        "from IPython.display import SVG\n",
        "from keras.layers import Dense, Conv2D, MaxPooling2D, Dropout, BatchNormalization, Flatten, Activation"
      ],
      "execution_count": 3,
      "outputs": [
        {
          "output_type": "stream",
          "text": [
            "Using TensorFlow backend.\n"
          ],
          "name": "stderr"
        }
      ]
    },
    {
      "cell_type": "code",
      "metadata": {
        "id": "T3w1JUHcnotx",
        "colab_type": "code",
        "colab": {}
      },
      "source": [
        "parapath = \"gdrive/My Drive/cell-images/Parasitized/\"\n",
        "uninpath = \"gdrive/My Drive/cell-images/Uninfected/\"\n",
        "parastized = os.listdir(parapath)\n",
        "uninfected = os.listdir(uninpath)"
      ],
      "execution_count": 0,
      "outputs": []
    },
    {
      "cell_type": "code",
      "metadata": {
        "id": "k2PxXgINno1B",
        "colab_type": "code",
        "colab": {}
      },
      "source": [
        "data = []\n",
        "label = []\n",
        "for para in parastized:\n",
        "    try:\n",
        "        img = image.load_img(parapath + para, target_size=(128, 128))\n",
        "        x = image.img_to_array(img)\n",
        "        data.append(x)\n",
        "        label.append(1)\n",
        "    except:\n",
        "        print(\"Can't add \"+para+\" in the dataset\")"
      ],
      "execution_count": 0,
      "outputs": []
    },
    {
      "cell_type": "code",
      "metadata": {
        "id": "ASUS7ZCOoGN_",
        "colab_type": "code",
        "colab": {}
      },
      "source": [
        "for unin in uninfected:\n",
        "    try:\n",
        "        img = image.load_img(uninpath + unin, target_size=(128, 128))\n",
        "        x = image.img_to_array(img)\n",
        "        data.append(x)\n",
        "        label.append(0)\n",
        "    except:\n",
        "         print(\"Can't add \"+unin+\" in the dataset\")"
      ],
      "execution_count": 0,
      "outputs": []
    },
    {
      "cell_type": "code",
      "metadata": {
        "id": "_eW67ecXno7x",
        "colab_type": "code",
        "colab": {}
      },
      "source": [
        "data = np.array(data)\n",
        "label = np.array(label)"
      ],
      "execution_count": 0,
      "outputs": []
    },
    {
      "cell_type": "code",
      "metadata": {
        "id": "ai0c3FixoRRs",
        "colab_type": "code",
        "colab": {}
      },
      "source": [
        "data = data/255\n",
        "x_train, x_test, y_train, y_test = train_test_split(data,label,test_size = 0.1,random_state=0)"
      ],
      "execution_count": 0,
      "outputs": []
    },
    {
      "cell_type": "code",
      "metadata": {
        "id": "yQRJU0_PoU9h",
        "colab_type": "code",
        "colab": {
          "base_uri": "https://localhost:8080/",
          "height": 52
        },
        "outputId": "e35e8067-bce9-4e1c-f7cd-ae1c82883044"
      },
      "source": [
        "print(sys.getsizeof(data))\n",
        "print(data.shape)"
      ],
      "execution_count": 9,
      "outputs": [
        {
          "output_type": "stream",
          "text": [
            "263454864\n",
            "(1340, 128, 128, 3)\n"
          ],
          "name": "stdout"
        }
      ]
    },
    {
      "cell_type": "code",
      "metadata": {
        "id": "ZwQP4GrcoVHZ",
        "colab_type": "code",
        "colab": {}
      },
      "source": [
        "def MalariaModel():\n",
        "    model = Sequential()\n",
        "    model.add(Conv2D(filters = 4, kernel_size = (3, 3), activation = 'relu', input_shape = (128, 128, 3)))\n",
        "    model.add(MaxPooling2D(pool_size = (2, 2)))\n",
        "    model.add(BatchNormalization(axis = -1))\n",
        "    model.add(Dropout(0.2))\n",
        "    model.add(Conv2D(filters = 8, kernel_size = (3, 3), activation = 'relu'))\n",
        "    model.add(MaxPooling2D(pool_size = (2, 2)))\n",
        "    model.add(BatchNormalization(axis = -1))\n",
        "    model.add(Dropout(0.2))\n",
        "    model.add(Conv2D(filters = 16, kernel_size = (3, 3), activation = 'relu'))\n",
        "    model.add(MaxPooling2D(pool_size = (2, 2)))\n",
        "    model.add(BatchNormalization(axis = -1))\n",
        "    model.add(Dropout(0.2))\n",
        "    model.add(Flatten())\n",
        "    model.add(Dense(512, activation = 'relu'))\n",
        "    model.add(BatchNormalization(axis = -1))\n",
        "    model.add(Dropout(0.5))\n",
        "    model.add(Dense(1, activation = 'sigmoid'))\n",
        "    model.compile(loss='binary_crossentropy', optimizer='adam', metrics=['accuracy'])\n",
        "    return model    "
      ],
      "execution_count": 0,
      "outputs": []
    },
    {
      "cell_type": "code",
      "metadata": {
        "id": "vGsc9FS-oVS6",
        "colab_type": "code",
        "colab": {
          "base_uri": "https://localhost:8080/",
          "height": 853
        },
        "outputId": "ed7e727b-e2eb-4101-899d-3d88ad4890b3"
      },
      "source": [
        "modelone = MalariaModel()\n",
        "modelone.summary()"
      ],
      "execution_count": 11,
      "outputs": [
        {
          "output_type": "stream",
          "text": [
            "WARNING:tensorflow:From /usr/local/lib/python3.6/dist-packages/tensorflow/python/framework/op_def_library.py:263: colocate_with (from tensorflow.python.framework.ops) is deprecated and will be removed in a future version.\n",
            "Instructions for updating:\n",
            "Colocations handled automatically by placer.\n",
            "WARNING:tensorflow:From /usr/local/lib/python3.6/dist-packages/keras/backend/tensorflow_backend.py:3445: calling dropout (from tensorflow.python.ops.nn_ops) with keep_prob is deprecated and will be removed in a future version.\n",
            "Instructions for updating:\n",
            "Please use `rate` instead of `keep_prob`. Rate should be set to `rate = 1 - keep_prob`.\n",
            "_________________________________________________________________\n",
            "Layer (type)                 Output Shape              Param #   \n",
            "=================================================================\n",
            "conv2d_1 (Conv2D)            (None, 126, 126, 4)       112       \n",
            "_________________________________________________________________\n",
            "max_pooling2d_1 (MaxPooling2 (None, 63, 63, 4)         0         \n",
            "_________________________________________________________________\n",
            "batch_normalization_1 (Batch (None, 63, 63, 4)         16        \n",
            "_________________________________________________________________\n",
            "dropout_1 (Dropout)          (None, 63, 63, 4)         0         \n",
            "_________________________________________________________________\n",
            "conv2d_2 (Conv2D)            (None, 61, 61, 8)         296       \n",
            "_________________________________________________________________\n",
            "max_pooling2d_2 (MaxPooling2 (None, 30, 30, 8)         0         \n",
            "_________________________________________________________________\n",
            "batch_normalization_2 (Batch (None, 30, 30, 8)         32        \n",
            "_________________________________________________________________\n",
            "dropout_2 (Dropout)          (None, 30, 30, 8)         0         \n",
            "_________________________________________________________________\n",
            "conv2d_3 (Conv2D)            (None, 28, 28, 16)        1168      \n",
            "_________________________________________________________________\n",
            "max_pooling2d_3 (MaxPooling2 (None, 14, 14, 16)        0         \n",
            "_________________________________________________________________\n",
            "batch_normalization_3 (Batch (None, 14, 14, 16)        64        \n",
            "_________________________________________________________________\n",
            "dropout_3 (Dropout)          (None, 14, 14, 16)        0         \n",
            "_________________________________________________________________\n",
            "flatten_1 (Flatten)          (None, 3136)              0         \n",
            "_________________________________________________________________\n",
            "dense_1 (Dense)              (None, 512)               1606144   \n",
            "_________________________________________________________________\n",
            "batch_normalization_4 (Batch (None, 512)               2048      \n",
            "_________________________________________________________________\n",
            "dropout_4 (Dropout)          (None, 512)               0         \n",
            "_________________________________________________________________\n",
            "dense_2 (Dense)              (None, 1)                 513       \n",
            "=================================================================\n",
            "Total params: 1,610,393\n",
            "Trainable params: 1,609,313\n",
            "Non-trainable params: 1,080\n",
            "_________________________________________________________________\n"
          ],
          "name": "stdout"
        }
      ]
    },
    {
      "cell_type": "code",
      "metadata": {
        "id": "Lmz0xA0Aq5My",
        "colab_type": "code",
        "colab": {
          "base_uri": "https://localhost:8080/",
          "height": 5227
        },
        "outputId": "ca5afd91-5d61-409d-90c5-0faf9cde6a87"
      },
      "source": [
        "output = modelone.fit(x_train, y_train,epochs=150, batch_size=500)"
      ],
      "execution_count": 26,
      "outputs": [
        {
          "output_type": "stream",
          "text": [
            "Epoch 1/150\n",
            "1206/1206 [==============================] - 15s 12ms/step - loss: 0.0033 - acc: 0.9992\n",
            "Epoch 2/150\n",
            "1206/1206 [==============================] - 15s 13ms/step - loss: 0.0024 - acc: 1.0000\n",
            "Epoch 3/150\n",
            "1206/1206 [==============================] - 15s 13ms/step - loss: 0.0032 - acc: 1.0000\n",
            "Epoch 4/150\n",
            "1206/1206 [==============================] - 15s 13ms/step - loss: 0.0025 - acc: 1.0000\n",
            "Epoch 5/150\n",
            "1206/1206 [==============================] - 16s 13ms/step - loss: 0.0058 - acc: 0.9992\n",
            "Epoch 6/150\n",
            "1206/1206 [==============================] - 15s 13ms/step - loss: 0.0036 - acc: 1.0000\n",
            "Epoch 7/150\n",
            "1206/1206 [==============================] - 16s 13ms/step - loss: 0.0050 - acc: 0.9992\n",
            "Epoch 8/150\n",
            "1206/1206 [==============================] - 15s 13ms/step - loss: 0.0049 - acc: 0.9983\n",
            "Epoch 9/150\n",
            "1206/1206 [==============================] - 16s 14ms/step - loss: 0.0075 - acc: 0.9975\n",
            "Epoch 10/150\n",
            "1206/1206 [==============================] - 24s 20ms/step - loss: 0.0047 - acc: 0.9983\n",
            "Epoch 11/150\n",
            "1206/1206 [==============================] - 32s 27ms/step - loss: 0.0038 - acc: 0.9992\n",
            "Epoch 12/150\n",
            "1206/1206 [==============================] - 33s 27ms/step - loss: 0.0029 - acc: 0.9992\n",
            "Epoch 13/150\n",
            "1206/1206 [==============================] - 32s 27ms/step - loss: 0.0022 - acc: 1.0000\n",
            "Epoch 14/150\n",
            "1206/1206 [==============================] - 33s 28ms/step - loss: 0.0040 - acc: 0.9983\n",
            "Epoch 15/150\n",
            "1206/1206 [==============================] - 32s 26ms/step - loss: 0.0101 - acc: 0.9967\n",
            "Epoch 16/150\n",
            "1206/1206 [==============================] - 33s 28ms/step - loss: 0.0051 - acc: 0.9992\n",
            "Epoch 17/150\n",
            "1206/1206 [==============================] - 33s 27ms/step - loss: 0.0022 - acc: 0.9992\n",
            "Epoch 18/150\n",
            "1206/1206 [==============================] - 31s 26ms/step - loss: 0.0053 - acc: 0.9983\n",
            "Epoch 19/150\n",
            "1206/1206 [==============================] - 33s 28ms/step - loss: 0.0042 - acc: 0.9983\n",
            "Epoch 20/150\n",
            "1206/1206 [==============================] - 33s 27ms/step - loss: 0.0066 - acc: 0.9975\n",
            "Epoch 21/150\n",
            "1206/1206 [==============================] - 32s 26ms/step - loss: 0.0060 - acc: 0.9992\n",
            "Epoch 22/150\n",
            "1206/1206 [==============================] - 33s 28ms/step - loss: 0.0033 - acc: 0.9992\n",
            "Epoch 23/150\n",
            "1206/1206 [==============================] - 31s 26ms/step - loss: 0.0046 - acc: 0.9992\n",
            "Epoch 24/150\n",
            "1206/1206 [==============================] - 33s 27ms/step - loss: 0.0039 - acc: 0.9992\n",
            "Epoch 25/150\n",
            "1206/1206 [==============================] - 32s 27ms/step - loss: 0.0048 - acc: 0.9992\n",
            "Epoch 26/150\n",
            "1206/1206 [==============================] - 33s 27ms/step - loss: 0.0043 - acc: 0.9983\n",
            "Epoch 27/150\n",
            "1206/1206 [==============================] - 32s 27ms/step - loss: 0.0030 - acc: 1.0000\n",
            "Epoch 28/150\n",
            "1206/1206 [==============================] - 32s 27ms/step - loss: 0.0065 - acc: 0.9983\n",
            "Epoch 29/150\n",
            "1206/1206 [==============================] - 32s 27ms/step - loss: 0.0041 - acc: 1.0000\n",
            "Epoch 30/150\n",
            "1206/1206 [==============================] - 34s 28ms/step - loss: 0.0023 - acc: 1.0000\n",
            "Epoch 31/150\n",
            "1206/1206 [==============================] - 31s 26ms/step - loss: 0.0026 - acc: 1.0000\n",
            "Epoch 32/150\n",
            "1206/1206 [==============================] - 33s 27ms/step - loss: 0.0031 - acc: 1.0000\n",
            "Epoch 33/150\n",
            "1206/1206 [==============================] - 32s 27ms/step - loss: 0.0017 - acc: 1.0000\n",
            "Epoch 34/150\n",
            "1206/1206 [==============================] - 32s 27ms/step - loss: 0.0036 - acc: 0.9983\n",
            "Epoch 35/150\n",
            "1206/1206 [==============================] - 32s 27ms/step - loss: 0.0046 - acc: 0.9992\n",
            "Epoch 36/150\n",
            "1206/1206 [==============================] - 32s 27ms/step - loss: 0.0065 - acc: 0.9983\n",
            "Epoch 37/150\n",
            "1206/1206 [==============================] - 33s 27ms/step - loss: 0.0033 - acc: 1.0000\n",
            "Epoch 38/150\n",
            "1206/1206 [==============================] - 33s 27ms/step - loss: 0.0028 - acc: 1.0000\n",
            "Epoch 39/150\n",
            "1206/1206 [==============================] - 32s 26ms/step - loss: 0.0042 - acc: 0.9992\n",
            "Epoch 40/150\n",
            "1206/1206 [==============================] - 33s 28ms/step - loss: 0.0046 - acc: 0.9992\n",
            "Epoch 41/150\n",
            "1206/1206 [==============================] - 32s 27ms/step - loss: 0.0033 - acc: 1.0000\n",
            "Epoch 42/150\n",
            "1206/1206 [==============================] - 32s 27ms/step - loss: 0.0049 - acc: 0.9983\n",
            "Epoch 43/150\n",
            "1206/1206 [==============================] - 33s 28ms/step - loss: 0.0026 - acc: 1.0000\n",
            "Epoch 44/150\n",
            "1206/1206 [==============================] - 32s 27ms/step - loss: 0.0035 - acc: 0.9992\n",
            "Epoch 45/150\n",
            "1206/1206 [==============================] - 33s 27ms/step - loss: 0.0032 - acc: 1.0000\n",
            "Epoch 46/150\n",
            "1206/1206 [==============================] - 31s 26ms/step - loss: 0.0061 - acc: 0.9975\n",
            "Epoch 47/150\n",
            "1206/1206 [==============================] - 32s 26ms/step - loss: 0.0028 - acc: 0.9992\n",
            "Epoch 48/150\n",
            "1206/1206 [==============================] - 32s 26ms/step - loss: 0.0041 - acc: 0.9992\n",
            "Epoch 49/150\n",
            "1206/1206 [==============================] - 32s 27ms/step - loss: 0.0067 - acc: 0.9967\n",
            "Epoch 50/150\n",
            "1206/1206 [==============================] - 31s 26ms/step - loss: 0.0042 - acc: 0.9992\n",
            "Epoch 51/150\n",
            "1206/1206 [==============================] - 33s 27ms/step - loss: 0.0040 - acc: 0.9992\n",
            "Epoch 52/150\n",
            "1206/1206 [==============================] - 32s 27ms/step - loss: 0.0055 - acc: 0.9983\n",
            "Epoch 53/150\n",
            "1206/1206 [==============================] - 32s 27ms/step - loss: 0.0032 - acc: 0.9992\n",
            "Epoch 54/150\n",
            "1206/1206 [==============================] - 33s 27ms/step - loss: 0.0025 - acc: 0.9992\n",
            "Epoch 55/150\n",
            "1206/1206 [==============================] - 33s 27ms/step - loss: 0.0028 - acc: 0.9992\n",
            "Epoch 56/150\n",
            "1206/1206 [==============================] - 32s 27ms/step - loss: 0.0046 - acc: 0.9992\n",
            "Epoch 57/150\n",
            "1206/1206 [==============================] - 32s 26ms/step - loss: 0.0031 - acc: 1.0000\n",
            "Epoch 58/150\n",
            "1206/1206 [==============================] - 33s 27ms/step - loss: 0.0032 - acc: 0.9983\n",
            "Epoch 59/150\n",
            "1206/1206 [==============================] - 33s 27ms/step - loss: 0.0044 - acc: 0.9992\n",
            "Epoch 60/150\n",
            "1206/1206 [==============================] - 32s 26ms/step - loss: 0.0019 - acc: 1.0000\n",
            "Epoch 61/150\n",
            "1206/1206 [==============================] - 31s 26ms/step - loss: 0.0048 - acc: 0.9983\n",
            "Epoch 62/150\n",
            "1206/1206 [==============================] - 33s 27ms/step - loss: 0.0020 - acc: 1.0000\n",
            "Epoch 63/150\n",
            "1206/1206 [==============================] - 32s 26ms/step - loss: 0.0034 - acc: 1.0000\n",
            "Epoch 64/150\n",
            "1206/1206 [==============================] - 33s 27ms/step - loss: 0.0033 - acc: 1.0000\n",
            "Epoch 65/150\n",
            "1206/1206 [==============================] - 32s 27ms/step - loss: 0.0037 - acc: 0.9992\n",
            "Epoch 66/150\n",
            "1206/1206 [==============================] - 33s 27ms/step - loss: 0.0016 - acc: 1.0000\n",
            "Epoch 67/150\n",
            "1206/1206 [==============================] - 32s 27ms/step - loss: 0.0041 - acc: 0.9983\n",
            "Epoch 68/150\n",
            "1206/1206 [==============================] - 33s 27ms/step - loss: 0.0023 - acc: 1.0000\n",
            "Epoch 69/150\n",
            "1206/1206 [==============================] - 32s 27ms/step - loss: 0.0012 - acc: 1.0000\n",
            "Epoch 70/150\n",
            "1206/1206 [==============================] - 32s 26ms/step - loss: 0.0038 - acc: 0.9983\n",
            "Epoch 71/150\n",
            "1206/1206 [==============================] - 33s 27ms/step - loss: 0.0021 - acc: 1.0000\n",
            "Epoch 72/150\n",
            "1206/1206 [==============================] - 32s 27ms/step - loss: 0.0026 - acc: 1.0000\n",
            "Epoch 73/150\n",
            "1206/1206 [==============================] - 33s 27ms/step - loss: 0.0032 - acc: 1.0000\n",
            "Epoch 74/150\n",
            "1206/1206 [==============================] - 32s 27ms/step - loss: 0.0017 - acc: 1.0000\n",
            "Epoch 75/150\n",
            "1206/1206 [==============================] - 34s 28ms/step - loss: 0.0024 - acc: 1.0000\n",
            "Epoch 76/150\n",
            "1206/1206 [==============================] - 33s 27ms/step - loss: 0.0024 - acc: 0.9992\n",
            "Epoch 77/150\n",
            "1206/1206 [==============================] - 32s 27ms/step - loss: 0.0016 - acc: 1.0000\n",
            "Epoch 78/150\n",
            "1206/1206 [==============================] - 33s 27ms/step - loss: 0.0020 - acc: 1.0000\n",
            "Epoch 79/150\n",
            "1206/1206 [==============================] - 33s 27ms/step - loss: 0.0023 - acc: 0.9992\n",
            "Epoch 80/150\n",
            "1206/1206 [==============================] - 33s 27ms/step - loss: 0.0015 - acc: 1.0000\n",
            "Epoch 81/150\n",
            "1206/1206 [==============================] - 33s 27ms/step - loss: 0.0025 - acc: 0.9992\n",
            "Epoch 82/150\n",
            "1206/1206 [==============================] - 32s 27ms/step - loss: 0.0034 - acc: 0.9992\n",
            "Epoch 83/150\n",
            "1206/1206 [==============================] - 34s 28ms/step - loss: 0.0017 - acc: 1.0000\n",
            "Epoch 84/150\n",
            "1206/1206 [==============================] - 31s 26ms/step - loss: 0.0025 - acc: 0.9992\n",
            "Epoch 85/150\n",
            "1206/1206 [==============================] - 33s 27ms/step - loss: 0.0042 - acc: 0.9992\n",
            "Epoch 86/150\n",
            "1206/1206 [==============================] - 32s 26ms/step - loss: 0.0018 - acc: 1.0000\n",
            "Epoch 87/150\n",
            "1206/1206 [==============================] - 32s 27ms/step - loss: 0.0031 - acc: 0.9992\n",
            "Epoch 88/150\n",
            "1206/1206 [==============================] - 33s 27ms/step - loss: 0.0015 - acc: 1.0000\n",
            "Epoch 89/150\n",
            "1206/1206 [==============================] - 33s 27ms/step - loss: 0.0018 - acc: 1.0000\n",
            "Epoch 90/150\n",
            "1206/1206 [==============================] - 33s 27ms/step - loss: 0.0025 - acc: 0.9992\n",
            "Epoch 91/150\n",
            "1206/1206 [==============================] - 32s 27ms/step - loss: 0.0020 - acc: 1.0000\n",
            "Epoch 92/150\n",
            "1206/1206 [==============================] - 32s 26ms/step - loss: 0.0031 - acc: 0.9992\n",
            "Epoch 93/150\n",
            "1206/1206 [==============================] - 32s 27ms/step - loss: 0.0030 - acc: 0.9983\n",
            "Epoch 94/150\n",
            "1206/1206 [==============================] - 32s 27ms/step - loss: 0.0017 - acc: 1.0000\n",
            "Epoch 95/150\n",
            "1206/1206 [==============================] - 32s 27ms/step - loss: 0.0044 - acc: 0.9983\n",
            "Epoch 96/150\n",
            "1206/1206 [==============================] - 33s 27ms/step - loss: 0.0013 - acc: 1.0000\n",
            "Epoch 97/150\n",
            "1206/1206 [==============================] - 33s 27ms/step - loss: 0.0021 - acc: 0.9992\n",
            "Epoch 98/150\n",
            "1206/1206 [==============================] - 32s 27ms/step - loss: 0.0018 - acc: 1.0000\n",
            "Epoch 99/150\n",
            "1206/1206 [==============================] - 33s 27ms/step - loss: 0.0017 - acc: 1.0000\n",
            "Epoch 100/150\n",
            "1206/1206 [==============================] - 33s 28ms/step - loss: 0.0013 - acc: 1.0000\n",
            "Epoch 101/150\n",
            "1206/1206 [==============================] - 32s 27ms/step - loss: 0.0039 - acc: 0.9992\n",
            "Epoch 102/150\n",
            "1206/1206 [==============================] - 33s 27ms/step - loss: 0.0017 - acc: 1.0000\n",
            "Epoch 103/150\n",
            "1206/1206 [==============================] - 32s 26ms/step - loss: 0.0045 - acc: 0.9992\n",
            "Epoch 104/150\n",
            "1206/1206 [==============================] - 32s 26ms/step - loss: 0.0014 - acc: 1.0000\n",
            "Epoch 105/150\n",
            "1206/1206 [==============================] - 32s 26ms/step - loss: 0.0021 - acc: 0.9992\n",
            "Epoch 106/150\n",
            "1206/1206 [==============================] - 33s 27ms/step - loss: 0.0022 - acc: 1.0000\n",
            "Epoch 107/150\n",
            "1206/1206 [==============================] - 33s 27ms/step - loss: 0.0018 - acc: 1.0000\n",
            "Epoch 108/150\n",
            "1206/1206 [==============================] - 32s 26ms/step - loss: 0.0016 - acc: 1.0000\n",
            "Epoch 109/150\n",
            "1206/1206 [==============================] - 32s 27ms/step - loss: 0.0022 - acc: 0.9992\n",
            "Epoch 110/150\n",
            "1206/1206 [==============================] - 32s 26ms/step - loss: 0.0014 - acc: 1.0000\n",
            "Epoch 111/150\n",
            "1206/1206 [==============================] - 32s 27ms/step - loss: 0.0059 - acc: 0.9983\n",
            "Epoch 112/150\n",
            "1206/1206 [==============================] - 32s 27ms/step - loss: 0.0015 - acc: 1.0000\n",
            "Epoch 113/150\n",
            "1206/1206 [==============================] - 33s 27ms/step - loss: 0.0017 - acc: 1.0000\n",
            "Epoch 114/150\n",
            "1206/1206 [==============================] - 32s 27ms/step - loss: 0.0020 - acc: 0.9992\n",
            "Epoch 115/150\n",
            "1206/1206 [==============================] - 32s 27ms/step - loss: 0.0020 - acc: 1.0000\n",
            "Epoch 116/150\n",
            "1206/1206 [==============================] - 32s 27ms/step - loss: 0.0011 - acc: 1.0000\n",
            "Epoch 117/150\n",
            "1206/1206 [==============================] - 34s 28ms/step - loss: 0.0013 - acc: 1.0000\n",
            "Epoch 118/150\n",
            "1206/1206 [==============================] - 32s 27ms/step - loss: 0.0021 - acc: 0.9992\n",
            "Epoch 119/150\n",
            "1206/1206 [==============================] - 26s 21ms/step - loss: 0.0013 - acc: 1.0000\n",
            "Epoch 120/150\n",
            "1206/1206 [==============================] - 15s 13ms/step - loss: 0.0045 - acc: 0.9992\n",
            "Epoch 121/150\n",
            "1206/1206 [==============================] - 16s 13ms/step - loss: 0.0022 - acc: 0.9992\n",
            "Epoch 122/150\n",
            "1206/1206 [==============================] - 16s 13ms/step - loss: 0.0013 - acc: 0.9992\n",
            "Epoch 123/150\n",
            "1206/1206 [==============================] - 16s 13ms/step - loss: 0.0024 - acc: 0.9992\n",
            "Epoch 124/150\n",
            "1206/1206 [==============================] - 16s 13ms/step - loss: 0.0016 - acc: 1.0000\n",
            "Epoch 125/150\n",
            "1206/1206 [==============================] - 15s 13ms/step - loss: 0.0028 - acc: 0.9983\n",
            "Epoch 126/150\n",
            "1206/1206 [==============================] - 16s 13ms/step - loss: 0.0012 - acc: 1.0000\n",
            "Epoch 127/150\n",
            "1206/1206 [==============================] - 16s 13ms/step - loss: 0.0021 - acc: 1.0000\n",
            "Epoch 128/150\n",
            "1206/1206 [==============================] - 16s 13ms/step - loss: 7.5896e-04 - acc: 1.0000\n",
            "Epoch 129/150\n",
            "1206/1206 [==============================] - 16s 13ms/step - loss: 0.0026 - acc: 0.9992\n",
            "Epoch 130/150\n",
            "1206/1206 [==============================] - 16s 13ms/step - loss: 6.6668e-04 - acc: 1.0000\n",
            "Epoch 131/150\n",
            "1206/1206 [==============================] - 15s 13ms/step - loss: 0.0013 - acc: 1.0000\n",
            "Epoch 132/150\n",
            "1206/1206 [==============================] - 16s 13ms/step - loss: 0.0018 - acc: 0.9992\n",
            "Epoch 133/150\n",
            "1206/1206 [==============================] - 16s 13ms/step - loss: 0.0013 - acc: 1.0000\n",
            "Epoch 134/150\n",
            "1206/1206 [==============================] - 16s 13ms/step - loss: 0.0016 - acc: 1.0000\n",
            "Epoch 135/150\n",
            "1206/1206 [==============================] - 16s 13ms/step - loss: 0.0018 - acc: 0.9992\n",
            "Epoch 136/150\n",
            "1206/1206 [==============================] - 16s 13ms/step - loss: 0.0017 - acc: 0.9992\n",
            "Epoch 137/150\n",
            "1206/1206 [==============================] - 16s 13ms/step - loss: 0.0011 - acc: 1.0000\n",
            "Epoch 138/150\n",
            "1206/1206 [==============================] - 16s 13ms/step - loss: 0.0026 - acc: 0.9992\n",
            "Epoch 139/150\n",
            "1206/1206 [==============================] - 16s 13ms/step - loss: 0.0022 - acc: 0.9992\n",
            "Epoch 140/150\n",
            "1206/1206 [==============================] - 16s 13ms/step - loss: 9.9953e-04 - acc: 1.0000\n",
            "Epoch 141/150\n",
            "1206/1206 [==============================] - 16s 13ms/step - loss: 0.0013 - acc: 1.0000\n",
            "Epoch 142/150\n",
            "1206/1206 [==============================] - 16s 13ms/step - loss: 9.5219e-04 - acc: 1.0000\n",
            "Epoch 143/150\n",
            "1206/1206 [==============================] - 15s 13ms/step - loss: 0.0022 - acc: 0.9992\n",
            "Epoch 144/150\n",
            "1206/1206 [==============================] - 16s 13ms/step - loss: 0.0036 - acc: 0.9992\n",
            "Epoch 145/150\n",
            "1206/1206 [==============================] - 16s 13ms/step - loss: 0.0033 - acc: 0.9992\n",
            "Epoch 146/150\n",
            "1206/1206 [==============================] - 16s 13ms/step - loss: 0.0034 - acc: 0.9992\n",
            "Epoch 147/150\n",
            "1206/1206 [==============================] - 16s 13ms/step - loss: 0.0055 - acc: 0.9992\n",
            "Epoch 148/150\n",
            "1206/1206 [==============================] - 16s 13ms/step - loss: 0.0017 - acc: 1.0000\n",
            "Epoch 149/150\n",
            "1206/1206 [==============================] - 15s 13ms/step - loss: 0.0010 - acc: 1.0000\n",
            "Epoch 150/150\n",
            "1206/1206 [==============================] - 16s 13ms/step - loss: 0.0023 - acc: 0.9992\n"
          ],
          "name": "stdout"
        }
      ]
    },
    {
      "cell_type": "code",
      "metadata": {
        "id": "4bVetjSWq-Tf",
        "colab_type": "code",
        "colab": {
          "base_uri": "https://localhost:8080/",
          "height": 52
        },
        "outputId": "d501b53f-9fd3-4507-97a1-9ef560bdfae8"
      },
      "source": [
        "preds = modelone.evaluate(x = x_test,y = y_test)\n",
        "print(\"Test Accuracy : %.2f%%\" % (preds[1]*100))"
      ],
      "execution_count": 27,
      "outputs": [
        {
          "output_type": "stream",
          "text": [
            "134/134 [==============================] - 1s 7ms/step\n",
            "Test Accuracy : 91.04%\n"
          ],
          "name": "stdout"
        }
      ]
    }
  ]
}