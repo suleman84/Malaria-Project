{
  "nbformat": 4,
  "nbformat_minor": 0,
  "metadata": {
    "colab": {
      "name": "Alexnet.ipynb",
      "version": "0.3.2",
      "provenance": [],
      "collapsed_sections": [],
      "include_colab_link": true
    },
    "kernelspec": {
      "name": "python3",
      "display_name": "Python 3"
    }
  },
  "cells": [
    {
      "cell_type": "markdown",
      "metadata": {
        "id": "view-in-github",
        "colab_type": "text"
      },
      "source": [
        "<a href=\"https://colab.research.google.com/github/suleman84/Malaria-Project/blob/master/Alexnet.ipynb\" target=\"_parent\"><img src=\"https://colab.research.google.com/assets/colab-badge.svg\" alt=\"Open In Colab\"/></a>"
      ]
    },
    {
      "cell_type": "code",
      "metadata": {
        "id": "BrtDR8thkA5w",
        "colab_type": "code",
        "colab": {}
      },
      "source": [
        ""
      ],
      "execution_count": 0,
      "outputs": []
    },
    {
      "cell_type": "code",
      "metadata": {
        "id": "o-BDhX_S5Uvt",
        "colab_type": "code",
        "outputId": "621c6a50-0cf2-40e2-b334-be5b4d210527",
        "colab": {
          "base_uri": "https://localhost:8080/",
          "height": 124
        }
      },
      "source": [
        "from google.colab import drive\n",
        "drive.mount('/content/gdrive')"
      ],
      "execution_count": 2,
      "outputs": [
        {
          "output_type": "stream",
          "text": [
            "Go to this URL in a browser: https://accounts.google.com/o/oauth2/auth?client_id=947318989803-6bn6qk8qdgf4n4g3pfee6491hc0brc4i.apps.googleusercontent.com&redirect_uri=urn%3Aietf%3Awg%3Aoauth%3A2.0%3Aoob&scope=email%20https%3A%2F%2Fwww.googleapis.com%2Fauth%2Fdocs.test%20https%3A%2F%2Fwww.googleapis.com%2Fauth%2Fdrive%20https%3A%2F%2Fwww.googleapis.com%2Fauth%2Fdrive.photos.readonly%20https%3A%2F%2Fwww.googleapis.com%2Fauth%2Fpeopleapi.readonly&response_type=code\n",
            "\n",
            "Enter your authorization code:\n",
            "··········\n",
            "Mounted at /content/gdrive\n"
          ],
          "name": "stdout"
        }
      ]
    },
    {
      "cell_type": "code",
      "metadata": {
        "id": "CHRPVZ7-6BCG",
        "colab_type": "code",
        "colab": {}
      },
      "source": [
        "root_path = 'gdrive/My Drive/cell-images/'"
      ],
      "execution_count": 0,
      "outputs": []
    },
    {
      "cell_type": "code",
      "metadata": {
        "id": "f36Pj3Pe6JTD",
        "colab_type": "code",
        "outputId": "fdc1c1bd-b25c-4b09-c7b9-613fb29b4e75",
        "colab": {
          "base_uri": "https://localhost:8080/",
          "height": 34
        }
      },
      "source": [
        "import os\n",
        "import sys\n",
        "import numpy as np\n",
        "# import image\n",
        "import matplotlib.pyplot as plt\n",
        "from sklearn.model_selection import train_test_split\n",
        "from keras import Sequential\n",
        "from keras.preprocessing import image\n",
        "from keras.utils.vis_utils import model_to_dot\n",
        "from keras.utils import plot_model\n",
        "from IPython.display import SVG\n",
        "from keras.layers import Dense, Conv2D, MaxPooling2D, Dropout, BatchNormalization, Flatten, Activation"
      ],
      "execution_count": 4,
      "outputs": [
        {
          "output_type": "stream",
          "text": [
            "Using TensorFlow backend.\n"
          ],
          "name": "stderr"
        }
      ]
    },
    {
      "cell_type": "code",
      "metadata": {
        "id": "IKF3w8xG6L5o",
        "colab_type": "code",
        "colab": {}
      },
      "source": [
        "parapath = \"gdrive/My Drive/cell-images/Parasitized/\"\n",
        "uninpath = \"gdrive/My Drive/cell-images/Uninfected/\"\n",
        "parastized = os.listdir(parapath)\n",
        "uninfected = os.listdir(uninpath)"
      ],
      "execution_count": 0,
      "outputs": []
    },
    {
      "cell_type": "code",
      "metadata": {
        "id": "Cd9z9l8A6blu",
        "colab_type": "code",
        "colab": {}
      },
      "source": [
        "data = []\n",
        "label = []\n",
        "for para in parastized:\n",
        "    try:\n",
        "        img = image.load_img(parapath + para, target_size=(128, 128))\n",
        "        x = image.img_to_array(img)\n",
        "        data.append(x)\n",
        "        label.append(1)\n",
        "    except:\n",
        "        print(\"Can't add \"+para+\" in the dataset\")"
      ],
      "execution_count": 0,
      "outputs": []
    },
    {
      "cell_type": "code",
      "metadata": {
        "id": "MscD_jTa8Rcm",
        "colab_type": "code",
        "colab": {}
      },
      "source": [
        "for unin in uninfected:\n",
        "    try:\n",
        "        img = image.load_img(uninpath + unin, target_size=(128, 128))\n",
        "        x = image.img_to_array(img)\n",
        "        data.append(x)\n",
        "        label.append(0)\n",
        "    except:\n",
        "         print(\"Can't add \"+unin+\" in the dataset\")"
      ],
      "execution_count": 0,
      "outputs": []
    },
    {
      "cell_type": "code",
      "metadata": {
        "id": "aQV7nHj3_fjp",
        "colab_type": "code",
        "colab": {}
      },
      "source": [
        "data = np.array(data)\n",
        "label = np.array(label)"
      ],
      "execution_count": 0,
      "outputs": []
    },
    {
      "cell_type": "code",
      "metadata": {
        "id": "9d56BA-i_r6R",
        "colab_type": "code",
        "outputId": "7c42dabf-15ca-433d-8fb1-b0992925c9d9",
        "colab": {
          "base_uri": "https://localhost:8080/",
          "height": 52
        }
      },
      "source": [
        "print(sys.getsizeof(data))\n",
        "print(data.shape)"
      ],
      "execution_count": 9,
      "outputs": [
        {
          "output_type": "stream",
          "text": [
            "263454864\n",
            "(1340, 128, 128, 3)\n"
          ],
          "name": "stdout"
        }
      ]
    },
    {
      "cell_type": "code",
      "metadata": {
        "id": "Uc1Nw3pp_yR9",
        "colab_type": "code",
        "colab": {}
      },
      "source": [
        "data = data/255\n",
        "x_train, x_test, y_train, y_test = train_test_split(data,label,test_size = 0.1,random_state=0)"
      ],
      "execution_count": 0,
      "outputs": []
    },
    {
      "cell_type": "code",
      "metadata": {
        "id": "3ctbpQGi_3DX",
        "colab_type": "code",
        "colab": {}
      },
      "source": [
        "def MalariaModel():\n",
        "    model = Sequential()\n",
        "    #layer 1\n",
        "    model.add(Conv2D(filters = 11, kernel_size = (3, 3), activation = 'relu', padding = 'same', input_shape = (128, 128, 3)))  \n",
        "    model.add(MaxPooling2D(pool_size = (2, 2), strides = (2, 2)))\n",
        "    model.add(BatchNormalization())\n",
        "    #layer 2\n",
        "    model.add(Conv2D(filters=22, kernel_size=(3, 3), padding='same', activation = 'relu'))\n",
        "    model.add(MaxPooling2D(pool_size=(2,2), strides=(2,2)))\n",
        "    model.add(BatchNormalization())\n",
        "    #layer 3\n",
        "    model.add(Conv2D(filters=44, kernel_size=(3,3), padding='same', activation = 'relu'))\n",
        "    model.add(BatchNormalization())\n",
        "    #layer 4\n",
        "    model.add(Conv2D(filters=88, kernel_size=(3,3), padding='same', activation = 'relu'))\n",
        "    model.add(BatchNormalization())\n",
        "    #layer 5\n",
        "    model.add(Conv2D(filters=176, kernel_size=(3,3), padding='same', activation = 'relu'))\n",
        "    model.add(MaxPooling2D(pool_size=(2,2), strides=(2,2)))\n",
        "    model.add(BatchNormalization())\n",
        "    # Passing it to a dense layer\n",
        "    model.add(Flatten())\n",
        "    # 1st Dense Layer\n",
        "    model.add(Dense(256, activation = 'relu'))\n",
        "#     model.add(Activation('relu'))\n",
        "    # Add Dropout to prevent overfitting\n",
        "    model.add(Dropout(0.4))\n",
        "    model.add(BatchNormalization())\n",
        "    # 2nd Dense Layer\n",
        "    model.add(Dense(256))\n",
        "    model.add(Activation('relu'))\n",
        "    # Add Dropout\n",
        "    model.add(Dropout(0.4))\n",
        "    model.add(BatchNormalization())\n",
        "    # 3rd Dense Layer\n",
        "    model.add(Dense(256))\n",
        "    model.add(Activation('relu'))\n",
        "    # Add Dropout\n",
        "    model.add(Dropout(0.4))\n",
        "    model.add(BatchNormalization())\n",
        "    # Output Layer\n",
        "#     model.add(Dense(1, activation = 'sigmoid', name = 'prediction'))\n",
        "    model.add(Dense(1))\n",
        "    model.add(Activation('sigmoid'))\n",
        "    # (4) Compile\n",
        "    model.compile(loss='binary_crossentropy', optimizer='adam', metrics=['accuracy'])\n",
        "    return model    "
      ],
      "execution_count": 0,
      "outputs": []
    },
    {
      "cell_type": "code",
      "metadata": {
        "id": "l7Vvj6QSJRY_",
        "colab_type": "code",
        "outputId": "60a134b3-e1ba-4e32-ae66-7e6f9eb6ca83",
        "colab": {
          "base_uri": "https://localhost:8080/",
          "height": 1201
        }
      },
      "source": [
        "modelone = MalariaModel()\n",
        "modelone.summary()"
      ],
      "execution_count": 12,
      "outputs": [
        {
          "output_type": "stream",
          "text": [
            "WARNING:tensorflow:From /usr/local/lib/python3.6/dist-packages/tensorflow/python/framework/op_def_library.py:263: colocate_with (from tensorflow.python.framework.ops) is deprecated and will be removed in a future version.\n",
            "Instructions for updating:\n",
            "Colocations handled automatically by placer.\n",
            "WARNING:tensorflow:From /usr/local/lib/python3.6/dist-packages/keras/backend/tensorflow_backend.py:3445: calling dropout (from tensorflow.python.ops.nn_ops) with keep_prob is deprecated and will be removed in a future version.\n",
            "Instructions for updating:\n",
            "Please use `rate` instead of `keep_prob`. Rate should be set to `rate = 1 - keep_prob`.\n",
            "_________________________________________________________________\n",
            "Layer (type)                 Output Shape              Param #   \n",
            "=================================================================\n",
            "conv2d_1 (Conv2D)            (None, 128, 128, 11)      308       \n",
            "_________________________________________________________________\n",
            "max_pooling2d_1 (MaxPooling2 (None, 64, 64, 11)        0         \n",
            "_________________________________________________________________\n",
            "batch_normalization_1 (Batch (None, 64, 64, 11)        44        \n",
            "_________________________________________________________________\n",
            "conv2d_2 (Conv2D)            (None, 64, 64, 22)        2200      \n",
            "_________________________________________________________________\n",
            "max_pooling2d_2 (MaxPooling2 (None, 32, 32, 22)        0         \n",
            "_________________________________________________________________\n",
            "batch_normalization_2 (Batch (None, 32, 32, 22)        88        \n",
            "_________________________________________________________________\n",
            "conv2d_3 (Conv2D)            (None, 32, 32, 44)        8756      \n",
            "_________________________________________________________________\n",
            "batch_normalization_3 (Batch (None, 32, 32, 44)        176       \n",
            "_________________________________________________________________\n",
            "conv2d_4 (Conv2D)            (None, 32, 32, 88)        34936     \n",
            "_________________________________________________________________\n",
            "batch_normalization_4 (Batch (None, 32, 32, 88)        352       \n",
            "_________________________________________________________________\n",
            "conv2d_5 (Conv2D)            (None, 32, 32, 176)       139568    \n",
            "_________________________________________________________________\n",
            "max_pooling2d_3 (MaxPooling2 (None, 16, 16, 176)       0         \n",
            "_________________________________________________________________\n",
            "batch_normalization_5 (Batch (None, 16, 16, 176)       704       \n",
            "_________________________________________________________________\n",
            "flatten_1 (Flatten)          (None, 45056)             0         \n",
            "_________________________________________________________________\n",
            "dense_1 (Dense)              (None, 256)               11534592  \n",
            "_________________________________________________________________\n",
            "dropout_1 (Dropout)          (None, 256)               0         \n",
            "_________________________________________________________________\n",
            "batch_normalization_6 (Batch (None, 256)               1024      \n",
            "_________________________________________________________________\n",
            "dense_2 (Dense)              (None, 256)               65792     \n",
            "_________________________________________________________________\n",
            "activation_1 (Activation)    (None, 256)               0         \n",
            "_________________________________________________________________\n",
            "dropout_2 (Dropout)          (None, 256)               0         \n",
            "_________________________________________________________________\n",
            "batch_normalization_7 (Batch (None, 256)               1024      \n",
            "_________________________________________________________________\n",
            "dense_3 (Dense)              (None, 256)               65792     \n",
            "_________________________________________________________________\n",
            "activation_2 (Activation)    (None, 256)               0         \n",
            "_________________________________________________________________\n",
            "dropout_3 (Dropout)          (None, 256)               0         \n",
            "_________________________________________________________________\n",
            "batch_normalization_8 (Batch (None, 256)               1024      \n",
            "_________________________________________________________________\n",
            "dense_4 (Dense)              (None, 1)                 257       \n",
            "_________________________________________________________________\n",
            "activation_3 (Activation)    (None, 1)                 0         \n",
            "=================================================================\n",
            "Total params: 11,856,637\n",
            "Trainable params: 11,854,419\n",
            "Non-trainable params: 2,218\n",
            "_________________________________________________________________\n"
          ],
          "name": "stdout"
        }
      ]
    },
    {
      "cell_type": "code",
      "metadata": {
        "id": "6rTA-VtoLJIa",
        "colab_type": "code",
        "outputId": "f4cc17cb-ccb5-4100-8872-68382d1e979c",
        "colab": {
          "base_uri": "https://localhost:8080/",
          "height": 3562
        }
      },
      "source": [
        "output = modelone.fit(x_train, y_train,epochs=100, batch_size=500)"
      ],
      "execution_count": 13,
      "outputs": [
        {
          "output_type": "stream",
          "text": [
            "WARNING:tensorflow:From /usr/local/lib/python3.6/dist-packages/tensorflow/python/ops/math_ops.py:3066: to_int32 (from tensorflow.python.ops.math_ops) is deprecated and will be removed in a future version.\n",
            "Instructions for updating:\n",
            "Use tf.cast instead.\n",
            "Epoch 1/100\n",
            "1206/1206 [==============================] - 80s 67ms/step - loss: 0.7845 - acc: 0.5945\n",
            "Epoch 2/100\n",
            "1206/1206 [==============================] - 74s 62ms/step - loss: 0.5884 - acc: 0.7098\n",
            "Epoch 3/100\n",
            "1206/1206 [==============================] - 74s 61ms/step - loss: 0.5478 - acc: 0.7454\n",
            "Epoch 4/100\n",
            "1206/1206 [==============================] - 74s 61ms/step - loss: 0.4543 - acc: 0.7968\n",
            "Epoch 5/100\n",
            "1206/1206 [==============================] - 75s 62ms/step - loss: 0.3641 - acc: 0.8375\n",
            "Epoch 6/100\n",
            "1206/1206 [==============================] - 74s 61ms/step - loss: 0.3014 - acc: 0.8665\n",
            "Epoch 7/100\n",
            "1206/1206 [==============================] - 74s 61ms/step - loss: 0.2392 - acc: 0.9055\n",
            "Epoch 8/100\n",
            "1206/1206 [==============================] - 74s 61ms/step - loss: 0.1995 - acc: 0.9229\n",
            "Epoch 9/100\n",
            "1206/1206 [==============================] - 74s 61ms/step - loss: 0.1851 - acc: 0.9237\n",
            "Epoch 10/100\n",
            "1206/1206 [==============================] - 73s 61ms/step - loss: 0.1538 - acc: 0.9461\n",
            "Epoch 11/100\n",
            "1206/1206 [==============================] - 74s 61ms/step - loss: 0.1361 - acc: 0.9494\n",
            "Epoch 12/100\n",
            "1206/1206 [==============================] - 73s 61ms/step - loss: 0.1377 - acc: 0.9511\n",
            "Epoch 13/100\n",
            "1206/1206 [==============================] - 74s 61ms/step - loss: 0.0936 - acc: 0.9652\n",
            "Epoch 14/100\n",
            "1206/1206 [==============================] - 74s 61ms/step - loss: 0.0761 - acc: 0.9826\n",
            "Epoch 15/100\n",
            "1206/1206 [==============================] - 73s 61ms/step - loss: 0.0672 - acc: 0.9784\n",
            "Epoch 16/100\n",
            "1206/1206 [==============================] - 74s 61ms/step - loss: 0.0529 - acc: 0.9826\n",
            "Epoch 17/100\n",
            "1206/1206 [==============================] - 74s 61ms/step - loss: 0.0468 - acc: 0.9876\n",
            "Epoch 18/100\n",
            "1206/1206 [==============================] - 74s 61ms/step - loss: 0.0297 - acc: 0.9917\n",
            "Epoch 19/100\n",
            "1206/1206 [==============================] - 74s 61ms/step - loss: 0.0262 - acc: 0.9942\n",
            "Epoch 20/100\n",
            "1206/1206 [==============================] - 74s 61ms/step - loss: 0.0198 - acc: 0.9925\n",
            "Epoch 21/100\n",
            "1206/1206 [==============================] - 74s 61ms/step - loss: 0.0167 - acc: 0.9975\n",
            "Epoch 22/100\n",
            "1206/1206 [==============================] - 74s 62ms/step - loss: 0.0113 - acc: 0.9983\n",
            "Epoch 23/100\n",
            "1206/1206 [==============================] - 74s 61ms/step - loss: 0.0113 - acc: 1.0000\n",
            "Epoch 24/100\n",
            "1206/1206 [==============================] - 74s 61ms/step - loss: 0.0080 - acc: 0.9992\n",
            "Epoch 25/100\n",
            "1206/1206 [==============================] - 74s 61ms/step - loss: 0.0064 - acc: 0.9992\n",
            "Epoch 26/100\n",
            "1206/1206 [==============================] - 74s 62ms/step - loss: 0.0060 - acc: 1.0000\n",
            "Epoch 27/100\n",
            "1206/1206 [==============================] - 73s 61ms/step - loss: 0.0068 - acc: 0.9992\n",
            "Epoch 28/100\n",
            "1206/1206 [==============================] - 74s 61ms/step - loss: 0.0046 - acc: 0.9992\n",
            "Epoch 29/100\n",
            "1206/1206 [==============================] - 74s 61ms/step - loss: 0.0051 - acc: 1.0000\n",
            "Epoch 30/100\n",
            "1206/1206 [==============================] - 74s 61ms/step - loss: 0.0038 - acc: 0.9992\n",
            "Epoch 31/100\n",
            "1206/1206 [==============================] - 74s 61ms/step - loss: 0.0033 - acc: 1.0000\n",
            "Epoch 32/100\n",
            "1206/1206 [==============================] - 74s 61ms/step - loss: 0.0025 - acc: 1.0000\n",
            "Epoch 33/100\n",
            "1206/1206 [==============================] - 74s 61ms/step - loss: 0.0072 - acc: 0.9975\n",
            "Epoch 34/100\n",
            "1206/1206 [==============================] - 75s 62ms/step - loss: 0.0062 - acc: 0.9983\n",
            "Epoch 35/100\n",
            "1206/1206 [==============================] - 74s 61ms/step - loss: 0.0067 - acc: 0.9983\n",
            "Epoch 36/100\n",
            "1206/1206 [==============================] - 74s 61ms/step - loss: 0.0080 - acc: 0.9983\n",
            "Epoch 37/100\n",
            "1206/1206 [==============================] - 74s 61ms/step - loss: 0.0087 - acc: 0.9975\n",
            "Epoch 38/100\n",
            "1206/1206 [==============================] - 73s 61ms/step - loss: 0.0039 - acc: 1.0000\n",
            "Epoch 39/100\n",
            "1206/1206 [==============================] - 74s 61ms/step - loss: 0.0059 - acc: 0.9992\n",
            "Epoch 40/100\n",
            "1206/1206 [==============================] - 73s 61ms/step - loss: 0.0026 - acc: 1.0000\n",
            "Epoch 41/100\n",
            "1206/1206 [==============================] - 74s 61ms/step - loss: 0.0030 - acc: 1.0000\n",
            "Epoch 42/100\n",
            "1206/1206 [==============================] - 73s 61ms/step - loss: 0.0051 - acc: 0.9992\n",
            "Epoch 43/100\n",
            "1206/1206 [==============================] - 75s 62ms/step - loss: 0.0020 - acc: 1.0000\n",
            "Epoch 44/100\n",
            "1206/1206 [==============================] - 74s 61ms/step - loss: 0.0025 - acc: 1.0000\n",
            "Epoch 45/100\n",
            "1206/1206 [==============================] - 73s 61ms/step - loss: 0.0013 - acc: 1.0000\n",
            "Epoch 46/100\n",
            "1206/1206 [==============================] - 73s 61ms/step - loss: 0.0017 - acc: 1.0000\n",
            "Epoch 47/100\n",
            "1206/1206 [==============================] - 74s 61ms/step - loss: 0.0014 - acc: 1.0000\n",
            "Epoch 48/100\n",
            "1206/1206 [==============================] - 74s 61ms/step - loss: 0.0021 - acc: 1.0000\n",
            "Epoch 49/100\n",
            "1206/1206 [==============================] - 73s 61ms/step - loss: 0.0018 - acc: 1.0000\n",
            "Epoch 50/100\n",
            "1206/1206 [==============================] - 73s 61ms/step - loss: 0.0013 - acc: 1.0000\n",
            "Epoch 51/100\n",
            "1206/1206 [==============================] - 74s 61ms/step - loss: 0.0012 - acc: 1.0000\n",
            "Epoch 52/100\n",
            "1206/1206 [==============================] - 73s 61ms/step - loss: 9.0026e-04 - acc: 1.0000\n",
            "Epoch 53/100\n",
            "1206/1206 [==============================] - 73s 61ms/step - loss: 0.0011 - acc: 1.0000\n",
            "Epoch 54/100\n",
            "1206/1206 [==============================] - 73s 61ms/step - loss: 7.9543e-04 - acc: 1.0000\n",
            "Epoch 55/100\n",
            "1206/1206 [==============================] - 74s 61ms/step - loss: 0.0010 - acc: 1.0000\n",
            "Epoch 56/100\n",
            "1206/1206 [==============================] - 74s 61ms/step - loss: 0.0014 - acc: 1.0000\n",
            "Epoch 57/100\n",
            "1206/1206 [==============================] - 74s 61ms/step - loss: 7.7934e-04 - acc: 1.0000\n",
            "Epoch 58/100\n",
            "1206/1206 [==============================] - 74s 61ms/step - loss: 8.9156e-04 - acc: 1.0000\n",
            "Epoch 59/100\n",
            "1206/1206 [==============================] - 73s 61ms/step - loss: 0.0012 - acc: 1.0000\n",
            "Epoch 60/100\n",
            "1206/1206 [==============================] - 74s 61ms/step - loss: 5.1756e-04 - acc: 1.0000\n",
            "Epoch 61/100\n",
            "1206/1206 [==============================] - 73s 61ms/step - loss: 6.2143e-04 - acc: 1.0000\n",
            "Epoch 62/100\n",
            "1206/1206 [==============================] - 73s 61ms/step - loss: 0.0010 - acc: 1.0000\n",
            "Epoch 63/100\n",
            "1206/1206 [==============================] - 74s 61ms/step - loss: 5.1452e-04 - acc: 1.0000\n",
            "Epoch 64/100\n",
            "1206/1206 [==============================] - 74s 61ms/step - loss: 8.1183e-04 - acc: 1.0000\n",
            "Epoch 65/100\n",
            "1206/1206 [==============================] - 74s 61ms/step - loss: 4.3238e-04 - acc: 1.0000\n",
            "Epoch 66/100\n",
            "1206/1206 [==============================] - 73s 61ms/step - loss: 8.0662e-04 - acc: 1.0000\n",
            "Epoch 67/100\n",
            "1206/1206 [==============================] - 74s 61ms/step - loss: 4.6151e-04 - acc: 1.0000\n",
            "Epoch 68/100\n",
            "1206/1206 [==============================] - 74s 61ms/step - loss: 4.5795e-04 - acc: 1.0000\n",
            "Epoch 69/100\n",
            "1206/1206 [==============================] - 73s 61ms/step - loss: 4.2165e-04 - acc: 1.0000\n",
            "Epoch 70/100\n",
            "1206/1206 [==============================] - 74s 61ms/step - loss: 6.5720e-04 - acc: 1.0000\n",
            "Epoch 71/100\n",
            "1206/1206 [==============================] - 73s 61ms/step - loss: 4.6006e-04 - acc: 1.0000\n",
            "Epoch 72/100\n",
            "1206/1206 [==============================] - 74s 62ms/step - loss: 3.8184e-04 - acc: 1.0000\n",
            "Epoch 73/100\n",
            "1206/1206 [==============================] - 73s 61ms/step - loss: 4.1963e-04 - acc: 1.0000\n",
            "Epoch 74/100\n",
            "1206/1206 [==============================] - 73s 61ms/step - loss: 4.0153e-04 - acc: 1.0000\n",
            "Epoch 75/100\n",
            "1206/1206 [==============================] - 73s 61ms/step - loss: 3.7323e-04 - acc: 1.0000\n",
            "Epoch 76/100\n",
            "1206/1206 [==============================] - 73s 61ms/step - loss: 3.3274e-04 - acc: 1.0000\n",
            "Epoch 77/100\n",
            "1206/1206 [==============================] - 74s 61ms/step - loss: 3.5822e-04 - acc: 1.0000\n",
            "Epoch 78/100\n",
            "1206/1206 [==============================] - 74s 61ms/step - loss: 3.3032e-04 - acc: 1.0000\n",
            "Epoch 79/100\n",
            "1206/1206 [==============================] - 74s 61ms/step - loss: 3.5258e-04 - acc: 1.0000\n",
            "Epoch 80/100\n",
            "1206/1206 [==============================] - 73s 61ms/step - loss: 3.2710e-04 - acc: 1.0000\n",
            "Epoch 81/100\n",
            "1206/1206 [==============================] - 74s 62ms/step - loss: 4.0338e-04 - acc: 1.0000\n",
            "Epoch 82/100\n",
            "1206/1206 [==============================] - 74s 61ms/step - loss: 3.2564e-04 - acc: 1.0000\n",
            "Epoch 83/100\n",
            "1206/1206 [==============================] - 73s 61ms/step - loss: 3.5079e-04 - acc: 1.0000\n",
            "Epoch 84/100\n",
            "1206/1206 [==============================] - 73s 61ms/step - loss: 3.3677e-04 - acc: 1.0000\n",
            "Epoch 85/100\n",
            "1206/1206 [==============================] - 74s 61ms/step - loss: 4.3141e-04 - acc: 1.0000\n",
            "Epoch 86/100\n",
            "1206/1206 [==============================] - 73s 61ms/step - loss: 4.0210e-04 - acc: 1.0000\n",
            "Epoch 87/100\n",
            "1206/1206 [==============================] - 74s 61ms/step - loss: 3.9405e-04 - acc: 1.0000\n",
            "Epoch 88/100\n",
            "1206/1206 [==============================] - 73s 61ms/step - loss: 3.8869e-04 - acc: 1.0000\n",
            "Epoch 89/100\n",
            "1206/1206 [==============================] - 74s 61ms/step - loss: 3.6386e-04 - acc: 1.0000\n",
            "Epoch 90/100\n",
            "1206/1206 [==============================] - 74s 61ms/step - loss: 4.2036e-04 - acc: 1.0000\n",
            "Epoch 91/100\n",
            "1206/1206 [==============================] - 74s 61ms/step - loss: 4.2304e-04 - acc: 1.0000\n",
            "Epoch 92/100\n",
            "1206/1206 [==============================] - 74s 61ms/step - loss: 3.5218e-04 - acc: 1.0000\n",
            "Epoch 93/100\n",
            "1206/1206 [==============================] - 74s 61ms/step - loss: 2.9066e-04 - acc: 1.0000\n",
            "Epoch 94/100\n",
            "1206/1206 [==============================] - 74s 61ms/step - loss: 3.7494e-04 - acc: 1.0000\n",
            "Epoch 95/100\n",
            "1206/1206 [==============================] - 74s 61ms/step - loss: 2.7369e-04 - acc: 1.0000\n",
            "Epoch 96/100\n",
            "1206/1206 [==============================] - 74s 61ms/step - loss: 3.0256e-04 - acc: 1.0000\n",
            "Epoch 97/100\n",
            "1206/1206 [==============================] - 74s 61ms/step - loss: 4.4119e-04 - acc: 1.0000\n",
            "Epoch 98/100\n",
            "1206/1206 [==============================] - 74s 61ms/step - loss: 2.8572e-04 - acc: 1.0000\n",
            "Epoch 99/100\n",
            "1206/1206 [==============================] - 73s 61ms/step - loss: 3.0820e-04 - acc: 1.0000\n",
            "Epoch 100/100\n",
            "1206/1206 [==============================] - 74s 61ms/step - loss: 2.9115e-04 - acc: 1.0000\n"
          ],
          "name": "stdout"
        }
      ]
    },
    {
      "cell_type": "code",
      "metadata": {
        "id": "cLHOTU-xPJwW",
        "colab_type": "code",
        "outputId": "f55d8088-cb5d-4bb9-96dc-419c9169706c",
        "colab": {
          "base_uri": "https://localhost:8080/",
          "height": 52
        }
      },
      "source": [
        "preds = modelone.evaluate(x = x_test,y = y_test)\n",
        "print(\"Test Accuracy : %.2f%%\" % (preds[1]*100))"
      ],
      "execution_count": 14,
      "outputs": [
        {
          "output_type": "stream",
          "text": [
            "134/134 [==============================] - 3s 22ms/step\n",
            "Test Accuracy : 97.76%\n"
          ],
          "name": "stdout"
        }
      ]
    },
    {
      "cell_type": "code",
      "metadata": {
        "id": "ehTHAngPPcfG",
        "colab_type": "code",
        "colab": {
          "base_uri": "https://localhost:8080/",
          "height": 2709
        },
        "outputId": "8c909607-7d1c-4fb0-e493-f37c09c9f32a"
      },
      "source": [
        "modelpic = plot_model(modelone, to_file='model.png')\n",
        "SVG(model_to_dot(modelone).create(prog='dot', format='svg'))"
      ],
      "execution_count": 15,
      "outputs": [
        {
          "output_type": "execute_result",
          "data": {
            "text/plain": [
              "<IPython.core.display.SVG object>"
            ],
            "image/svg+xml": "<svg height=\"2016pt\" viewBox=\"0.00 0.00 279.00 2016.00\" width=\"279pt\" xmlns=\"http://www.w3.org/2000/svg\" xmlns:xlink=\"http://www.w3.org/1999/xlink\">\n<g class=\"graph\" id=\"graph0\" transform=\"scale(1 1) rotate(0) translate(4 2012)\">\n<title>G</title>\n<polygon fill=\"#ffffff\" points=\"-4,4 -4,-2012 275,-2012 275,4 -4,4\" stroke=\"transparent\"/>\n<!-- 140384728472432 -->\n<g class=\"node\" id=\"node1\">\n<title>140384728472432</title>\n<polygon fill=\"none\" points=\"69,-1898.5 69,-1934.5 202,-1934.5 202,-1898.5 69,-1898.5\" stroke=\"#000000\"/>\n<text fill=\"#000000\" font-family=\"Times,serif\" font-size=\"14.00\" text-anchor=\"middle\" x=\"135.5\" y=\"-1912.8\">conv2d_1: Conv2D</text>\n</g>\n<!-- 140384729356552 -->\n<g class=\"node\" id=\"node2\">\n<title>140384729356552</title>\n<polygon fill=\"none\" points=\"25,-1825.5 25,-1861.5 246,-1861.5 246,-1825.5 25,-1825.5\" stroke=\"#000000\"/>\n<text fill=\"#000000\" font-family=\"Times,serif\" font-size=\"14.00\" text-anchor=\"middle\" x=\"135.5\" y=\"-1839.8\">max_pooling2d_1: MaxPooling2D</text>\n</g>\n<!-- 140384728472432&#45;&gt;140384729356552 -->\n<g class=\"edge\" id=\"edge2\">\n<title>140384728472432-&gt;140384729356552</title>\n<path d=\"M135.5,-1898.4551C135.5,-1890.3828 135.5,-1880.6764 135.5,-1871.6817\" fill=\"none\" stroke=\"#000000\"/>\n<polygon fill=\"#000000\" points=\"139.0001,-1871.5903 135.5,-1861.5904 132.0001,-1871.5904 139.0001,-1871.5903\" stroke=\"#000000\"/>\n</g>\n<!-- 140384729356664 -->\n<g class=\"node\" id=\"node3\">\n<title>140384729356664</title>\n<polygon fill=\"none\" points=\"0,-1752.5 0,-1788.5 271,-1788.5 271,-1752.5 0,-1752.5\" stroke=\"#000000\"/>\n<text fill=\"#000000\" font-family=\"Times,serif\" font-size=\"14.00\" text-anchor=\"middle\" x=\"135.5\" y=\"-1766.8\">batch_normalization_1: BatchNormalization</text>\n</g>\n<!-- 140384729356552&#45;&gt;140384729356664 -->\n<g class=\"edge\" id=\"edge3\">\n<title>140384729356552-&gt;140384729356664</title>\n<path d=\"M135.5,-1825.4551C135.5,-1817.3828 135.5,-1807.6764 135.5,-1798.6817\" fill=\"none\" stroke=\"#000000\"/>\n<polygon fill=\"#000000\" points=\"139.0001,-1798.5903 135.5,-1788.5904 132.0001,-1798.5904 139.0001,-1798.5903\" stroke=\"#000000\"/>\n</g>\n<!-- 140384728515752 -->\n<g class=\"node\" id=\"node4\">\n<title>140384728515752</title>\n<polygon fill=\"none\" points=\"69,-1679.5 69,-1715.5 202,-1715.5 202,-1679.5 69,-1679.5\" stroke=\"#000000\"/>\n<text fill=\"#000000\" font-family=\"Times,serif\" font-size=\"14.00\" text-anchor=\"middle\" x=\"135.5\" y=\"-1693.8\">conv2d_2: Conv2D</text>\n</g>\n<!-- 140384729356664&#45;&gt;140384728515752 -->\n<g class=\"edge\" id=\"edge4\">\n<title>140384729356664-&gt;140384728515752</title>\n<path d=\"M135.5,-1752.4551C135.5,-1744.3828 135.5,-1734.6764 135.5,-1725.6817\" fill=\"none\" stroke=\"#000000\"/>\n<polygon fill=\"#000000\" points=\"139.0001,-1725.5903 135.5,-1715.5904 132.0001,-1725.5904 139.0001,-1725.5903\" stroke=\"#000000\"/>\n</g>\n<!-- 140384635166792 -->\n<g class=\"node\" id=\"node5\">\n<title>140384635166792</title>\n<polygon fill=\"none\" points=\"25,-1606.5 25,-1642.5 246,-1642.5 246,-1606.5 25,-1606.5\" stroke=\"#000000\"/>\n<text fill=\"#000000\" font-family=\"Times,serif\" font-size=\"14.00\" text-anchor=\"middle\" x=\"135.5\" y=\"-1620.8\">max_pooling2d_2: MaxPooling2D</text>\n</g>\n<!-- 140384728515752&#45;&gt;140384635166792 -->\n<g class=\"edge\" id=\"edge5\">\n<title>140384728515752-&gt;140384635166792</title>\n<path d=\"M135.5,-1679.4551C135.5,-1671.3828 135.5,-1661.6764 135.5,-1652.6817\" fill=\"none\" stroke=\"#000000\"/>\n<polygon fill=\"#000000\" points=\"139.0001,-1652.5903 135.5,-1642.5904 132.0001,-1652.5904 139.0001,-1652.5903\" stroke=\"#000000\"/>\n</g>\n<!-- 140384719781336 -->\n<g class=\"node\" id=\"node6\">\n<title>140384719781336</title>\n<polygon fill=\"none\" points=\"0,-1533.5 0,-1569.5 271,-1569.5 271,-1533.5 0,-1533.5\" stroke=\"#000000\"/>\n<text fill=\"#000000\" font-family=\"Times,serif\" font-size=\"14.00\" text-anchor=\"middle\" x=\"135.5\" y=\"-1547.8\">batch_normalization_2: BatchNormalization</text>\n</g>\n<!-- 140384635166792&#45;&gt;140384719781336 -->\n<g class=\"edge\" id=\"edge6\">\n<title>140384635166792-&gt;140384719781336</title>\n<path d=\"M135.5,-1606.4551C135.5,-1598.3828 135.5,-1588.6764 135.5,-1579.6817\" fill=\"none\" stroke=\"#000000\"/>\n<polygon fill=\"#000000\" points=\"139.0001,-1579.5903 135.5,-1569.5904 132.0001,-1579.5904 139.0001,-1579.5903\" stroke=\"#000000\"/>\n</g>\n<!-- 140384719778592 -->\n<g class=\"node\" id=\"node7\">\n<title>140384719778592</title>\n<polygon fill=\"none\" points=\"69,-1460.5 69,-1496.5 202,-1496.5 202,-1460.5 69,-1460.5\" stroke=\"#000000\"/>\n<text fill=\"#000000\" font-family=\"Times,serif\" font-size=\"14.00\" text-anchor=\"middle\" x=\"135.5\" y=\"-1474.8\">conv2d_3: Conv2D</text>\n</g>\n<!-- 140384719781336&#45;&gt;140384719778592 -->\n<g class=\"edge\" id=\"edge7\">\n<title>140384719781336-&gt;140384719778592</title>\n<path d=\"M135.5,-1533.4551C135.5,-1525.3828 135.5,-1515.6764 135.5,-1506.6817\" fill=\"none\" stroke=\"#000000\"/>\n<polygon fill=\"#000000\" points=\"139.0001,-1506.5903 135.5,-1496.5904 132.0001,-1506.5904 139.0001,-1506.5903\" stroke=\"#000000\"/>\n</g>\n<!-- 140384634733512 -->\n<g class=\"node\" id=\"node8\">\n<title>140384634733512</title>\n<polygon fill=\"none\" points=\"0,-1387.5 0,-1423.5 271,-1423.5 271,-1387.5 0,-1387.5\" stroke=\"#000000\"/>\n<text fill=\"#000000\" font-family=\"Times,serif\" font-size=\"14.00\" text-anchor=\"middle\" x=\"135.5\" y=\"-1401.8\">batch_normalization_3: BatchNormalization</text>\n</g>\n<!-- 140384719778592&#45;&gt;140384634733512 -->\n<g class=\"edge\" id=\"edge8\">\n<title>140384719778592-&gt;140384634733512</title>\n<path d=\"M135.5,-1460.4551C135.5,-1452.3828 135.5,-1442.6764 135.5,-1433.6817\" fill=\"none\" stroke=\"#000000\"/>\n<polygon fill=\"#000000\" points=\"139.0001,-1433.5903 135.5,-1423.5904 132.0001,-1433.5904 139.0001,-1433.5903\" stroke=\"#000000\"/>\n</g>\n<!-- 140384634333560 -->\n<g class=\"node\" id=\"node9\">\n<title>140384634333560</title>\n<polygon fill=\"none\" points=\"69,-1314.5 69,-1350.5 202,-1350.5 202,-1314.5 69,-1314.5\" stroke=\"#000000\"/>\n<text fill=\"#000000\" font-family=\"Times,serif\" font-size=\"14.00\" text-anchor=\"middle\" x=\"135.5\" y=\"-1328.8\">conv2d_4: Conv2D</text>\n</g>\n<!-- 140384634733512&#45;&gt;140384634333560 -->\n<g class=\"edge\" id=\"edge9\">\n<title>140384634733512-&gt;140384634333560</title>\n<path d=\"M135.5,-1387.4551C135.5,-1379.3828 135.5,-1369.6764 135.5,-1360.6817\" fill=\"none\" stroke=\"#000000\"/>\n<polygon fill=\"#000000\" points=\"139.0001,-1360.5903 135.5,-1350.5904 132.0001,-1360.5904 139.0001,-1360.5903\" stroke=\"#000000\"/>\n</g>\n<!-- 140384633700760 -->\n<g class=\"node\" id=\"node10\">\n<title>140384633700760</title>\n<polygon fill=\"none\" points=\"0,-1241.5 0,-1277.5 271,-1277.5 271,-1241.5 0,-1241.5\" stroke=\"#000000\"/>\n<text fill=\"#000000\" font-family=\"Times,serif\" font-size=\"14.00\" text-anchor=\"middle\" x=\"135.5\" y=\"-1255.8\">batch_normalization_4: BatchNormalization</text>\n</g>\n<!-- 140384634333560&#45;&gt;140384633700760 -->\n<g class=\"edge\" id=\"edge10\">\n<title>140384634333560-&gt;140384633700760</title>\n<path d=\"M135.5,-1314.4551C135.5,-1306.3828 135.5,-1296.6764 135.5,-1287.6817\" fill=\"none\" stroke=\"#000000\"/>\n<polygon fill=\"#000000\" points=\"139.0001,-1287.5903 135.5,-1277.5904 132.0001,-1287.5904 139.0001,-1287.5903\" stroke=\"#000000\"/>\n</g>\n<!-- 140384632469488 -->\n<g class=\"node\" id=\"node11\">\n<title>140384632469488</title>\n<polygon fill=\"none\" points=\"69,-1168.5 69,-1204.5 202,-1204.5 202,-1168.5 69,-1168.5\" stroke=\"#000000\"/>\n<text fill=\"#000000\" font-family=\"Times,serif\" font-size=\"14.00\" text-anchor=\"middle\" x=\"135.5\" y=\"-1182.8\">conv2d_5: Conv2D</text>\n</g>\n<!-- 140384633700760&#45;&gt;140384632469488 -->\n<g class=\"edge\" id=\"edge11\">\n<title>140384633700760-&gt;140384632469488</title>\n<path d=\"M135.5,-1241.4551C135.5,-1233.3828 135.5,-1223.6764 135.5,-1214.6817\" fill=\"none\" stroke=\"#000000\"/>\n<polygon fill=\"#000000\" points=\"139.0001,-1214.5903 135.5,-1204.5904 132.0001,-1214.5904 139.0001,-1214.5903\" stroke=\"#000000\"/>\n</g>\n<!-- 140384632682032 -->\n<g class=\"node\" id=\"node12\">\n<title>140384632682032</title>\n<polygon fill=\"none\" points=\"25,-1095.5 25,-1131.5 246,-1131.5 246,-1095.5 25,-1095.5\" stroke=\"#000000\"/>\n<text fill=\"#000000\" font-family=\"Times,serif\" font-size=\"14.00\" text-anchor=\"middle\" x=\"135.5\" y=\"-1109.8\">max_pooling2d_3: MaxPooling2D</text>\n</g>\n<!-- 140384632469488&#45;&gt;140384632682032 -->\n<g class=\"edge\" id=\"edge12\">\n<title>140384632469488-&gt;140384632682032</title>\n<path d=\"M135.5,-1168.4551C135.5,-1160.3828 135.5,-1150.6764 135.5,-1141.6817\" fill=\"none\" stroke=\"#000000\"/>\n<polygon fill=\"#000000\" points=\"139.0001,-1141.5903 135.5,-1131.5904 132.0001,-1141.5904 139.0001,-1141.5903\" stroke=\"#000000\"/>\n</g>\n<!-- 140384632421848 -->\n<g class=\"node\" id=\"node13\">\n<title>140384632421848</title>\n<polygon fill=\"none\" points=\"0,-1022.5 0,-1058.5 271,-1058.5 271,-1022.5 0,-1022.5\" stroke=\"#000000\"/>\n<text fill=\"#000000\" font-family=\"Times,serif\" font-size=\"14.00\" text-anchor=\"middle\" x=\"135.5\" y=\"-1036.8\">batch_normalization_5: BatchNormalization</text>\n</g>\n<!-- 140384632682032&#45;&gt;140384632421848 -->\n<g class=\"edge\" id=\"edge13\">\n<title>140384632682032-&gt;140384632421848</title>\n<path d=\"M135.5,-1095.4551C135.5,-1087.3828 135.5,-1077.6764 135.5,-1068.6817\" fill=\"none\" stroke=\"#000000\"/>\n<polygon fill=\"#000000\" points=\"139.0001,-1068.5903 135.5,-1058.5904 132.0001,-1068.5904 139.0001,-1068.5903\" stroke=\"#000000\"/>\n</g>\n<!-- 140384632418936 -->\n<g class=\"node\" id=\"node14\">\n<title>140384632418936</title>\n<polygon fill=\"none\" points=\"79,-949.5 79,-985.5 192,-985.5 192,-949.5 79,-949.5\" stroke=\"#000000\"/>\n<text fill=\"#000000\" font-family=\"Times,serif\" font-size=\"14.00\" text-anchor=\"middle\" x=\"135.5\" y=\"-963.8\">flatten_1: Flatten</text>\n</g>\n<!-- 140384632421848&#45;&gt;140384632418936 -->\n<g class=\"edge\" id=\"edge14\">\n<title>140384632421848-&gt;140384632418936</title>\n<path d=\"M135.5,-1022.4551C135.5,-1014.3828 135.5,-1004.6764 135.5,-995.6817\" fill=\"none\" stroke=\"#000000\"/>\n<polygon fill=\"#000000\" points=\"139.0001,-995.5903 135.5,-985.5904 132.0001,-995.5904 139.0001,-995.5903\" stroke=\"#000000\"/>\n</g>\n<!-- 140384631596032 -->\n<g class=\"node\" id=\"node15\">\n<title>140384631596032</title>\n<polygon fill=\"none\" points=\"82,-876.5 82,-912.5 189,-912.5 189,-876.5 82,-876.5\" stroke=\"#000000\"/>\n<text fill=\"#000000\" font-family=\"Times,serif\" font-size=\"14.00\" text-anchor=\"middle\" x=\"135.5\" y=\"-890.8\">dense_1: Dense</text>\n</g>\n<!-- 140384632418936&#45;&gt;140384631596032 -->\n<g class=\"edge\" id=\"edge15\">\n<title>140384632418936-&gt;140384631596032</title>\n<path d=\"M135.5,-949.4551C135.5,-941.3828 135.5,-931.6764 135.5,-922.6817\" fill=\"none\" stroke=\"#000000\"/>\n<polygon fill=\"#000000\" points=\"139.0001,-922.5903 135.5,-912.5904 132.0001,-922.5904 139.0001,-922.5903\" stroke=\"#000000\"/>\n</g>\n<!-- 140384630411160 -->\n<g class=\"node\" id=\"node16\">\n<title>140384630411160</title>\n<polygon fill=\"none\" points=\"68.5,-803.5 68.5,-839.5 202.5,-839.5 202.5,-803.5 68.5,-803.5\" stroke=\"#000000\"/>\n<text fill=\"#000000\" font-family=\"Times,serif\" font-size=\"14.00\" text-anchor=\"middle\" x=\"135.5\" y=\"-817.8\">dropout_1: Dropout</text>\n</g>\n<!-- 140384631596032&#45;&gt;140384630411160 -->\n<g class=\"edge\" id=\"edge16\">\n<title>140384631596032-&gt;140384630411160</title>\n<path d=\"M135.5,-876.4551C135.5,-868.3828 135.5,-858.6764 135.5,-849.6817\" fill=\"none\" stroke=\"#000000\"/>\n<polygon fill=\"#000000\" points=\"139.0001,-849.5903 135.5,-839.5904 132.0001,-849.5904 139.0001,-849.5903\" stroke=\"#000000\"/>\n</g>\n<!-- 140384630411216 -->\n<g class=\"node\" id=\"node17\">\n<title>140384630411216</title>\n<polygon fill=\"none\" points=\"0,-730.5 0,-766.5 271,-766.5 271,-730.5 0,-730.5\" stroke=\"#000000\"/>\n<text fill=\"#000000\" font-family=\"Times,serif\" font-size=\"14.00\" text-anchor=\"middle\" x=\"135.5\" y=\"-744.8\">batch_normalization_6: BatchNormalization</text>\n</g>\n<!-- 140384630411160&#45;&gt;140384630411216 -->\n<g class=\"edge\" id=\"edge17\">\n<title>140384630411160-&gt;140384630411216</title>\n<path d=\"M135.5,-803.4551C135.5,-795.3828 135.5,-785.6764 135.5,-776.6817\" fill=\"none\" stroke=\"#000000\"/>\n<polygon fill=\"#000000\" points=\"139.0001,-776.5903 135.5,-766.5904 132.0001,-776.5904 139.0001,-776.5903\" stroke=\"#000000\"/>\n</g>\n<!-- 140384630568048 -->\n<g class=\"node\" id=\"node18\">\n<title>140384630568048</title>\n<polygon fill=\"none\" points=\"82,-657.5 82,-693.5 189,-693.5 189,-657.5 82,-657.5\" stroke=\"#000000\"/>\n<text fill=\"#000000\" font-family=\"Times,serif\" font-size=\"14.00\" text-anchor=\"middle\" x=\"135.5\" y=\"-671.8\">dense_2: Dense</text>\n</g>\n<!-- 140384630411216&#45;&gt;140384630568048 -->\n<g class=\"edge\" id=\"edge18\">\n<title>140384630411216-&gt;140384630568048</title>\n<path d=\"M135.5,-730.4551C135.5,-722.3828 135.5,-712.6764 135.5,-703.6817\" fill=\"none\" stroke=\"#000000\"/>\n<polygon fill=\"#000000\" points=\"139.0001,-703.5903 135.5,-693.5904 132.0001,-703.5904 139.0001,-703.5903\" stroke=\"#000000\"/>\n</g>\n<!-- 140384629869312 -->\n<g class=\"node\" id=\"node19\">\n<title>140384629869312</title>\n<polygon fill=\"none\" points=\"58.5,-584.5 58.5,-620.5 212.5,-620.5 212.5,-584.5 58.5,-584.5\" stroke=\"#000000\"/>\n<text fill=\"#000000\" font-family=\"Times,serif\" font-size=\"14.00\" text-anchor=\"middle\" x=\"135.5\" y=\"-598.8\">activation_1: Activation</text>\n</g>\n<!-- 140384630568048&#45;&gt;140384629869312 -->\n<g class=\"edge\" id=\"edge19\">\n<title>140384630568048-&gt;140384629869312</title>\n<path d=\"M135.5,-657.4551C135.5,-649.3828 135.5,-639.6764 135.5,-630.6817\" fill=\"none\" stroke=\"#000000\"/>\n<polygon fill=\"#000000\" points=\"139.0001,-630.5903 135.5,-620.5904 132.0001,-630.5904 139.0001,-630.5903\" stroke=\"#000000\"/>\n</g>\n<!-- 140384629979008 -->\n<g class=\"node\" id=\"node20\">\n<title>140384629979008</title>\n<polygon fill=\"none\" points=\"68.5,-511.5 68.5,-547.5 202.5,-547.5 202.5,-511.5 68.5,-511.5\" stroke=\"#000000\"/>\n<text fill=\"#000000\" font-family=\"Times,serif\" font-size=\"14.00\" text-anchor=\"middle\" x=\"135.5\" y=\"-525.8\">dropout_2: Dropout</text>\n</g>\n<!-- 140384629869312&#45;&gt;140384629979008 -->\n<g class=\"edge\" id=\"edge20\">\n<title>140384629869312-&gt;140384629979008</title>\n<path d=\"M135.5,-584.4551C135.5,-576.3828 135.5,-566.6764 135.5,-557.6817\" fill=\"none\" stroke=\"#000000\"/>\n<polygon fill=\"#000000\" points=\"139.0001,-557.5903 135.5,-547.5904 132.0001,-557.5904 139.0001,-557.5903\" stroke=\"#000000\"/>\n</g>\n<!-- 140384629282408 -->\n<g class=\"node\" id=\"node21\">\n<title>140384629282408</title>\n<polygon fill=\"none\" points=\"0,-438.5 0,-474.5 271,-474.5 271,-438.5 0,-438.5\" stroke=\"#000000\"/>\n<text fill=\"#000000\" font-family=\"Times,serif\" font-size=\"14.00\" text-anchor=\"middle\" x=\"135.5\" y=\"-452.8\">batch_normalization_7: BatchNormalization</text>\n</g>\n<!-- 140384629979008&#45;&gt;140384629282408 -->\n<g class=\"edge\" id=\"edge21\">\n<title>140384629979008-&gt;140384629282408</title>\n<path d=\"M135.5,-511.4551C135.5,-503.3828 135.5,-493.6764 135.5,-484.6817\" fill=\"none\" stroke=\"#000000\"/>\n<polygon fill=\"#000000\" points=\"139.0001,-484.5903 135.5,-474.5904 132.0001,-484.5904 139.0001,-484.5903\" stroke=\"#000000\"/>\n</g>\n<!-- 140384629701152 -->\n<g class=\"node\" id=\"node22\">\n<title>140384629701152</title>\n<polygon fill=\"none\" points=\"82,-365.5 82,-401.5 189,-401.5 189,-365.5 82,-365.5\" stroke=\"#000000\"/>\n<text fill=\"#000000\" font-family=\"Times,serif\" font-size=\"14.00\" text-anchor=\"middle\" x=\"135.5\" y=\"-379.8\">dense_3: Dense</text>\n</g>\n<!-- 140384629282408&#45;&gt;140384629701152 -->\n<g class=\"edge\" id=\"edge22\">\n<title>140384629282408-&gt;140384629701152</title>\n<path d=\"M135.5,-438.4551C135.5,-430.3828 135.5,-420.6764 135.5,-411.6817\" fill=\"none\" stroke=\"#000000\"/>\n<polygon fill=\"#000000\" points=\"139.0001,-411.5903 135.5,-401.5904 132.0001,-411.5904 139.0001,-411.5903\" stroke=\"#000000\"/>\n</g>\n<!-- 140384628746224 -->\n<g class=\"node\" id=\"node23\">\n<title>140384628746224</title>\n<polygon fill=\"none\" points=\"58.5,-292.5 58.5,-328.5 212.5,-328.5 212.5,-292.5 58.5,-292.5\" stroke=\"#000000\"/>\n<text fill=\"#000000\" font-family=\"Times,serif\" font-size=\"14.00\" text-anchor=\"middle\" x=\"135.5\" y=\"-306.8\">activation_2: Activation</text>\n</g>\n<!-- 140384629701152&#45;&gt;140384628746224 -->\n<g class=\"edge\" id=\"edge23\">\n<title>140384629701152-&gt;140384628746224</title>\n<path d=\"M135.5,-365.4551C135.5,-357.3828 135.5,-347.6764 135.5,-338.6817\" fill=\"none\" stroke=\"#000000\"/>\n<polygon fill=\"#000000\" points=\"139.0001,-338.5903 135.5,-328.5904 132.0001,-338.5904 139.0001,-338.5903\" stroke=\"#000000\"/>\n</g>\n<!-- 140384628494632 -->\n<g class=\"node\" id=\"node24\">\n<title>140384628494632</title>\n<polygon fill=\"none\" points=\"68.5,-219.5 68.5,-255.5 202.5,-255.5 202.5,-219.5 68.5,-219.5\" stroke=\"#000000\"/>\n<text fill=\"#000000\" font-family=\"Times,serif\" font-size=\"14.00\" text-anchor=\"middle\" x=\"135.5\" y=\"-233.8\">dropout_3: Dropout</text>\n</g>\n<!-- 140384628746224&#45;&gt;140384628494632 -->\n<g class=\"edge\" id=\"edge24\">\n<title>140384628746224-&gt;140384628494632</title>\n<path d=\"M135.5,-292.4551C135.5,-284.3828 135.5,-274.6764 135.5,-265.6817\" fill=\"none\" stroke=\"#000000\"/>\n<polygon fill=\"#000000\" points=\"139.0001,-265.5903 135.5,-255.5904 132.0001,-265.5904 139.0001,-265.5903\" stroke=\"#000000\"/>\n</g>\n<!-- 140384627520960 -->\n<g class=\"node\" id=\"node25\">\n<title>140384627520960</title>\n<polygon fill=\"none\" points=\"0,-146.5 0,-182.5 271,-182.5 271,-146.5 0,-146.5\" stroke=\"#000000\"/>\n<text fill=\"#000000\" font-family=\"Times,serif\" font-size=\"14.00\" text-anchor=\"middle\" x=\"135.5\" y=\"-160.8\">batch_normalization_8: BatchNormalization</text>\n</g>\n<!-- 140384628494632&#45;&gt;140384627520960 -->\n<g class=\"edge\" id=\"edge25\">\n<title>140384628494632-&gt;140384627520960</title>\n<path d=\"M135.5,-219.4551C135.5,-211.3828 135.5,-201.6764 135.5,-192.6817\" fill=\"none\" stroke=\"#000000\"/>\n<polygon fill=\"#000000\" points=\"139.0001,-192.5903 135.5,-182.5904 132.0001,-192.5904 139.0001,-192.5903\" stroke=\"#000000\"/>\n</g>\n<!-- 140384628189560 -->\n<g class=\"node\" id=\"node26\">\n<title>140384628189560</title>\n<polygon fill=\"none\" points=\"82,-73.5 82,-109.5 189,-109.5 189,-73.5 82,-73.5\" stroke=\"#000000\"/>\n<text fill=\"#000000\" font-family=\"Times,serif\" font-size=\"14.00\" text-anchor=\"middle\" x=\"135.5\" y=\"-87.8\">dense_4: Dense</text>\n</g>\n<!-- 140384627520960&#45;&gt;140384628189560 -->\n<g class=\"edge\" id=\"edge26\">\n<title>140384627520960-&gt;140384628189560</title>\n<path d=\"M135.5,-146.4551C135.5,-138.3828 135.5,-128.6764 135.5,-119.6817\" fill=\"none\" stroke=\"#000000\"/>\n<polygon fill=\"#000000\" points=\"139.0001,-119.5903 135.5,-109.5904 132.0001,-119.5904 139.0001,-119.5903\" stroke=\"#000000\"/>\n</g>\n<!-- 140384626725440 -->\n<g class=\"node\" id=\"node27\">\n<title>140384626725440</title>\n<polygon fill=\"none\" points=\"58.5,-.5 58.5,-36.5 212.5,-36.5 212.5,-.5 58.5,-.5\" stroke=\"#000000\"/>\n<text fill=\"#000000\" font-family=\"Times,serif\" font-size=\"14.00\" text-anchor=\"middle\" x=\"135.5\" y=\"-14.8\">activation_3: Activation</text>\n</g>\n<!-- 140384628189560&#45;&gt;140384626725440 -->\n<g class=\"edge\" id=\"edge27\">\n<title>140384628189560-&gt;140384626725440</title>\n<path d=\"M135.5,-73.4551C135.5,-65.3828 135.5,-55.6764 135.5,-46.6817\" fill=\"none\" stroke=\"#000000\"/>\n<polygon fill=\"#000000\" points=\"139.0001,-46.5903 135.5,-36.5904 132.0001,-46.5904 139.0001,-46.5903\" stroke=\"#000000\"/>\n</g>\n<!-- 140384729356608 -->\n<g class=\"node\" id=\"node28\">\n<title>140384729356608</title>\n<polygon fill=\"none\" points=\"71,-1971.5 71,-2007.5 200,-2007.5 200,-1971.5 71,-1971.5\" stroke=\"#000000\"/>\n<text fill=\"#000000\" font-family=\"Times,serif\" font-size=\"14.00\" text-anchor=\"middle\" x=\"135.5\" y=\"-1985.8\">140384729356608</text>\n</g>\n<!-- 140384729356608&#45;&gt;140384728472432 -->\n<g class=\"edge\" id=\"edge1\">\n<title>140384729356608-&gt;140384728472432</title>\n<path d=\"M135.5,-1971.4551C135.5,-1963.3828 135.5,-1953.6764 135.5,-1944.6817\" fill=\"none\" stroke=\"#000000\"/>\n<polygon fill=\"#000000\" points=\"139.0001,-1944.5903 135.5,-1934.5904 132.0001,-1944.5904 139.0001,-1944.5903\" stroke=\"#000000\"/>\n</g>\n</g>\n</svg>"
          },
          "metadata": {
            "tags": []
          },
          "execution_count": 15
        }
      ]
    }
  ]
}