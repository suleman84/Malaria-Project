{
  "nbformat": 4,
  "nbformat_minor": 0,
  "metadata": {
    "colab": {
      "name": "Alexnet.ipynb",
      "version": "0.3.2",
      "provenance": [],
      "collapsed_sections": [],
      "include_colab_link": true
    },
    "kernelspec": {
      "name": "python3",
      "display_name": "Python 3"
    }
  },
  "cells": [
    {
      "cell_type": "markdown",
      "metadata": {
        "id": "view-in-github",
        "colab_type": "text"
      },
      "source": [
        "<a href=\"https://colab.research.google.com/github/suleman84/Malaria-Project/blob/master/Alexnet.ipynb\" target=\"_parent\"><img src=\"https://colab.research.google.com/assets/colab-badge.svg\" alt=\"Open In Colab\"/></a>"
      ]
    },
    {
      "cell_type": "code",
      "metadata": {
        "id": "o-BDhX_S5Uvt",
        "colab_type": "code",
        "outputId": "af0d659b-3611-46eb-c6fb-42c70c8a6b8f",
        "colab": {
          "base_uri": "https://localhost:8080/",
          "height": 34
        }
      },
      "source": [
        "from google.colab import drive\n",
        "drive.mount('/content/gdrive')"
      ],
      "execution_count": 1,
      "outputs": [
        {
          "output_type": "stream",
          "text": [
            "Drive already mounted at /content/gdrive; to attempt to forcibly remount, call drive.mount(\"/content/gdrive\", force_remount=True).\n"
          ],
          "name": "stdout"
        }
      ]
    },
    {
      "cell_type": "code",
      "metadata": {
        "id": "CHRPVZ7-6BCG",
        "colab_type": "code",
        "colab": {}
      },
      "source": [
        "root_path = 'gdrive/My Drive/cell-images/'"
      ],
      "execution_count": 0,
      "outputs": []
    },
    {
      "cell_type": "code",
      "metadata": {
        "id": "f36Pj3Pe6JTD",
        "colab_type": "code",
        "outputId": "854fe4ad-52f2-4ded-e099-1111b1e9be0d",
        "colab": {
          "base_uri": "https://localhost:8080/",
          "height": 34
        }
      },
      "source": [
        "import os\n",
        "import sys\n",
        "import numpy as np\n",
        "# import image\n",
        "import matplotlib.pyplot as plt\n",
        "from sklearn.model_selection import train_test_split\n",
        "from keras import Sequential\n",
        "from keras.preprocessing import image\n",
        "from keras.utils.vis_utils import model_to_dot\n",
        "from keras.utils import plot_model\n",
        "from IPython.display import SVG\n",
        "from keras.layers import Dense, Conv2D, MaxPooling2D, Dropout, BatchNormalization, Flatten, Activation"
      ],
      "execution_count": 3,
      "outputs": [
        {
          "output_type": "stream",
          "text": [
            "Using TensorFlow backend.\n"
          ],
          "name": "stderr"
        }
      ]
    },
    {
      "cell_type": "code",
      "metadata": {
        "id": "IKF3w8xG6L5o",
        "colab_type": "code",
        "colab": {}
      },
      "source": [
        "parapath = \"gdrive/My Drive/cell-images/Parasitized/\"\n",
        "uninpath = \"gdrive/My Drive/cell-images//Uninfected/\"\n",
        "parastized = os.listdir(parapath)\n",
        "uninfected = os.listdir(uninpath)"
      ],
      "execution_count": 0,
      "outputs": []
    },
    {
      "cell_type": "code",
      "metadata": {
        "id": "Cd9z9l8A6blu",
        "colab_type": "code",
        "colab": {}
      },
      "source": [
        "data = []\n",
        "label = []\n",
        "for para in parastized:\n",
        "    try:\n",
        "        img = image.load_img(parapath + para, target_size=(128, 128))\n",
        "        x = image.img_to_array(img)\n",
        "        data.append(x)\n",
        "        label.append(1)\n",
        "    except:\n",
        "        print(\"Can't add \"+para+\" in the dataset\")"
      ],
      "execution_count": 0,
      "outputs": []
    },
    {
      "cell_type": "code",
      "metadata": {
        "id": "MscD_jTa8Rcm",
        "colab_type": "code",
        "colab": {}
      },
      "source": [
        "for unin in uninfected:\n",
        "    try:\n",
        "        img = image.load_img(uninpath + unin, target_size=(128, 128))\n",
        "        x = image.img_to_array(img)\n",
        "        data.append(x)\n",
        "        label.append(0)\n",
        "    except:\n",
        "         print(\"Can't add \"+unin+\" in the dataset\")"
      ],
      "execution_count": 0,
      "outputs": []
    },
    {
      "cell_type": "code",
      "metadata": {
        "id": "aQV7nHj3_fjp",
        "colab_type": "code",
        "colab": {}
      },
      "source": [
        "data = np.array(data)\n",
        "label = np.array(label)"
      ],
      "execution_count": 0,
      "outputs": []
    },
    {
      "cell_type": "code",
      "metadata": {
        "id": "9d56BA-i_r6R",
        "colab_type": "code",
        "outputId": "14e6d674-6ba8-4b95-bce7-d4dd95f1fd2c",
        "colab": {
          "base_uri": "https://localhost:8080/",
          "height": 52
        }
      },
      "source": [
        "print(sys.getsizeof(data))\n",
        "print(data.shape)"
      ],
      "execution_count": 8,
      "outputs": [
        {
          "output_type": "stream",
          "text": [
            "263454864\n",
            "(1340, 128, 128, 3)\n"
          ],
          "name": "stdout"
        }
      ]
    },
    {
      "cell_type": "code",
      "metadata": {
        "id": "Uc1Nw3pp_yR9",
        "colab_type": "code",
        "colab": {}
      },
      "source": [
        "data = data/255\n",
        "x_train, x_test, y_train, y_test = train_test_split(data,label,test_size = 0.1,random_state=0)"
      ],
      "execution_count": 0,
      "outputs": []
    },
    {
      "cell_type": "code",
      "metadata": {
        "id": "3ctbpQGi_3DX",
        "colab_type": "code",
        "colab": {}
      },
      "source": [
        "def MalariaModel():\n",
        "    model = Sequential()\n",
        "    #layer 1\n",
        "    model.add(Conv2D(filters = 4, kernel_size = (3, 3), activation = 'relu', padding = 'same', input_shape = (128, 128, 3)))  \n",
        "    model.add(MaxPooling2D(pool_size = (2, 2), strides = (2, 2)))\n",
        "    model.add(BatchNormalization())\n",
        "    #layer 2\n",
        "    model.add(Conv2D(filters=8, kernel_size=(3, 3), padding='same', activation = 'relu'))\n",
        "    model.add(MaxPooling2D(pool_size=(2,2), strides=(2,2)))\n",
        "    model.add(BatchNormalization())\n",
        "    #layer 3\n",
        "    model.add(Conv2D(filters=16, kernel_size=(3,3), padding='same', activation = 'relu'))\n",
        "    model.add(BatchNormalization())\n",
        "    #layer 4\n",
        "    model.add(Conv2D(filters=32, kernel_size=(3,3), padding='same', activation = 'relu'))\n",
        "    model.add(BatchNormalization())\n",
        "    #layer 5\n",
        "    model.add(Conv2D(filters=64, kernel_size=(3,3), padding='same', activation = 'relu'))\n",
        "    model.add(MaxPooling2D(pool_size=(2,2), strides=(2,2)))\n",
        "    model.add(BatchNormalization())\n",
        "    # Passing it to a dense layer\n",
        "    model.add(Flatten())\n",
        "    # 1st Dense Layer\n",
        "    model.add(Dense(256, activation = 'relu'))\n",
        "#     model.add(Activation('relu'))\n",
        "    # Add Dropout to prevent overfitting\n",
        "    model.add(Dropout(0.4))\n",
        "    model.add(BatchNormalization())\n",
        "    # 2nd Dense Layer\n",
        "    model.add(Dense(256))\n",
        "    model.add(Activation('relu'))\n",
        "    # Add Dropout\n",
        "    model.add(Dropout(0.4))\n",
        "    model.add(BatchNormalization())\n",
        "    # 3rd Dense Layer\n",
        "    model.add(Dense(256))\n",
        "    model.add(Activation('relu'))\n",
        "    # Add Dropout\n",
        "    model.add(Dropout(0.4))\n",
        "    model.add(BatchNormalization())\n",
        "    # Output Layer\n",
        "#     model.add(Dense(1, activation = 'sigmoid', name = 'prediction'))\n",
        "    model.add(Dense(1))\n",
        "    model.add(Activation('sigmoid'))\n",
        "    # (4) Compile\n",
        "    model.compile(loss='binary_crossentropy', optimizer='adam', metrics=['accuracy'])\n",
        "    return model    "
      ],
      "execution_count": 0,
      "outputs": []
    },
    {
      "cell_type": "code",
      "metadata": {
        "id": "l7Vvj6QSJRY_",
        "colab_type": "code",
        "colab": {
          "base_uri": "https://localhost:8080/",
          "height": 1201
        },
        "outputId": "4dfb5ed1-808e-4196-d8f3-dc8a6ebd224f"
      },
      "source": [
        "modelone = MalariaModel()\n",
        "modelone.summary()"
      ],
      "execution_count": 11,
      "outputs": [
        {
          "output_type": "stream",
          "text": [
            "WARNING:tensorflow:From /usr/local/lib/python3.6/dist-packages/tensorflow/python/framework/op_def_library.py:263: colocate_with (from tensorflow.python.framework.ops) is deprecated and will be removed in a future version.\n",
            "Instructions for updating:\n",
            "Colocations handled automatically by placer.\n",
            "WARNING:tensorflow:From /usr/local/lib/python3.6/dist-packages/keras/backend/tensorflow_backend.py:3445: calling dropout (from tensorflow.python.ops.nn_ops) with keep_prob is deprecated and will be removed in a future version.\n",
            "Instructions for updating:\n",
            "Please use `rate` instead of `keep_prob`. Rate should be set to `rate = 1 - keep_prob`.\n",
            "_________________________________________________________________\n",
            "Layer (type)                 Output Shape              Param #   \n",
            "=================================================================\n",
            "conv2d_1 (Conv2D)            (None, 128, 128, 4)       112       \n",
            "_________________________________________________________________\n",
            "max_pooling2d_1 (MaxPooling2 (None, 64, 64, 4)         0         \n",
            "_________________________________________________________________\n",
            "batch_normalization_1 (Batch (None, 64, 64, 4)         16        \n",
            "_________________________________________________________________\n",
            "conv2d_2 (Conv2D)            (None, 64, 64, 8)         296       \n",
            "_________________________________________________________________\n",
            "max_pooling2d_2 (MaxPooling2 (None, 32, 32, 8)         0         \n",
            "_________________________________________________________________\n",
            "batch_normalization_2 (Batch (None, 32, 32, 8)         32        \n",
            "_________________________________________________________________\n",
            "conv2d_3 (Conv2D)            (None, 32, 32, 16)        1168      \n",
            "_________________________________________________________________\n",
            "batch_normalization_3 (Batch (None, 32, 32, 16)        64        \n",
            "_________________________________________________________________\n",
            "conv2d_4 (Conv2D)            (None, 32, 32, 32)        4640      \n",
            "_________________________________________________________________\n",
            "batch_normalization_4 (Batch (None, 32, 32, 32)        128       \n",
            "_________________________________________________________________\n",
            "conv2d_5 (Conv2D)            (None, 32, 32, 64)        18496     \n",
            "_________________________________________________________________\n",
            "max_pooling2d_3 (MaxPooling2 (None, 16, 16, 64)        0         \n",
            "_________________________________________________________________\n",
            "batch_normalization_5 (Batch (None, 16, 16, 64)        256       \n",
            "_________________________________________________________________\n",
            "flatten_1 (Flatten)          (None, 16384)             0         \n",
            "_________________________________________________________________\n",
            "dense_1 (Dense)              (None, 256)               4194560   \n",
            "_________________________________________________________________\n",
            "dropout_1 (Dropout)          (None, 256)               0         \n",
            "_________________________________________________________________\n",
            "batch_normalization_6 (Batch (None, 256)               1024      \n",
            "_________________________________________________________________\n",
            "dense_2 (Dense)              (None, 256)               65792     \n",
            "_________________________________________________________________\n",
            "activation_1 (Activation)    (None, 256)               0         \n",
            "_________________________________________________________________\n",
            "dropout_2 (Dropout)          (None, 256)               0         \n",
            "_________________________________________________________________\n",
            "batch_normalization_7 (Batch (None, 256)               1024      \n",
            "_________________________________________________________________\n",
            "dense_3 (Dense)              (None, 256)               65792     \n",
            "_________________________________________________________________\n",
            "activation_2 (Activation)    (None, 256)               0         \n",
            "_________________________________________________________________\n",
            "dropout_3 (Dropout)          (None, 256)               0         \n",
            "_________________________________________________________________\n",
            "batch_normalization_8 (Batch (None, 256)               1024      \n",
            "_________________________________________________________________\n",
            "dense_4 (Dense)              (None, 1)                 257       \n",
            "_________________________________________________________________\n",
            "activation_3 (Activation)    (None, 1)                 0         \n",
            "=================================================================\n",
            "Total params: 4,354,681\n",
            "Trainable params: 4,352,897\n",
            "Non-trainable params: 1,784\n",
            "_________________________________________________________________\n"
          ],
          "name": "stdout"
        }
      ]
    },
    {
      "cell_type": "code",
      "metadata": {
        "id": "6rTA-VtoLJIa",
        "colab_type": "code",
        "outputId": "620170f7-3d43-4a00-acc0-2d9aba05b738",
        "colab": {
          "base_uri": "https://localhost:8080/",
          "height": 124
        }
      },
      "source": [
        "output = modelone.fit(x_train, y_train,epochs=1, batch_size=1000)"
      ],
      "execution_count": 12,
      "outputs": [
        {
          "output_type": "stream",
          "text": [
            "WARNING:tensorflow:From /usr/local/lib/python3.6/dist-packages/tensorflow/python/ops/math_ops.py:3066: to_int32 (from tensorflow.python.ops.math_ops) is deprecated and will be removed in a future version.\n",
            "Instructions for updating:\n",
            "Use tf.cast instead.\n",
            "Epoch 1/1\n",
            "1206/1206 [==============================] - 30s 25ms/step - loss: 0.8742 - acc: 0.5100\n"
          ],
          "name": "stdout"
        }
      ]
    },
    {
      "cell_type": "code",
      "metadata": {
        "id": "cLHOTU-xPJwW",
        "colab_type": "code",
        "outputId": "7c3ac407-3bdd-41e0-cdcc-99796980e72c",
        "colab": {
          "base_uri": "https://localhost:8080/",
          "height": 52
        }
      },
      "source": [
        "preds = modelone.evaluate(x = x_test,y = y_test)\n",
        "print(\"Test Accuracy : %.2f%%\" % (preds[1]*100))"
      ],
      "execution_count": 13,
      "outputs": [
        {
          "output_type": "stream",
          "text": [
            "134/134 [==============================] - 2s 12ms/step\n",
            "Test Accuracy : 63.43%\n"
          ],
          "name": "stdout"
        }
      ]
    },
    {
      "cell_type": "code",
      "metadata": {
        "id": "ehTHAngPPcfG",
        "colab_type": "code",
        "outputId": "6ba674d0-8138-4ce7-ec30-cab77ca445e8",
        "colab": {
          "base_uri": "https://localhost:8080/",
          "height": 2709
        }
      },
      "source": [
        "modelpic = plot_model(modelone, to_file='model.png')\n",
        "SVG(model_to_dot(modelone).create(prog='dot', format='svg'))"
      ],
      "execution_count": 0,
      "outputs": [
        {
          "output_type": "execute_result",
          "data": {
            "text/plain": [
              "<IPython.core.display.SVG object>"
            ],
            "image/svg+xml": "<svg height=\"2016pt\" viewBox=\"0.00 0.00 286.00 2016.00\" width=\"286pt\" xmlns=\"http://www.w3.org/2000/svg\" xmlns:xlink=\"http://www.w3.org/1999/xlink\">\n<g class=\"graph\" id=\"graph0\" transform=\"scale(1 1) rotate(0) translate(4 2012)\">\n<title>G</title>\n<polygon fill=\"#ffffff\" points=\"-4,4 -4,-2012 282,-2012 282,4 -4,4\" stroke=\"transparent\"/>\n<!-- 140319623165096 -->\n<g class=\"node\" id=\"node1\">\n<title>140319623165096</title>\n<polygon fill=\"none\" points=\"69,-1898.5 69,-1934.5 209,-1934.5 209,-1898.5 69,-1898.5\" stroke=\"#000000\"/>\n<text fill=\"#000000\" font-family=\"Times,serif\" font-size=\"14.00\" text-anchor=\"middle\" x=\"139\" y=\"-1912.8\">conv2d_61: Conv2D</text>\n</g>\n<!-- 140319623165768 -->\n<g class=\"node\" id=\"node2\">\n<title>140319623165768</title>\n<polygon fill=\"none\" points=\"24.5,-1825.5 24.5,-1861.5 253.5,-1861.5 253.5,-1825.5 24.5,-1825.5\" stroke=\"#000000\"/>\n<text fill=\"#000000\" font-family=\"Times,serif\" font-size=\"14.00\" text-anchor=\"middle\" x=\"139\" y=\"-1839.8\">max_pooling2d_37: MaxPooling2D</text>\n</g>\n<!-- 140319623165096&#45;&gt;140319623165768 -->\n<g class=\"edge\" id=\"edge2\">\n<title>140319623165096-&gt;140319623165768</title>\n<path d=\"M139,-1898.4551C139,-1890.3828 139,-1880.6764 139,-1871.6817\" fill=\"none\" stroke=\"#000000\"/>\n<polygon fill=\"#000000\" points=\"142.5001,-1871.5903 139,-1861.5904 135.5001,-1871.5904 142.5001,-1871.5903\" stroke=\"#000000\"/>\n</g>\n<!-- 140319623165488 -->\n<g class=\"node\" id=\"node3\">\n<title>140319623165488</title>\n<polygon fill=\"none\" points=\"0,-1752.5 0,-1788.5 278,-1788.5 278,-1752.5 0,-1752.5\" stroke=\"#000000\"/>\n<text fill=\"#000000\" font-family=\"Times,serif\" font-size=\"14.00\" text-anchor=\"middle\" x=\"139\" y=\"-1766.8\">batch_normalization_85: BatchNormalization</text>\n</g>\n<!-- 140319623165768&#45;&gt;140319623165488 -->\n<g class=\"edge\" id=\"edge3\">\n<title>140319623165768-&gt;140319623165488</title>\n<path d=\"M139,-1825.4551C139,-1817.3828 139,-1807.6764 139,-1798.6817\" fill=\"none\" stroke=\"#000000\"/>\n<polygon fill=\"#000000\" points=\"142.5001,-1798.5903 139,-1788.5904 135.5001,-1798.5904 142.5001,-1798.5903\" stroke=\"#000000\"/>\n</g>\n<!-- 140319623165152 -->\n<g class=\"node\" id=\"node4\">\n<title>140319623165152</title>\n<polygon fill=\"none\" points=\"69,-1679.5 69,-1715.5 209,-1715.5 209,-1679.5 69,-1679.5\" stroke=\"#000000\"/>\n<text fill=\"#000000\" font-family=\"Times,serif\" font-size=\"14.00\" text-anchor=\"middle\" x=\"139\" y=\"-1693.8\">conv2d_62: Conv2D</text>\n</g>\n<!-- 140319623165488&#45;&gt;140319623165152 -->\n<g class=\"edge\" id=\"edge4\">\n<title>140319623165488-&gt;140319623165152</title>\n<path d=\"M139,-1752.4551C139,-1744.3828 139,-1734.6764 139,-1725.6817\" fill=\"none\" stroke=\"#000000\"/>\n<polygon fill=\"#000000\" points=\"142.5001,-1725.5903 139,-1715.5904 135.5001,-1725.5904 142.5001,-1725.5903\" stroke=\"#000000\"/>\n</g>\n<!-- 140319622859856 -->\n<g class=\"node\" id=\"node5\">\n<title>140319622859856</title>\n<polygon fill=\"none\" points=\"24.5,-1606.5 24.5,-1642.5 253.5,-1642.5 253.5,-1606.5 24.5,-1606.5\" stroke=\"#000000\"/>\n<text fill=\"#000000\" font-family=\"Times,serif\" font-size=\"14.00\" text-anchor=\"middle\" x=\"139\" y=\"-1620.8\">max_pooling2d_38: MaxPooling2D</text>\n</g>\n<!-- 140319623165152&#45;&gt;140319622859856 -->\n<g class=\"edge\" id=\"edge5\">\n<title>140319623165152-&gt;140319622859856</title>\n<path d=\"M139,-1679.4551C139,-1671.3828 139,-1661.6764 139,-1652.6817\" fill=\"none\" stroke=\"#000000\"/>\n<polygon fill=\"#000000\" points=\"142.5001,-1652.5903 139,-1642.5904 135.5001,-1652.5904 142.5001,-1652.5903\" stroke=\"#000000\"/>\n</g>\n<!-- 140319624053704 -->\n<g class=\"node\" id=\"node6\">\n<title>140319624053704</title>\n<polygon fill=\"none\" points=\"0,-1533.5 0,-1569.5 278,-1569.5 278,-1533.5 0,-1533.5\" stroke=\"#000000\"/>\n<text fill=\"#000000\" font-family=\"Times,serif\" font-size=\"14.00\" text-anchor=\"middle\" x=\"139\" y=\"-1547.8\">batch_normalization_86: BatchNormalization</text>\n</g>\n<!-- 140319622859856&#45;&gt;140319624053704 -->\n<g class=\"edge\" id=\"edge6\">\n<title>140319622859856-&gt;140319624053704</title>\n<path d=\"M139,-1606.4551C139,-1598.3828 139,-1588.6764 139,-1579.6817\" fill=\"none\" stroke=\"#000000\"/>\n<polygon fill=\"#000000\" points=\"142.5001,-1579.5903 139,-1569.5904 135.5001,-1579.5904 142.5001,-1579.5903\" stroke=\"#000000\"/>\n</g>\n<!-- 140319622359808 -->\n<g class=\"node\" id=\"node7\">\n<title>140319622359808</title>\n<polygon fill=\"none\" points=\"69,-1460.5 69,-1496.5 209,-1496.5 209,-1460.5 69,-1460.5\" stroke=\"#000000\"/>\n<text fill=\"#000000\" font-family=\"Times,serif\" font-size=\"14.00\" text-anchor=\"middle\" x=\"139\" y=\"-1474.8\">conv2d_63: Conv2D</text>\n</g>\n<!-- 140319624053704&#45;&gt;140319622359808 -->\n<g class=\"edge\" id=\"edge7\">\n<title>140319624053704-&gt;140319622359808</title>\n<path d=\"M139,-1533.4551C139,-1525.3828 139,-1515.6764 139,-1506.6817\" fill=\"none\" stroke=\"#000000\"/>\n<polygon fill=\"#000000\" points=\"142.5001,-1506.5903 139,-1496.5904 135.5001,-1506.5904 142.5001,-1506.5903\" stroke=\"#000000\"/>\n</g>\n<!-- 140319622457720 -->\n<g class=\"node\" id=\"node8\">\n<title>140319622457720</title>\n<polygon fill=\"none\" points=\"0,-1387.5 0,-1423.5 278,-1423.5 278,-1387.5 0,-1387.5\" stroke=\"#000000\"/>\n<text fill=\"#000000\" font-family=\"Times,serif\" font-size=\"14.00\" text-anchor=\"middle\" x=\"139\" y=\"-1401.8\">batch_normalization_87: BatchNormalization</text>\n</g>\n<!-- 140319622359808&#45;&gt;140319622457720 -->\n<g class=\"edge\" id=\"edge8\">\n<title>140319622359808-&gt;140319622457720</title>\n<path d=\"M139,-1460.4551C139,-1452.3828 139,-1442.6764 139,-1433.6817\" fill=\"none\" stroke=\"#000000\"/>\n<polygon fill=\"#000000\" points=\"142.5001,-1433.5903 139,-1423.5904 135.5001,-1433.5904 142.5001,-1433.5903\" stroke=\"#000000\"/>\n</g>\n<!-- 140319622123928 -->\n<g class=\"node\" id=\"node9\">\n<title>140319622123928</title>\n<polygon fill=\"none\" points=\"69,-1314.5 69,-1350.5 209,-1350.5 209,-1314.5 69,-1314.5\" stroke=\"#000000\"/>\n<text fill=\"#000000\" font-family=\"Times,serif\" font-size=\"14.00\" text-anchor=\"middle\" x=\"139\" y=\"-1328.8\">conv2d_64: Conv2D</text>\n</g>\n<!-- 140319622457720&#45;&gt;140319622123928 -->\n<g class=\"edge\" id=\"edge9\">\n<title>140319622457720-&gt;140319622123928</title>\n<path d=\"M139,-1387.4551C139,-1379.3828 139,-1369.6764 139,-1360.6817\" fill=\"none\" stroke=\"#000000\"/>\n<polygon fill=\"#000000\" points=\"142.5001,-1360.5903 139,-1350.5904 135.5001,-1360.5904 142.5001,-1360.5903\" stroke=\"#000000\"/>\n</g>\n<!-- 140319621361168 -->\n<g class=\"node\" id=\"node10\">\n<title>140319621361168</title>\n<polygon fill=\"none\" points=\"0,-1241.5 0,-1277.5 278,-1277.5 278,-1241.5 0,-1241.5\" stroke=\"#000000\"/>\n<text fill=\"#000000\" font-family=\"Times,serif\" font-size=\"14.00\" text-anchor=\"middle\" x=\"139\" y=\"-1255.8\">batch_normalization_88: BatchNormalization</text>\n</g>\n<!-- 140319622123928&#45;&gt;140319621361168 -->\n<g class=\"edge\" id=\"edge10\">\n<title>140319622123928-&gt;140319621361168</title>\n<path d=\"M139,-1314.4551C139,-1306.3828 139,-1296.6764 139,-1287.6817\" fill=\"none\" stroke=\"#000000\"/>\n<polygon fill=\"#000000\" points=\"142.5001,-1287.5903 139,-1277.5904 135.5001,-1287.5904 142.5001,-1287.5903\" stroke=\"#000000\"/>\n</g>\n<!-- 140319621043536 -->\n<g class=\"node\" id=\"node11\">\n<title>140319621043536</title>\n<polygon fill=\"none\" points=\"69,-1168.5 69,-1204.5 209,-1204.5 209,-1168.5 69,-1168.5\" stroke=\"#000000\"/>\n<text fill=\"#000000\" font-family=\"Times,serif\" font-size=\"14.00\" text-anchor=\"middle\" x=\"139\" y=\"-1182.8\">conv2d_65: Conv2D</text>\n</g>\n<!-- 140319621361168&#45;&gt;140319621043536 -->\n<g class=\"edge\" id=\"edge11\">\n<title>140319621361168-&gt;140319621043536</title>\n<path d=\"M139,-1241.4551C139,-1233.3828 139,-1223.6764 139,-1214.6817\" fill=\"none\" stroke=\"#000000\"/>\n<polygon fill=\"#000000\" points=\"142.5001,-1214.5903 139,-1204.5904 135.5001,-1214.5904 142.5001,-1214.5903\" stroke=\"#000000\"/>\n</g>\n<!-- 140319620280216 -->\n<g class=\"node\" id=\"node12\">\n<title>140319620280216</title>\n<polygon fill=\"none\" points=\"24.5,-1095.5 24.5,-1131.5 253.5,-1131.5 253.5,-1095.5 24.5,-1095.5\" stroke=\"#000000\"/>\n<text fill=\"#000000\" font-family=\"Times,serif\" font-size=\"14.00\" text-anchor=\"middle\" x=\"139\" y=\"-1109.8\">max_pooling2d_39: MaxPooling2D</text>\n</g>\n<!-- 140319621043536&#45;&gt;140319620280216 -->\n<g class=\"edge\" id=\"edge12\">\n<title>140319621043536-&gt;140319620280216</title>\n<path d=\"M139,-1168.4551C139,-1160.3828 139,-1150.6764 139,-1141.6817\" fill=\"none\" stroke=\"#000000\"/>\n<polygon fill=\"#000000\" points=\"142.5001,-1141.5903 139,-1131.5904 135.5001,-1141.5904 142.5001,-1141.5903\" stroke=\"#000000\"/>\n</g>\n<!-- 140319619978800 -->\n<g class=\"node\" id=\"node13\">\n<title>140319619978800</title>\n<polygon fill=\"none\" points=\"0,-1022.5 0,-1058.5 278,-1058.5 278,-1022.5 0,-1022.5\" stroke=\"#000000\"/>\n<text fill=\"#000000\" font-family=\"Times,serif\" font-size=\"14.00\" text-anchor=\"middle\" x=\"139\" y=\"-1036.8\">batch_normalization_89: BatchNormalization</text>\n</g>\n<!-- 140319620280216&#45;&gt;140319619978800 -->\n<g class=\"edge\" id=\"edge13\">\n<title>140319620280216-&gt;140319619978800</title>\n<path d=\"M139,-1095.4551C139,-1087.3828 139,-1077.6764 139,-1068.6817\" fill=\"none\" stroke=\"#000000\"/>\n<polygon fill=\"#000000\" points=\"142.5001,-1068.5903 139,-1058.5904 135.5001,-1068.5904 142.5001,-1068.5903\" stroke=\"#000000\"/>\n</g>\n<!-- 140319619979136 -->\n<g class=\"node\" id=\"node14\">\n<title>140319619979136</title>\n<polygon fill=\"none\" points=\"78.5,-949.5 78.5,-985.5 199.5,-985.5 199.5,-949.5 78.5,-949.5\" stroke=\"#000000\"/>\n<text fill=\"#000000\" font-family=\"Times,serif\" font-size=\"14.00\" text-anchor=\"middle\" x=\"139\" y=\"-963.8\">flatten_13: Flatten</text>\n</g>\n<!-- 140319619978800&#45;&gt;140319619979136 -->\n<g class=\"edge\" id=\"edge14\">\n<title>140319619978800-&gt;140319619979136</title>\n<path d=\"M139,-1022.4551C139,-1014.3828 139,-1004.6764 139,-995.6817\" fill=\"none\" stroke=\"#000000\"/>\n<polygon fill=\"#000000\" points=\"142.5001,-995.5903 139,-985.5904 135.5001,-995.5904 142.5001,-995.5903\" stroke=\"#000000\"/>\n</g>\n<!-- 140319623810968 -->\n<g class=\"node\" id=\"node15\">\n<title>140319623810968</title>\n<polygon fill=\"none\" points=\"82,-876.5 82,-912.5 196,-912.5 196,-876.5 82,-876.5\" stroke=\"#000000\"/>\n<text fill=\"#000000\" font-family=\"Times,serif\" font-size=\"14.00\" text-anchor=\"middle\" x=\"139\" y=\"-890.8\">dense_37: Dense</text>\n</g>\n<!-- 140319619979136&#45;&gt;140319623810968 -->\n<g class=\"edge\" id=\"edge15\">\n<title>140319619979136-&gt;140319623810968</title>\n<path d=\"M139,-949.4551C139,-941.3828 139,-931.6764 139,-922.6817\" fill=\"none\" stroke=\"#000000\"/>\n<polygon fill=\"#000000\" points=\"142.5001,-922.5903 139,-912.5904 135.5001,-922.5904 142.5001,-922.5903\" stroke=\"#000000\"/>\n</g>\n<!-- 140319623790096 -->\n<g class=\"node\" id=\"node16\">\n<title>140319623790096</title>\n<polygon fill=\"none\" points=\"68.5,-803.5 68.5,-839.5 209.5,-839.5 209.5,-803.5 68.5,-803.5\" stroke=\"#000000\"/>\n<text fill=\"#000000\" font-family=\"Times,serif\" font-size=\"14.00\" text-anchor=\"middle\" x=\"139\" y=\"-817.8\">dropout_25: Dropout</text>\n</g>\n<!-- 140319623810968&#45;&gt;140319623790096 -->\n<g class=\"edge\" id=\"edge16\">\n<title>140319623810968-&gt;140319623790096</title>\n<path d=\"M139,-876.4551C139,-868.3828 139,-858.6764 139,-849.6817\" fill=\"none\" stroke=\"#000000\"/>\n<polygon fill=\"#000000\" points=\"142.5001,-849.5903 139,-839.5904 135.5001,-849.5904 142.5001,-849.5903\" stroke=\"#000000\"/>\n</g>\n<!-- 140319623744760 -->\n<g class=\"node\" id=\"node17\">\n<title>140319623744760</title>\n<polygon fill=\"none\" points=\"0,-730.5 0,-766.5 278,-766.5 278,-730.5 0,-730.5\" stroke=\"#000000\"/>\n<text fill=\"#000000\" font-family=\"Times,serif\" font-size=\"14.00\" text-anchor=\"middle\" x=\"139\" y=\"-744.8\">batch_normalization_90: BatchNormalization</text>\n</g>\n<!-- 140319623790096&#45;&gt;140319623744760 -->\n<g class=\"edge\" id=\"edge17\">\n<title>140319623790096-&gt;140319623744760</title>\n<path d=\"M139,-803.4551C139,-795.3828 139,-785.6764 139,-776.6817\" fill=\"none\" stroke=\"#000000\"/>\n<polygon fill=\"#000000\" points=\"142.5001,-776.5903 139,-766.5904 135.5001,-776.5904 142.5001,-776.5903\" stroke=\"#000000\"/>\n</g>\n<!-- 140319623743808 -->\n<g class=\"node\" id=\"node18\">\n<title>140319623743808</title>\n<polygon fill=\"none\" points=\"82,-657.5 82,-693.5 196,-693.5 196,-657.5 82,-657.5\" stroke=\"#000000\"/>\n<text fill=\"#000000\" font-family=\"Times,serif\" font-size=\"14.00\" text-anchor=\"middle\" x=\"139\" y=\"-671.8\">dense_38: Dense</text>\n</g>\n<!-- 140319623744760&#45;&gt;140319623743808 -->\n<g class=\"edge\" id=\"edge18\">\n<title>140319623744760-&gt;140319623743808</title>\n<path d=\"M139,-730.4551C139,-722.3828 139,-712.6764 139,-703.6817\" fill=\"none\" stroke=\"#000000\"/>\n<polygon fill=\"#000000\" points=\"142.5001,-703.5903 139,-693.5904 135.5001,-703.5904 142.5001,-703.5903\" stroke=\"#000000\"/>\n</g>\n<!-- 140319623920496 -->\n<g class=\"node\" id=\"node19\">\n<title>140319623920496</title>\n<polygon fill=\"none\" points=\"58.5,-584.5 58.5,-620.5 219.5,-620.5 219.5,-584.5 58.5,-584.5\" stroke=\"#000000\"/>\n<text fill=\"#000000\" font-family=\"Times,serif\" font-size=\"14.00\" text-anchor=\"middle\" x=\"139\" y=\"-598.8\">activation_27: Activation</text>\n</g>\n<!-- 140319623743808&#45;&gt;140319623920496 -->\n<g class=\"edge\" id=\"edge19\">\n<title>140319623743808-&gt;140319623920496</title>\n<path d=\"M139,-657.4551C139,-649.3828 139,-639.6764 139,-630.6817\" fill=\"none\" stroke=\"#000000\"/>\n<polygon fill=\"#000000\" points=\"142.5001,-630.5903 139,-620.5904 135.5001,-630.5904 142.5001,-630.5903\" stroke=\"#000000\"/>\n</g>\n<!-- 140319623879536 -->\n<g class=\"node\" id=\"node20\">\n<title>140319623879536</title>\n<polygon fill=\"none\" points=\"68.5,-511.5 68.5,-547.5 209.5,-547.5 209.5,-511.5 68.5,-511.5\" stroke=\"#000000\"/>\n<text fill=\"#000000\" font-family=\"Times,serif\" font-size=\"14.00\" text-anchor=\"middle\" x=\"139\" y=\"-525.8\">dropout_26: Dropout</text>\n</g>\n<!-- 140319623920496&#45;&gt;140319623879536 -->\n<g class=\"edge\" id=\"edge20\">\n<title>140319623920496-&gt;140319623879536</title>\n<path d=\"M139,-584.4551C139,-576.3828 139,-566.6764 139,-557.6817\" fill=\"none\" stroke=\"#000000\"/>\n<polygon fill=\"#000000\" points=\"142.5001,-557.5903 139,-547.5904 135.5001,-557.5904 142.5001,-557.5903\" stroke=\"#000000\"/>\n</g>\n<!-- 140319623919208 -->\n<g class=\"node\" id=\"node21\">\n<title>140319623919208</title>\n<polygon fill=\"none\" points=\"0,-438.5 0,-474.5 278,-474.5 278,-438.5 0,-438.5\" stroke=\"#000000\"/>\n<text fill=\"#000000\" font-family=\"Times,serif\" font-size=\"14.00\" text-anchor=\"middle\" x=\"139\" y=\"-452.8\">batch_normalization_91: BatchNormalization</text>\n</g>\n<!-- 140319623879536&#45;&gt;140319623919208 -->\n<g class=\"edge\" id=\"edge21\">\n<title>140319623879536-&gt;140319623919208</title>\n<path d=\"M139,-511.4551C139,-503.3828 139,-493.6764 139,-484.6817\" fill=\"none\" stroke=\"#000000\"/>\n<polygon fill=\"#000000\" points=\"142.5001,-484.5903 139,-474.5904 135.5001,-484.5904 142.5001,-484.5903\" stroke=\"#000000\"/>\n</g>\n<!-- 140319625063112 -->\n<g class=\"node\" id=\"node22\">\n<title>140319625063112</title>\n<polygon fill=\"none\" points=\"82,-365.5 82,-401.5 196,-401.5 196,-365.5 82,-365.5\" stroke=\"#000000\"/>\n<text fill=\"#000000\" font-family=\"Times,serif\" font-size=\"14.00\" text-anchor=\"middle\" x=\"139\" y=\"-379.8\">dense_39: Dense</text>\n</g>\n<!-- 140319623919208&#45;&gt;140319625063112 -->\n<g class=\"edge\" id=\"edge22\">\n<title>140319623919208-&gt;140319625063112</title>\n<path d=\"M139,-438.4551C139,-430.3828 139,-420.6764 139,-411.6817\" fill=\"none\" stroke=\"#000000\"/>\n<polygon fill=\"#000000\" points=\"142.5001,-411.5903 139,-401.5904 135.5001,-411.5904 142.5001,-411.5903\" stroke=\"#000000\"/>\n</g>\n<!-- 140319624009208 -->\n<g class=\"node\" id=\"node23\">\n<title>140319624009208</title>\n<polygon fill=\"none\" points=\"58.5,-292.5 58.5,-328.5 219.5,-328.5 219.5,-292.5 58.5,-292.5\" stroke=\"#000000\"/>\n<text fill=\"#000000\" font-family=\"Times,serif\" font-size=\"14.00\" text-anchor=\"middle\" x=\"139\" y=\"-306.8\">activation_28: Activation</text>\n</g>\n<!-- 140319625063112&#45;&gt;140319624009208 -->\n<g class=\"edge\" id=\"edge23\">\n<title>140319625063112-&gt;140319624009208</title>\n<path d=\"M139,-365.4551C139,-357.3828 139,-347.6764 139,-338.6817\" fill=\"none\" stroke=\"#000000\"/>\n<polygon fill=\"#000000\" points=\"142.5001,-338.5903 139,-328.5904 135.5001,-338.5904 142.5001,-338.5903\" stroke=\"#000000\"/>\n</g>\n<!-- 140319625629992 -->\n<g class=\"node\" id=\"node24\">\n<title>140319625629992</title>\n<polygon fill=\"none\" points=\"68.5,-219.5 68.5,-255.5 209.5,-255.5 209.5,-219.5 68.5,-219.5\" stroke=\"#000000\"/>\n<text fill=\"#000000\" font-family=\"Times,serif\" font-size=\"14.00\" text-anchor=\"middle\" x=\"139\" y=\"-233.8\">dropout_27: Dropout</text>\n</g>\n<!-- 140319624009208&#45;&gt;140319625629992 -->\n<g class=\"edge\" id=\"edge24\">\n<title>140319624009208-&gt;140319625629992</title>\n<path d=\"M139,-292.4551C139,-284.3828 139,-274.6764 139,-265.6817\" fill=\"none\" stroke=\"#000000\"/>\n<polygon fill=\"#000000\" points=\"142.5001,-265.5903 139,-255.5904 135.5001,-265.5904 142.5001,-265.5903\" stroke=\"#000000\"/>\n</g>\n<!-- 140319619515672 -->\n<g class=\"node\" id=\"node25\">\n<title>140319619515672</title>\n<polygon fill=\"none\" points=\"0,-146.5 0,-182.5 278,-182.5 278,-146.5 0,-146.5\" stroke=\"#000000\"/>\n<text fill=\"#000000\" font-family=\"Times,serif\" font-size=\"14.00\" text-anchor=\"middle\" x=\"139\" y=\"-160.8\">batch_normalization_92: BatchNormalization</text>\n</g>\n<!-- 140319625629992&#45;&gt;140319619515672 -->\n<g class=\"edge\" id=\"edge25\">\n<title>140319625629992-&gt;140319619515672</title>\n<path d=\"M139,-219.4551C139,-211.3828 139,-201.6764 139,-192.6817\" fill=\"none\" stroke=\"#000000\"/>\n<polygon fill=\"#000000\" points=\"142.5001,-192.5903 139,-182.5904 135.5001,-192.5904 142.5001,-192.5903\" stroke=\"#000000\"/>\n</g>\n<!-- 140319623940864 -->\n<g class=\"node\" id=\"node26\">\n<title>140319623940864</title>\n<polygon fill=\"none\" points=\"82,-73.5 82,-109.5 196,-109.5 196,-73.5 82,-73.5\" stroke=\"#000000\"/>\n<text fill=\"#000000\" font-family=\"Times,serif\" font-size=\"14.00\" text-anchor=\"middle\" x=\"139\" y=\"-87.8\">dense_40: Dense</text>\n</g>\n<!-- 140319619515672&#45;&gt;140319623940864 -->\n<g class=\"edge\" id=\"edge26\">\n<title>140319619515672-&gt;140319623940864</title>\n<path d=\"M139,-146.4551C139,-138.3828 139,-128.6764 139,-119.6817\" fill=\"none\" stroke=\"#000000\"/>\n<polygon fill=\"#000000\" points=\"142.5001,-119.5903 139,-109.5904 135.5001,-119.5904 142.5001,-119.5903\" stroke=\"#000000\"/>\n</g>\n<!-- 140319616972168 -->\n<g class=\"node\" id=\"node27\">\n<title>140319616972168</title>\n<polygon fill=\"none\" points=\"58.5,-.5 58.5,-36.5 219.5,-36.5 219.5,-.5 58.5,-.5\" stroke=\"#000000\"/>\n<text fill=\"#000000\" font-family=\"Times,serif\" font-size=\"14.00\" text-anchor=\"middle\" x=\"139\" y=\"-14.8\">activation_29: Activation</text>\n</g>\n<!-- 140319623940864&#45;&gt;140319616972168 -->\n<g class=\"edge\" id=\"edge27\">\n<title>140319623940864-&gt;140319616972168</title>\n<path d=\"M139,-73.4551C139,-65.3828 139,-55.6764 139,-46.6817\" fill=\"none\" stroke=\"#000000\"/>\n<polygon fill=\"#000000\" points=\"142.5001,-46.5903 139,-36.5904 135.5001,-46.5904 142.5001,-46.5903\" stroke=\"#000000\"/>\n</g>\n<!-- 140319623165600 -->\n<g class=\"node\" id=\"node28\">\n<title>140319623165600</title>\n<polygon fill=\"none\" points=\"74.5,-1971.5 74.5,-2007.5 203.5,-2007.5 203.5,-1971.5 74.5,-1971.5\" stroke=\"#000000\"/>\n<text fill=\"#000000\" font-family=\"Times,serif\" font-size=\"14.00\" text-anchor=\"middle\" x=\"139\" y=\"-1985.8\">140319623165600</text>\n</g>\n<!-- 140319623165600&#45;&gt;140319623165096 -->\n<g class=\"edge\" id=\"edge1\">\n<title>140319623165600-&gt;140319623165096</title>\n<path d=\"M139,-1971.4551C139,-1963.3828 139,-1953.6764 139,-1944.6817\" fill=\"none\" stroke=\"#000000\"/>\n<polygon fill=\"#000000\" points=\"142.5001,-1944.5903 139,-1934.5904 135.5001,-1944.5904 142.5001,-1944.5903\" stroke=\"#000000\"/>\n</g>\n</g>\n</svg>"
          },
          "metadata": {
            "tags": []
          },
          "execution_count": 73
        }
      ]
    }
  ]
}