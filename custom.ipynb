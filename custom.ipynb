{
  "nbformat": 4,
  "nbformat_minor": 0,
  "metadata": {
    "colab": {
      "name": "custom.ipynb",
      "version": "0.3.2",
      "provenance": [],
      "collapsed_sections": [],
      "include_colab_link": true
    },
    "kernelspec": {
      "name": "python3",
      "display_name": "Python 3"
    },
    "accelerator": "GPU"
  },
  "cells": [
    {
      "cell_type": "markdown",
      "metadata": {
        "id": "view-in-github",
        "colab_type": "text"
      },
      "source": [
        "<a href=\"https://colab.research.google.com/github/suleman84/Malaria-Project/blob/master/custom.ipynb\" target=\"_parent\"><img src=\"https://colab.research.google.com/assets/colab-badge.svg\" alt=\"Open In Colab\"/></a>"
      ]
    },
    {
      "cell_type": "code",
      "metadata": {
        "id": "bD88m7_i6tFd",
        "colab_type": "code",
        "outputId": "c48c23d8-f7fa-4002-ef7e-86d3be6517ce",
        "colab": {
          "base_uri": "https://localhost:8080/",
          "height": 124
        }
      },
      "source": [
        "from google.colab import drive\n",
        "drive.mount('/content/gdrive')"
      ],
      "execution_count": 4,
      "outputs": [
        {
          "output_type": "stream",
          "text": [
            "Go to this URL in a browser: https://accounts.google.com/o/oauth2/auth?client_id=947318989803-6bn6qk8qdgf4n4g3pfee6491hc0brc4i.apps.googleusercontent.com&redirect_uri=urn%3Aietf%3Awg%3Aoauth%3A2.0%3Aoob&scope=email%20https%3A%2F%2Fwww.googleapis.com%2Fauth%2Fdocs.test%20https%3A%2F%2Fwww.googleapis.com%2Fauth%2Fdrive%20https%3A%2F%2Fwww.googleapis.com%2Fauth%2Fdrive.photos.readonly%20https%3A%2F%2Fwww.googleapis.com%2Fauth%2Fpeopleapi.readonly&response_type=code\n",
            "\n",
            "Enter your authorization code:\n",
            "··········\n",
            "Mounted at /content/gdrive\n"
          ],
          "name": "stdout"
        }
      ]
    },
    {
      "cell_type": "code",
      "metadata": {
        "id": "IMlM5Sz57TFC",
        "colab_type": "code",
        "colab": {}
      },
      "source": [
        "root_path = 'gdrive/My Drive/cell-images/'"
      ],
      "execution_count": 0,
      "outputs": []
    },
    {
      "cell_type": "code",
      "metadata": {
        "id": "T3jy5FEJ93j2",
        "colab_type": "code",
        "colab": {}
      },
      "source": [
        "import os\n",
        "import sys\n",
        "import numpy as np\n",
        "# import image\n",
        "import matplotlib.pyplot as plt\n",
        "from sklearn.model_selection import train_test_split\n",
        "from keras import Sequential\n",
        "from keras.preprocessing import image\n",
        "from keras.utils.vis_utils import model_to_dot\n",
        "from keras.utils import plot_model\n",
        "from IPython.display import SVG\n",
        "from keras.layers import Dense, Conv2D, MaxPooling2D, Dropout, BatchNormalization, Flatten"
      ],
      "execution_count": 0,
      "outputs": []
    },
    {
      "cell_type": "code",
      "metadata": {
        "id": "OKVxWm7D96tT",
        "colab_type": "code",
        "colab": {}
      },
      "source": [
        "parapath = \"gdrive/My Drive/cell-images/Parasitized/\"\n",
        "uninpath = \"gdrive/My Drive/cell-images//Uninfected/\"\n",
        "parastized = os.listdir(parapath)\n"
      ],
      "execution_count": 0,
      "outputs": []
    },
    {
      "cell_type": "code",
      "metadata": {
        "id": "RPgUMOMbBFh9",
        "colab_type": "code",
        "colab": {}
      },
      "source": [
        "uninfected = os.listdir(uninpath)"
      ],
      "execution_count": 0,
      "outputs": []
    },
    {
      "cell_type": "code",
      "metadata": {
        "id": "cKiVGzKiBYNL",
        "colab_type": "code",
        "colab": {}
      },
      "source": [
        "data = []\n",
        "label = []\n",
        "for para in parastized:\n",
        "    try:\n",
        "        img = image.load_img(parapath + para, target_size=(128, 128))\n",
        "        x = image.img_to_array(img)\n",
        "        data.append(x)\n",
        "        label.append(1)\n",
        "    except:\n",
        "        print(\"Can't add \"+para+\" in the dataset\")"
      ],
      "execution_count": 0,
      "outputs": []
    },
    {
      "cell_type": "code",
      "metadata": {
        "id": "Da86bGknKiep",
        "colab_type": "code",
        "colab": {}
      },
      "source": [
        "for unin in uninfected:\n",
        "    try:\n",
        "        img = image.load_img(uninpath + unin, target_size=(128, 128))\n",
        "        x = image.img_to_array(img)\n",
        "        data.append(x)\n",
        "        label.append(0)\n",
        "    except:\n",
        "         print(\"Can't add \"+unin+\" in the dataset\")"
      ],
      "execution_count": 0,
      "outputs": []
    },
    {
      "cell_type": "code",
      "metadata": {
        "id": "3OVEZyPLLYa6",
        "colab_type": "code",
        "colab": {}
      },
      "source": [
        "data = np.array(data)\n",
        "label = np.array(label)"
      ],
      "execution_count": 0,
      "outputs": []
    },
    {
      "cell_type": "code",
      "metadata": {
        "id": "xbeZjTIQLsyW",
        "colab_type": "code",
        "outputId": "24e2778f-d9f7-4b8d-8006-f4676e7d867b",
        "colab": {
          "base_uri": "https://localhost:8080/",
          "height": 52
        }
      },
      "source": [
        "print(sys.getsizeof(data))\n",
        "print(data.shape)"
      ],
      "execution_count": 20,
      "outputs": [
        {
          "output_type": "stream",
          "text": [
            "263454864\n",
            "(1340, 128, 128, 3)\n"
          ],
          "name": "stdout"
        }
      ]
    },
    {
      "cell_type": "code",
      "metadata": {
        "id": "209ApTTnL0u_",
        "colab_type": "code",
        "colab": {}
      },
      "source": [
        "data = data/255\n",
        "x_train, x_test, y_train, y_test = train_test_split(data,label,test_size = 0.1,random_state=0)"
      ],
      "execution_count": 0,
      "outputs": []
    },
    {
      "cell_type": "code",
      "metadata": {
        "id": "5s--ez9AL_sz",
        "colab_type": "code",
        "colab": {}
      },
      "source": [
        "def MalariaModel():\n",
        "    model = Sequential()\n",
        "    model.add(Conv2D(filters = 4, kernel_size = (3, 3), activation = 'relu', padding = 'same', name = 'a11', input_shape = (128, 128, 3)))  \n",
        "    model.add(MaxPooling2D(pool_size = (2, 2), strides = (2, 2), name = 'a12'))\n",
        "    model.add(BatchNormalization(name = 'a13'))\n",
        "    #input = (128,128,4)\n",
        "    model.add(Conv2D(filters = 8, kernel_size = (3, 3), activation = 'relu', padding = 'same', name = 'a21'))   \n",
        "    model.add(MaxPooling2D(pool_size = (2, 2), strides = (2, 2), name = 'a22'))\n",
        "    model.add(BatchNormalization(name = 'a23'))\n",
        "    #input = (64,64,8)\n",
        "    model.add(Conv2D(filters = 16, kernel_size = (3, 3), activation = 'relu', padding = 'same', name = 'a31'))   \n",
        "    model.add(MaxPooling2D(pool_size = (2, 2), strides = (2, 2), name = 'a32'))\n",
        "    model.add(BatchNormalization(name = 'a33'))\n",
        "    #input = (32,32,16)\n",
        "    model.add(Flatten())\n",
        "    model.add(Dense(256, activation = 'relu', name = 'fc1'))\n",
        "    model.add(Dense(1, activation = 'sigmoid', name = 'prediction'))\n",
        "    model.compile(loss='binary_crossentropy', optimizer='adam', metrics=['accuracy'])\n",
        "    return model"
      ],
      "execution_count": 0,
      "outputs": []
    },
    {
      "cell_type": "code",
      "metadata": {
        "id": "0AglobOFMHj5",
        "colab_type": "code",
        "outputId": "6b3c74d0-e8a0-4f11-cee0-9a8c4296f3f4",
        "colab": {
          "base_uri": "https://localhost:8080/",
          "height": 555
        }
      },
      "source": [
        "modelone = MalariaModel()\n",
        "modelone.summary()"
      ],
      "execution_count": 23,
      "outputs": [
        {
          "output_type": "stream",
          "text": [
            "_________________________________________________________________\n",
            "Layer (type)                 Output Shape              Param #   \n",
            "=================================================================\n",
            "a11 (Conv2D)                 (None, 128, 128, 4)       112       \n",
            "_________________________________________________________________\n",
            "a12 (MaxPooling2D)           (None, 64, 64, 4)         0         \n",
            "_________________________________________________________________\n",
            "a13 (BatchNormalization)     (None, 64, 64, 4)         16        \n",
            "_________________________________________________________________\n",
            "a21 (Conv2D)                 (None, 64, 64, 8)         296       \n",
            "_________________________________________________________________\n",
            "a22 (MaxPooling2D)           (None, 32, 32, 8)         0         \n",
            "_________________________________________________________________\n",
            "a23 (BatchNormalization)     (None, 32, 32, 8)         32        \n",
            "_________________________________________________________________\n",
            "a31 (Conv2D)                 (None, 32, 32, 16)        1168      \n",
            "_________________________________________________________________\n",
            "a32 (MaxPooling2D)           (None, 16, 16, 16)        0         \n",
            "_________________________________________________________________\n",
            "a33 (BatchNormalization)     (None, 16, 16, 16)        64        \n",
            "_________________________________________________________________\n",
            "flatten_2 (Flatten)          (None, 4096)              0         \n",
            "_________________________________________________________________\n",
            "fc1 (Dense)                  (None, 256)               1048832   \n",
            "_________________________________________________________________\n",
            "prediction (Dense)           (None, 1)                 257       \n",
            "=================================================================\n",
            "Total params: 1,050,777\n",
            "Trainable params: 1,050,721\n",
            "Non-trainable params: 56\n",
            "_________________________________________________________________\n"
          ],
          "name": "stdout"
        }
      ]
    },
    {
      "cell_type": "code",
      "metadata": {
        "id": "46yfZgaWMT2o",
        "colab_type": "code",
        "outputId": "1a58242c-fcb8-4e3d-8ea8-2faecbd94d8e",
        "colab": {
          "base_uri": "https://localhost:8080/",
          "height": 52
        }
      },
      "source": [
        "output = modelone.fit(x_train, y_train,epochs=1, batch_size=1000)"
      ],
      "execution_count": 24,
      "outputs": [
        {
          "output_type": "stream",
          "text": [
            "Epoch 1/1\n",
            "1206/1206 [==============================] - 1s 957us/step - loss: 1.9379 - acc: 0.4975\n"
          ],
          "name": "stdout"
        }
      ]
    },
    {
      "cell_type": "code",
      "metadata": {
        "id": "rhmVyHSrOizG",
        "colab_type": "code",
        "outputId": "6de785cd-a99d-4d38-be25-5d3c42d39432",
        "colab": {
          "base_uri": "https://localhost:8080/",
          "height": 52
        }
      },
      "source": [
        "preds = modelone.evaluate(x = x_test,y = y_test)\n",
        "print(\"Test Accuracy : %.2f%%\" % (preds[1]*100))"
      ],
      "execution_count": 25,
      "outputs": [
        {
          "output_type": "stream",
          "text": [
            "134/134 [==============================] - 0s 1ms/step\n",
            "Test Accuracy : 51.49%\n"
          ],
          "name": "stdout"
        }
      ]
    },
    {
      "cell_type": "code",
      "metadata": {
        "id": "IDzxs8S3Owgh",
        "colab_type": "code",
        "colab": {
          "base_uri": "https://localhost:8080/",
          "height": 1249
        },
        "outputId": "232edacb-a7ba-4204-a0b7-125690d71ad3"
      },
      "source": [
        "modelpic = plot_model(modelone, to_file='model.png')\n",
        "SVG(model_to_dot(modelone).create(prog='dot', format='svg'))"
      ],
      "execution_count": 18,
      "outputs": [
        {
          "output_type": "execute_result",
          "data": {
            "text/plain": [
              "<IPython.core.display.SVG object>"
            ],
            "image/svg+xml": "<svg height=\"921pt\" viewBox=\"0.00 0.00 168.00 921.00\" width=\"168pt\" xmlns=\"http://www.w3.org/2000/svg\" xmlns:xlink=\"http://www.w3.org/1999/xlink\">\n<g class=\"graph\" id=\"graph0\" transform=\"scale(1 1) rotate(0) translate(4 917)\">\n<title>G</title>\n<polygon fill=\"#ffffff\" points=\"-4,4 -4,-917 164,-917 164,4 -4,4\" stroke=\"transparent\"/>\n<!-- 140219757306208 -->\n<g class=\"node\" id=\"node1\">\n<title>140219757306208</title>\n<polygon fill=\"none\" points=\"32.5,-803.5 32.5,-839.5 127.5,-839.5 127.5,-803.5 32.5,-803.5\" stroke=\"#000000\"/>\n<text fill=\"#000000\" font-family=\"Times,serif\" font-size=\"14.00\" text-anchor=\"middle\" x=\"80\" y=\"-817.8\">a11: Conv2D</text>\n</g>\n<!-- 140219749797112 -->\n<g class=\"node\" id=\"node2\">\n<title>140219749797112</title>\n<polygon fill=\"none\" points=\"12.5,-730.5 12.5,-766.5 147.5,-766.5 147.5,-730.5 12.5,-730.5\" stroke=\"#000000\"/>\n<text fill=\"#000000\" font-family=\"Times,serif\" font-size=\"14.00\" text-anchor=\"middle\" x=\"80\" y=\"-744.8\">a12: MaxPooling2D</text>\n</g>\n<!-- 140219757306208&#45;&gt;140219749797112 -->\n<g class=\"edge\" id=\"edge2\">\n<title>140219757306208-&gt;140219749797112</title>\n<path d=\"M80,-803.4551C80,-795.3828 80,-785.6764 80,-776.6817\" fill=\"none\" stroke=\"#000000\"/>\n<polygon fill=\"#000000\" points=\"83.5001,-776.5903 80,-766.5904 76.5001,-776.5904 83.5001,-776.5903\" stroke=\"#000000\"/>\n</g>\n<!-- 140219749797560 -->\n<g class=\"node\" id=\"node3\">\n<title>140219749797560</title>\n<polygon fill=\"none\" points=\"0,-657.5 0,-693.5 160,-693.5 160,-657.5 0,-657.5\" stroke=\"#000000\"/>\n<text fill=\"#000000\" font-family=\"Times,serif\" font-size=\"14.00\" text-anchor=\"middle\" x=\"80\" y=\"-671.8\">a13: BatchNormalization</text>\n</g>\n<!-- 140219749797112&#45;&gt;140219749797560 -->\n<g class=\"edge\" id=\"edge3\">\n<title>140219749797112-&gt;140219749797560</title>\n<path d=\"M80,-730.4551C80,-722.3828 80,-712.6764 80,-703.6817\" fill=\"none\" stroke=\"#000000\"/>\n<polygon fill=\"#000000\" points=\"83.5001,-703.5903 80,-693.5904 76.5001,-703.5904 83.5001,-703.5903\" stroke=\"#000000\"/>\n</g>\n<!-- 140219749547760 -->\n<g class=\"node\" id=\"node4\">\n<title>140219749547760</title>\n<polygon fill=\"none\" points=\"32.5,-584.5 32.5,-620.5 127.5,-620.5 127.5,-584.5 32.5,-584.5\" stroke=\"#000000\"/>\n<text fill=\"#000000\" font-family=\"Times,serif\" font-size=\"14.00\" text-anchor=\"middle\" x=\"80\" y=\"-598.8\">a21: Conv2D</text>\n</g>\n<!-- 140219749797560&#45;&gt;140219749547760 -->\n<g class=\"edge\" id=\"edge4\">\n<title>140219749797560-&gt;140219749547760</title>\n<path d=\"M80,-657.4551C80,-649.3828 80,-639.6764 80,-630.6817\" fill=\"none\" stroke=\"#000000\"/>\n<polygon fill=\"#000000\" points=\"83.5001,-630.5903 80,-620.5904 76.5001,-630.5904 83.5001,-630.5903\" stroke=\"#000000\"/>\n</g>\n<!-- 140219513509256 -->\n<g class=\"node\" id=\"node5\">\n<title>140219513509256</title>\n<polygon fill=\"none\" points=\"12.5,-511.5 12.5,-547.5 147.5,-547.5 147.5,-511.5 12.5,-511.5\" stroke=\"#000000\"/>\n<text fill=\"#000000\" font-family=\"Times,serif\" font-size=\"14.00\" text-anchor=\"middle\" x=\"80\" y=\"-525.8\">a22: MaxPooling2D</text>\n</g>\n<!-- 140219749547760&#45;&gt;140219513509256 -->\n<g class=\"edge\" id=\"edge5\">\n<title>140219749547760-&gt;140219513509256</title>\n<path d=\"M80,-584.4551C80,-576.3828 80,-566.6764 80,-557.6817\" fill=\"none\" stroke=\"#000000\"/>\n<polygon fill=\"#000000\" points=\"83.5001,-557.5903 80,-547.5904 76.5001,-557.5904 83.5001,-557.5903\" stroke=\"#000000\"/>\n</g>\n<!-- 140219514103344 -->\n<g class=\"node\" id=\"node6\">\n<title>140219514103344</title>\n<polygon fill=\"none\" points=\"0,-438.5 0,-474.5 160,-474.5 160,-438.5 0,-438.5\" stroke=\"#000000\"/>\n<text fill=\"#000000\" font-family=\"Times,serif\" font-size=\"14.00\" text-anchor=\"middle\" x=\"80\" y=\"-452.8\">a23: BatchNormalization</text>\n</g>\n<!-- 140219513509256&#45;&gt;140219514103344 -->\n<g class=\"edge\" id=\"edge6\">\n<title>140219513509256-&gt;140219514103344</title>\n<path d=\"M80,-511.4551C80,-503.3828 80,-493.6764 80,-484.6817\" fill=\"none\" stroke=\"#000000\"/>\n<polygon fill=\"#000000\" points=\"83.5001,-484.5903 80,-474.5904 76.5001,-484.5904 83.5001,-484.5903\" stroke=\"#000000\"/>\n</g>\n<!-- 140219513140728 -->\n<g class=\"node\" id=\"node7\">\n<title>140219513140728</title>\n<polygon fill=\"none\" points=\"32.5,-365.5 32.5,-401.5 127.5,-401.5 127.5,-365.5 32.5,-365.5\" stroke=\"#000000\"/>\n<text fill=\"#000000\" font-family=\"Times,serif\" font-size=\"14.00\" text-anchor=\"middle\" x=\"80\" y=\"-379.8\">a31: Conv2D</text>\n</g>\n<!-- 140219514103344&#45;&gt;140219513140728 -->\n<g class=\"edge\" id=\"edge7\">\n<title>140219514103344-&gt;140219513140728</title>\n<path d=\"M80,-438.4551C80,-430.3828 80,-420.6764 80,-411.6817\" fill=\"none\" stroke=\"#000000\"/>\n<polygon fill=\"#000000\" points=\"83.5001,-411.5903 80,-401.5904 76.5001,-411.5904 83.5001,-411.5903\" stroke=\"#000000\"/>\n</g>\n<!-- 140219513338568 -->\n<g class=\"node\" id=\"node8\">\n<title>140219513338568</title>\n<polygon fill=\"none\" points=\"12.5,-292.5 12.5,-328.5 147.5,-328.5 147.5,-292.5 12.5,-292.5\" stroke=\"#000000\"/>\n<text fill=\"#000000\" font-family=\"Times,serif\" font-size=\"14.00\" text-anchor=\"middle\" x=\"80\" y=\"-306.8\">a32: MaxPooling2D</text>\n</g>\n<!-- 140219513140728&#45;&gt;140219513338568 -->\n<g class=\"edge\" id=\"edge8\">\n<title>140219513140728-&gt;140219513338568</title>\n<path d=\"M80,-365.4551C80,-357.3828 80,-347.6764 80,-338.6817\" fill=\"none\" stroke=\"#000000\"/>\n<polygon fill=\"#000000\" points=\"83.5001,-338.5903 80,-328.5904 76.5001,-338.5904 83.5001,-338.5903\" stroke=\"#000000\"/>\n</g>\n<!-- 140219513051624 -->\n<g class=\"node\" id=\"node9\">\n<title>140219513051624</title>\n<polygon fill=\"none\" points=\"0,-219.5 0,-255.5 160,-255.5 160,-219.5 0,-219.5\" stroke=\"#000000\"/>\n<text fill=\"#000000\" font-family=\"Times,serif\" font-size=\"14.00\" text-anchor=\"middle\" x=\"80\" y=\"-233.8\">a33: BatchNormalization</text>\n</g>\n<!-- 140219513338568&#45;&gt;140219513051624 -->\n<g class=\"edge\" id=\"edge9\">\n<title>140219513338568-&gt;140219513051624</title>\n<path d=\"M80,-292.4551C80,-284.3828 80,-274.6764 80,-265.6817\" fill=\"none\" stroke=\"#000000\"/>\n<polygon fill=\"#000000\" points=\"83.5001,-265.5903 80,-255.5904 76.5001,-265.5904 83.5001,-265.5903\" stroke=\"#000000\"/>\n</g>\n<!-- 140219513052912 -->\n<g class=\"node\" id=\"node10\">\n<title>140219513052912</title>\n<polygon fill=\"none\" points=\"23.5,-146.5 23.5,-182.5 136.5,-182.5 136.5,-146.5 23.5,-146.5\" stroke=\"#000000\"/>\n<text fill=\"#000000\" font-family=\"Times,serif\" font-size=\"14.00\" text-anchor=\"middle\" x=\"80\" y=\"-160.8\">flatten_1: Flatten</text>\n</g>\n<!-- 140219513051624&#45;&gt;140219513052912 -->\n<g class=\"edge\" id=\"edge10\">\n<title>140219513051624-&gt;140219513052912</title>\n<path d=\"M80,-219.4551C80,-211.3828 80,-201.6764 80,-192.6817\" fill=\"none\" stroke=\"#000000\"/>\n<polygon fill=\"#000000\" points=\"83.5001,-192.5903 80,-182.5904 76.5001,-192.5904 83.5001,-192.5903\" stroke=\"#000000\"/>\n</g>\n<!-- 140219512179344 -->\n<g class=\"node\" id=\"node11\">\n<title>140219512179344</title>\n<polygon fill=\"none\" points=\"41.5,-73.5 41.5,-109.5 118.5,-109.5 118.5,-73.5 41.5,-73.5\" stroke=\"#000000\"/>\n<text fill=\"#000000\" font-family=\"Times,serif\" font-size=\"14.00\" text-anchor=\"middle\" x=\"80\" y=\"-87.8\">fc1: Dense</text>\n</g>\n<!-- 140219513052912&#45;&gt;140219512179344 -->\n<g class=\"edge\" id=\"edge11\">\n<title>140219513052912-&gt;140219512179344</title>\n<path d=\"M80,-146.4551C80,-138.3828 80,-128.6764 80,-119.6817\" fill=\"none\" stroke=\"#000000\"/>\n<polygon fill=\"#000000\" points=\"83.5001,-119.5903 80,-109.5904 76.5001,-119.5904 83.5001,-119.5903\" stroke=\"#000000\"/>\n</g>\n<!-- 140219511491104 -->\n<g class=\"node\" id=\"node12\">\n<title>140219511491104</title>\n<polygon fill=\"none\" points=\"21.5,-.5 21.5,-36.5 138.5,-36.5 138.5,-.5 21.5,-.5\" stroke=\"#000000\"/>\n<text fill=\"#000000\" font-family=\"Times,serif\" font-size=\"14.00\" text-anchor=\"middle\" x=\"80\" y=\"-14.8\">prediction: Dense</text>\n</g>\n<!-- 140219512179344&#45;&gt;140219511491104 -->\n<g class=\"edge\" id=\"edge12\">\n<title>140219512179344-&gt;140219511491104</title>\n<path d=\"M80,-73.4551C80,-65.3828 80,-55.6764 80,-46.6817\" fill=\"none\" stroke=\"#000000\"/>\n<polygon fill=\"#000000\" points=\"83.5001,-46.5903 80,-36.5904 76.5001,-46.5904 83.5001,-46.5903\" stroke=\"#000000\"/>\n</g>\n<!-- 140219749395144 -->\n<g class=\"node\" id=\"node13\">\n<title>140219749395144</title>\n<polygon fill=\"none\" points=\"15.5,-876.5 15.5,-912.5 144.5,-912.5 144.5,-876.5 15.5,-876.5\" stroke=\"#000000\"/>\n<text fill=\"#000000\" font-family=\"Times,serif\" font-size=\"14.00\" text-anchor=\"middle\" x=\"80\" y=\"-890.8\">140219749395144</text>\n</g>\n<!-- 140219749395144&#45;&gt;140219757306208 -->\n<g class=\"edge\" id=\"edge1\">\n<title>140219749395144-&gt;140219757306208</title>\n<path d=\"M80,-876.4551C80,-868.3828 80,-858.6764 80,-849.6817\" fill=\"none\" stroke=\"#000000\"/>\n<polygon fill=\"#000000\" points=\"83.5001,-849.5903 80,-839.5904 76.5001,-849.5904 83.5001,-849.5903\" stroke=\"#000000\"/>\n</g>\n</g>\n</svg>"
          },
          "metadata": {
            "tags": []
          },
          "execution_count": 18
        }
      ]
    }
  ]
}